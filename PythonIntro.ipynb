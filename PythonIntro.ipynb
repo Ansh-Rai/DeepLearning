{
  "nbformat": 4,
  "nbformat_minor": 0,
  "metadata": {
    "colab": {
      "provenance": [],
      "authorship_tag": "ABX9TyNpYM7oO4wj+j97gZzKKEr3",
      "include_colab_link": true
    },
    "kernelspec": {
      "name": "python3",
      "display_name": "Python 3"
    },
    "language_info": {
      "name": "python"
    }
  },
  "cells": [
    {
      "cell_type": "markdown",
      "metadata": {
        "id": "view-in-github",
        "colab_type": "text"
      },
      "source": [
        "<a href=\"https://colab.research.google.com/github/Ansh-Rai/DeepLearning/blob/main/PythonIntro.ipynb\" target=\"_parent\"><img src=\"https://colab.research.google.com/assets/colab-badge.svg\" alt=\"Open In Colab\"/></a>"
      ]
    },
    {
      "cell_type": "code",
      "execution_count": null,
      "metadata": {
        "id": "h1DSjkPwyYcb",
        "colab": {
          "base_uri": "https://localhost:8080/"
        },
        "outputId": "3c230b19-6159-42f2-bd63-2d9ffb12fc4f"
      },
      "outputs": [
        {
          "output_type": "stream",
          "name": "stdout",
          "text": [
            "sample_data\n"
          ]
        }
      ],
      "source": [
        "!ls"
      ]
    },
    {
      "cell_type": "code",
      "source": [
        "!cat /proc/cpuinfo"
      ],
      "metadata": {
        "colab": {
          "base_uri": "https://localhost:8080/"
        },
        "id": "84JP2A4iGNp6",
        "outputId": "d4847de9-4215-4ace-9168-3a89164c1958"
      },
      "execution_count": null,
      "outputs": [
        {
          "output_type": "stream",
          "name": "stdout",
          "text": [
            "processor\t: 0\n",
            "vendor_id\t: GenuineIntel\n",
            "cpu family\t: 6\n",
            "model\t\t: 79\n",
            "model name\t: Intel(R) Xeon(R) CPU @ 2.20GHz\n",
            "stepping\t: 0\n",
            "microcode\t: 0xffffffff\n",
            "cpu MHz\t\t: 2200.130\n",
            "cache size\t: 56320 KB\n",
            "physical id\t: 0\n",
            "siblings\t: 2\n",
            "core id\t\t: 0\n",
            "cpu cores\t: 1\n",
            "apicid\t\t: 0\n",
            "initial apicid\t: 0\n",
            "fpu\t\t: yes\n",
            "fpu_exception\t: yes\n",
            "cpuid level\t: 13\n",
            "wp\t\t: yes\n",
            "flags\t\t: fpu vme de pse tsc msr pae mce cx8 apic sep mtrr pge mca cmov pat pse36 clflush mmx fxsr sse sse2 ss ht syscall nx pdpe1gb rdtscp lm constant_tsc rep_good nopl xtopology nonstop_tsc cpuid tsc_known_freq pni pclmulqdq ssse3 fma cx16 pcid sse4_1 sse4_2 x2apic movbe popcnt aes xsave avx f16c rdrand hypervisor lahf_lm abm 3dnowprefetch invpcid_single ssbd ibrs ibpb stibp fsgsbase tsc_adjust bmi1 hle avx2 smep bmi2 erms invpcid rtm rdseed adx smap xsaveopt arat md_clear arch_capabilities\n",
            "bugs\t\t: cpu_meltdown spectre_v1 spectre_v2 spec_store_bypass l1tf mds swapgs taa mmio_stale_data retbleed bhi\n",
            "bogomips\t: 4400.26\n",
            "clflush size\t: 64\n",
            "cache_alignment\t: 64\n",
            "address sizes\t: 46 bits physical, 48 bits virtual\n",
            "power management:\n",
            "\n",
            "processor\t: 1\n",
            "vendor_id\t: GenuineIntel\n",
            "cpu family\t: 6\n",
            "model\t\t: 79\n",
            "model name\t: Intel(R) Xeon(R) CPU @ 2.20GHz\n",
            "stepping\t: 0\n",
            "microcode\t: 0xffffffff\n",
            "cpu MHz\t\t: 2200.130\n",
            "cache size\t: 56320 KB\n",
            "physical id\t: 0\n",
            "siblings\t: 2\n",
            "core id\t\t: 0\n",
            "cpu cores\t: 1\n",
            "apicid\t\t: 1\n",
            "initial apicid\t: 1\n",
            "fpu\t\t: yes\n",
            "fpu_exception\t: yes\n",
            "cpuid level\t: 13\n",
            "wp\t\t: yes\n",
            "flags\t\t: fpu vme de pse tsc msr pae mce cx8 apic sep mtrr pge mca cmov pat pse36 clflush mmx fxsr sse sse2 ss ht syscall nx pdpe1gb rdtscp lm constant_tsc rep_good nopl xtopology nonstop_tsc cpuid tsc_known_freq pni pclmulqdq ssse3 fma cx16 pcid sse4_1 sse4_2 x2apic movbe popcnt aes xsave avx f16c rdrand hypervisor lahf_lm abm 3dnowprefetch invpcid_single ssbd ibrs ibpb stibp fsgsbase tsc_adjust bmi1 hle avx2 smep bmi2 erms invpcid rtm rdseed adx smap xsaveopt arat md_clear arch_capabilities\n",
            "bugs\t\t: cpu_meltdown spectre_v1 spectre_v2 spec_store_bypass l1tf mds swapgs taa mmio_stale_data retbleed bhi\n",
            "bogomips\t: 4400.26\n",
            "clflush size\t: 64\n",
            "cache_alignment\t: 64\n",
            "address sizes\t: 46 bits physical, 48 bits virtual\n",
            "power management:\n",
            "\n"
          ]
        }
      ]
    },
    {
      "cell_type": "code",
      "source": [
        "!cat /proc/meminfo"
      ],
      "metadata": {
        "id": "LChBQArZGewJ"
      },
      "execution_count": null,
      "outputs": []
    },
    {
      "cell_type": "markdown",
      "source": [
        "This is a text cell where I can wrtite in **bold text**\n",
        "I can also write in $\\LaTeX$"
      ],
      "metadata": {
        "id": "0ZFjvZKaHaih"
      }
    },
    {
      "cell_type": "markdown",
      "source": [
        "# Section 1\n",
        "Simple linux commands"
      ],
      "metadata": {
        "id": "aGyeEEZzINJI"
      }
    },
    {
      "cell_type": "code",
      "source": [
        "!ls"
      ],
      "metadata": {
        "colab": {
          "base_uri": "https://localhost:8080/"
        },
        "id": "PcrQEZqsIHNx",
        "outputId": "449e3ac1-8020-4b86-939b-ae02b7237ed2"
      },
      "execution_count": null,
      "outputs": [
        {
          "output_type": "stream",
          "name": "stdout",
          "text": [
            "sample_data\n"
          ]
        }
      ]
    },
    {
      "cell_type": "code",
      "source": [
        "! /proc/meminfo"
      ],
      "metadata": {
        "colab": {
          "base_uri": "https://localhost:8080/"
        },
        "id": "hp0nORBvIhdk",
        "outputId": "dfb62e4d-1ce3-4d42-b465-8b94288e4aab"
      },
      "execution_count": null,
      "outputs": [
        {
          "output_type": "stream",
          "name": "stdout",
          "text": [
            "/bin/bash: line 1: /proc/meminfo: Permission denied\n"
          ]
        }
      ]
    },
    {
      "cell_type": "code",
      "source": [],
      "metadata": {
        "id": "1asFoO4NKa4T"
      },
      "execution_count": null,
      "outputs": []
    },
    {
      "cell_type": "markdown",
      "source": [
        "#python"
      ],
      "metadata": {
        "id": "c2BSLCWPLZnf"
      }
    },
    {
      "cell_type": "code",
      "source": [
        "name='i Phone 5s'"
      ],
      "metadata": {
        "id": "Qq2t7FzYLa2d"
      },
      "execution_count": null,
      "outputs": []
    },
    {
      "cell_type": "code",
      "source": [
        "type(name)"
      ],
      "metadata": {
        "colab": {
          "base_uri": "https://localhost:8080/"
        },
        "id": "cQbfvCCiLfjV",
        "outputId": "406bce8e-29d0-4e6b-e5d0-5381dbefc885"
      },
      "execution_count": null,
      "outputs": [
        {
          "output_type": "execute_result",
          "data": {
            "text/plain": [
              "str"
            ]
          },
          "metadata": {},
          "execution_count": 10
        }
      ]
    },
    {
      "cell_type": "code",
      "source": [
        "print(name)"
      ],
      "metadata": {
        "colab": {
          "base_uri": "https://localhost:8080/"
        },
        "id": "Ym2O4JRlLjov",
        "outputId": "875b2f9b-7b18-4e9e-ecaa-6cc3c6261e09"
      },
      "execution_count": null,
      "outputs": [
        {
          "output_type": "stream",
          "name": "stdout",
          "text": [
            "i Phone 5s\n"
          ]
        }
      ]
    },
    {
      "cell_type": "code",
      "source": [
        "screen_size=4.3\n",
        "type(screen_size)"
      ],
      "metadata": {
        "colab": {
          "base_uri": "https://localhost:8080/"
        },
        "id": "2pPVFLKXLn7C",
        "outputId": "cd5ffff9-cb2b-432b-83cf-7194163a46c0"
      },
      "execution_count": null,
      "outputs": [
        {
          "output_type": "execute_result",
          "data": {
            "text/plain": [
              "float"
            ]
          },
          "metadata": {},
          "execution_count": 12
        }
      ]
    },
    {
      "cell_type": "code",
      "source": [
        " num_of_speakers=1"
      ],
      "metadata": {
        "id": "JsZqjWAkLtE_"
      },
      "execution_count": null,
      "outputs": []
    },
    {
      "cell_type": "code",
      "source": [
        "type(num_of_speakers)"
      ],
      "metadata": {
        "colab": {
          "base_uri": "https://localhost:8080/"
        },
        "id": "tscyiZ8-L8-1",
        "outputId": "b9919038-8270-4793-8c8a-4d45c897c4a7"
      },
      "execution_count": null,
      "outputs": [
        {
          "output_type": "execute_result",
          "data": {
            "text/plain": [
              "int"
            ]
          },
          "metadata": {},
          "execution_count": 14
        }
      ]
    },
    {
      "cell_type": "code",
      "source": [
        "print(\"I just bought an \"+name)"
      ],
      "metadata": {
        "colab": {
          "base_uri": "https://localhost:8080/"
        },
        "id": "2waZshd2L_09",
        "outputId": "ba0b1e9b-dd39-471c-971d-412a06bbc5af"
      },
      "execution_count": null,
      "outputs": [
        {
          "output_type": "stream",
          "name": "stdout",
          "text": [
            "I just bought an i Phone 5s\n"
          ]
        }
      ]
    },
    {
      "cell_type": "code",
      "source": [
        "a=3\n",
        "b=2\n",
        "print(a*b,a/b,a+b,a-b,a**b,a//b)"
      ],
      "metadata": {
        "colab": {
          "base_uri": "https://localhost:8080/"
        },
        "id": "Ap0MER9tMFhj",
        "outputId": "ad518e87-046d-4966-b4bf-9e7d404a329e"
      },
      "execution_count": null,
      "outputs": [
        {
          "output_type": "stream",
          "name": "stdout",
          "text": [
            "6 1.5 5 1 9 1\n"
          ]
        }
      ]
    },
    {
      "cell_type": "code",
      "source": [
        "is_android=False\n",
        "type(is_android)"
      ],
      "metadata": {
        "colab": {
          "base_uri": "https://localhost:8080/"
        },
        "id": "h0FBzZILMXMH",
        "outputId": "f21f38dd-db17-4b93-f7dd-cd328bf5be38"
      },
      "execution_count": null,
      "outputs": [
        {
          "output_type": "execute_result",
          "data": {
            "text/plain": [
              "bool"
            ]
          },
          "metadata": {},
          "execution_count": 21
        }
      ]
    },
    {
      "cell_type": "code",
      "source": [
        "print(is_android==False and num_of_speakers>1)"
      ],
      "metadata": {
        "colab": {
          "base_uri": "https://localhost:8080/"
        },
        "id": "168IpJ98MkbQ",
        "outputId": "293cab55-c87c-47dd-b4b6-e4d29000f947"
      },
      "execution_count": null,
      "outputs": [
        {
          "output_type": "stream",
          "name": "stdout",
          "text": [
            "False\n"
          ]
        }
      ]
    },
    {
      "cell_type": "code",
      "source": [
        "if is_android==False:\n",
        "  print(name+\"supports android\")\n",
        "  print(\"continuing to prinnt insde if block\")\n",
        "print(\"outdise if\")"
      ],
      "metadata": {
        "colab": {
          "base_uri": "https://localhost:8080/"
        },
        "id": "dPghKK_tMsk0",
        "outputId": "74c2b0b0-fbec-4b55-9303-1b0c417d0361"
      },
      "execution_count": null,
      "outputs": [
        {
          "output_type": "stream",
          "name": "stdout",
          "text": [
            "i Phone 5ssupports android\n",
            "continuing to prinnt insde if block\n",
            "outdise if\n"
          ]
        }
      ]
    },
    {
      "cell_type": "code",
      "source": [
        "for i in range(5):\n",
        "  print(i,i**2)"
      ],
      "metadata": {
        "colab": {
          "base_uri": "https://localhost:8080/"
        },
        "id": "sEcGZeTHNEvS",
        "outputId": "d67c9fce-0037-4fea-e7c0-d3c760a4dbe5"
      },
      "execution_count": null,
      "outputs": [
        {
          "output_type": "stream",
          "name": "stdout",
          "text": [
            "0 0\n",
            "1 1\n",
            "2 4\n",
            "3 9\n",
            "4 16\n"
          ]
        }
      ]
    },
    {
      "cell_type": "code",
      "source": [
        "range?"
      ],
      "metadata": {
        "id": "OT1d2efYNKbQ"
      },
      "execution_count": null,
      "outputs": []
    },
    {
      "cell_type": "code",
      "source": [
        "i=0\n",
        "while i<5:\n",
        "  print(i,i**2)\n",
        "  i=i+1"
      ],
      "metadata": {
        "colab": {
          "base_uri": "https://localhost:8080/"
        },
        "id": "GU7FP2hfNQFY",
        "outputId": "8c9d56ac-a1e1-43fe-9c8c-4a7738ac8eff"
      },
      "execution_count": null,
      "outputs": [
        {
          "output_type": "stream",
          "name": "stdout",
          "text": [
            "0 0\n",
            "1 1\n",
            "2 4\n",
            "3 9\n",
            "4 16\n"
          ]
        }
      ]
    },
    {
      "cell_type": "code",
      "source": [
        "def print_squares(stop_value):\n",
        "  for i in range(stop_value):\n",
        "    print(i,i**2)"
      ],
      "metadata": {
        "id": "s28-bKfcNed2"
      },
      "execution_count": null,
      "outputs": []
    },
    {
      "cell_type": "code",
      "source": [
        "print_squares(5)"
      ],
      "metadata": {
        "colab": {
          "base_uri": "https://localhost:8080/"
        },
        "id": "8ZAmHVXwNspC",
        "outputId": "a5a0f479-8a13-4a0e-87f9-bc49453c96da"
      },
      "execution_count": null,
      "outputs": [
        {
          "output_type": "stream",
          "name": "stdout",
          "text": [
            "0 0\n",
            "1 1\n",
            "2 4\n",
            "3 9\n",
            "4 16\n"
          ]
        }
      ]
    },
    {
      "cell_type": "code",
      "source": [
        "print_squares(6)"
      ],
      "metadata": {
        "colab": {
          "base_uri": "https://localhost:8080/"
        },
        "id": "13T_R76iNvSJ",
        "outputId": "44a34ee6-0f68-48b6-a814-1f1b00d8ef00"
      },
      "execution_count": null,
      "outputs": [
        {
          "output_type": "stream",
          "name": "stdout",
          "text": [
            "0 0\n",
            "1 1\n",
            "2 4\n",
            "3 9\n",
            "4 16\n",
            "5 25\n"
          ]
        }
      ]
    },
    {
      "cell_type": "code",
      "source": [
        "def sum_of_squares(stop_val):\n",
        "  sum_=0\n",
        "  for i in range(stop_val):\n",
        "    sum_=sum_+i**2\n",
        "  return sum_"
      ],
      "metadata": {
        "id": "25-XHt03NyuB"
      },
      "execution_count": null,
      "outputs": []
    },
    {
      "cell_type": "code",
      "source": [
        "sum_of_squares(5)"
      ],
      "metadata": {
        "colab": {
          "base_uri": "https://localhost:8080/"
        },
        "id": "vLx_7iuKN_W1",
        "outputId": "2754a2f4-a2dd-4d48-d159-42c08c2b816c"
      },
      "execution_count": null,
      "outputs": [
        {
          "output_type": "execute_result",
          "data": {
            "text/plain": [
              "30"
            ]
          },
          "metadata": {},
          "execution_count": 32
        }
      ]
    },
    {
      "cell_type": "code",
      "source": [
        "sum_5=sum_of_squares(5)"
      ],
      "metadata": {
        "id": "pvJ4aeqmOBFZ"
      },
      "execution_count": null,
      "outputs": []
    },
    {
      "cell_type": "code",
      "source": [
        "sum_5"
      ],
      "metadata": {
        "colab": {
          "base_uri": "https://localhost:8080/"
        },
        "id": "1In4ouK_OFsl",
        "outputId": "10455801-bd9e-4a47-cf84-a95d35acc685"
      },
      "execution_count": null,
      "outputs": [
        {
          "output_type": "execute_result",
          "data": {
            "text/plain": [
              "30"
            ]
          },
          "metadata": {},
          "execution_count": 34
        }
      ]
    },
    {
      "cell_type": "code",
      "source": [
        "def print_squares_with_startval(start_value,stop_value):\n",
        "  \"\"\"\n",
        "  print squares from start_value(inclusive) to stop_value(exclusive)\n",
        "  \"\"\"\n",
        "  for i in range(start_value,stop_value):\n",
        "    print(i,i**2)"
      ],
      "metadata": {
        "id": "qJnFiI3sOHkE"
      },
      "execution_count": null,
      "outputs": []
    },
    {
      "cell_type": "code",
      "source": [
        "print_squares_with_startval(2,6)"
      ],
      "metadata": {
        "colab": {
          "base_uri": "https://localhost:8080/"
        },
        "id": "Ygmu7BekOVRf",
        "outputId": "f3738700-2636-441d-d35f-f9d6f8bcae3d"
      },
      "execution_count": null,
      "outputs": [
        {
          "output_type": "stream",
          "name": "stdout",
          "text": [
            "2 4\n",
            "3 9\n",
            "4 16\n",
            "5 25\n"
          ]
        }
      ]
    },
    {
      "cell_type": "code",
      "source": [
        "help(print_squares_with_startval)"
      ],
      "metadata": {
        "colab": {
          "base_uri": "https://localhost:8080/"
        },
        "id": "bPMR0u7VOY9k",
        "outputId": "98f937bc-a472-4a60-b2ae-944132f71b17"
      },
      "execution_count": null,
      "outputs": [
        {
          "output_type": "stream",
          "name": "stdout",
          "text": [
            "Help on function print_squares_with_startval in module __main__:\n",
            "\n",
            "print_squares_with_startval(start_value, stop_value)\n",
            "    print squares from start_value(inclusive) to stop_value(exclusive)\n",
            "\n"
          ]
        }
      ]
    },
    {
      "cell_type": "code",
      "source": [
        "print_squares_with_startval?"
      ],
      "metadata": {
        "id": "iAzCZ0GtO0x-"
      },
      "execution_count": null,
      "outputs": []
    },
    {
      "cell_type": "code",
      "source": [
        "#lists\n",
        "\n",
        "my_phone=[name,is_android,screen_size]"
      ],
      "metadata": {
        "id": "wdJHf2kvO4cm"
      },
      "execution_count": null,
      "outputs": []
    },
    {
      "cell_type": "code",
      "source": [
        "type(my_phone)"
      ],
      "metadata": {
        "colab": {
          "base_uri": "https://localhost:8080/"
        },
        "id": "jFYHP4abPQ3F",
        "outputId": "e4d20adb-20dd-454c-f957-e6082252e2f7"
      },
      "execution_count": null,
      "outputs": [
        {
          "output_type": "execute_result",
          "data": {
            "text/plain": [
              "list"
            ]
          },
          "metadata": {},
          "execution_count": 42
        }
      ]
    },
    {
      "cell_type": "code",
      "source": [
        "print(my_phone)"
      ],
      "metadata": {
        "colab": {
          "base_uri": "https://localhost:8080/"
        },
        "id": "iHHeBhKvPUQy",
        "outputId": "280d7d82-3282-4639-b76a-79a1cb0cb89d"
      },
      "execution_count": null,
      "outputs": [
        {
          "output_type": "stream",
          "name": "stdout",
          "text": [
            "['i Phone 5s', False, 4.3]\n"
          ]
        }
      ]
    },
    {
      "cell_type": "code",
      "source": [
        "my_phone[0]"
      ],
      "metadata": {
        "colab": {
          "base_uri": "https://localhost:8080/",
          "height": 35
        },
        "id": "gsdvY2JuPWKq",
        "outputId": "112e349f-3e1e-470e-9743-19f75cdcdb37"
      },
      "execution_count": null,
      "outputs": [
        {
          "output_type": "execute_result",
          "data": {
            "text/plain": [
              "'i Phone 5s'"
            ],
            "application/vnd.google.colaboratory.intrinsic+json": {
              "type": "string"
            }
          },
          "metadata": {},
          "execution_count": 44
        }
      ]
    },
    {
      "cell_type": "code",
      "source": [
        "type(my_phone[0])"
      ],
      "metadata": {
        "colab": {
          "base_uri": "https://localhost:8080/"
        },
        "id": "tUVJCyr-PZul",
        "outputId": "d096bb0e-a87c-4e21-a578-62c8990e45e4"
      },
      "execution_count": null,
      "outputs": [
        {
          "output_type": "execute_result",
          "data": {
            "text/plain": [
              "str"
            ]
          },
          "metadata": {},
          "execution_count": 45
        }
      ]
    },
    {
      "cell_type": "code",
      "source": [
        "my_phone[0:2]"
      ],
      "metadata": {
        "colab": {
          "base_uri": "https://localhost:8080/"
        },
        "id": "ozMSEP41PdGj",
        "outputId": "bebcc902-7535-4ec4-b752-f18bb4b07d01"
      },
      "execution_count": null,
      "outputs": [
        {
          "output_type": "execute_result",
          "data": {
            "text/plain": [
              "['i Phone 5s', False]"
            ]
          },
          "metadata": {},
          "execution_count": 46
        }
      ]
    },
    {
      "cell_type": "code",
      "source": [
        "my_dads_phone=my_phone\n",
        "print(my_dads_phone)"
      ],
      "metadata": {
        "colab": {
          "base_uri": "https://localhost:8080/"
        },
        "id": "SXe7rZBbPh7s",
        "outputId": "807e3720-3454-492d-f1d1-095bea20e47b"
      },
      "execution_count": null,
      "outputs": [
        {
          "output_type": "stream",
          "name": "stdout",
          "text": [
            "['i Phone 5s', False, 4.3]\n"
          ]
        }
      ]
    },
    {
      "cell_type": "code",
      "source": [
        "my_phone[2]=4"
      ],
      "metadata": {
        "id": "JN6RCvttPsEc"
      },
      "execution_count": null,
      "outputs": []
    },
    {
      "cell_type": "code",
      "source": [
        "print(my_phone)"
      ],
      "metadata": {
        "colab": {
          "base_uri": "https://localhost:8080/"
        },
        "id": "7IKYwYQ5PvGg",
        "outputId": "d05d3ddc-0c40-4723-f6f8-a29863505c79"
      },
      "execution_count": null,
      "outputs": [
        {
          "output_type": "stream",
          "name": "stdout",
          "text": [
            "['i Phone 5s', False, 4]\n"
          ]
        }
      ]
    },
    {
      "cell_type": "code",
      "source": [
        "print(my_dads_phone)  ##shallow copy"
      ],
      "metadata": {
        "colab": {
          "base_uri": "https://localhost:8080/"
        },
        "id": "y2lGrC6nPxFT",
        "outputId": "282053e3-912d-4ae2-c8e2-0419ff204541"
      },
      "execution_count": null,
      "outputs": [
        {
          "output_type": "stream",
          "name": "stdout",
          "text": [
            "['i Phone 5s', False, 4]\n"
          ]
        }
      ]
    },
    {
      "cell_type": "code",
      "source": [
        "my_dads_phoe=list(my_phone)\n",
        "my_dads_phone=my_phone[:]"
      ],
      "metadata": {
        "id": "JWCghTS7P-it"
      },
      "execution_count": null,
      "outputs": []
    },
    {
      "cell_type": "code",
      "source": [
        "my_phone[2]=4.3"
      ],
      "metadata": {
        "id": "0wID3OtDQMFb"
      },
      "execution_count": null,
      "outputs": []
    },
    {
      "cell_type": "code",
      "source": [
        "print(my_phone)\n",
        "print(my_dads_phone)  #deep copy"
      ],
      "metadata": {
        "colab": {
          "base_uri": "https://localhost:8080/"
        },
        "id": "vndxHZt9QQlv",
        "outputId": "1006088e-f3a3-4a0a-f962-5f3747a70428"
      },
      "execution_count": null,
      "outputs": [
        {
          "output_type": "stream",
          "name": "stdout",
          "text": [
            "['i Phone 5s', False, 4.3]\n",
            "['i Phone 5s', False, 4]\n"
          ]
        }
      ]
    },
    {
      "cell_type": "code",
      "source": [
        "len(my_phone)"
      ],
      "metadata": {
        "colab": {
          "base_uri": "https://localhost:8080/"
        },
        "id": "pblneWFeQUYC",
        "outputId": "61f5eb78-5804-4dc6-e6f6-3e22dec3dfae"
      },
      "execution_count": null,
      "outputs": [
        {
          "output_type": "execute_result",
          "data": {
            "text/plain": [
              "3"
            ]
          },
          "metadata": {},
          "execution_count": 57
        }
      ]
    },
    {
      "cell_type": "code",
      "source": [
        "my_phone.append('3g')"
      ],
      "metadata": {
        "id": "A880ccumQZe2"
      },
      "execution_count": null,
      "outputs": []
    },
    {
      "cell_type": "code",
      "source": [
        "print(my_phone)"
      ],
      "metadata": {
        "colab": {
          "base_uri": "https://localhost:8080/"
        },
        "id": "atgF1vllQjNZ",
        "outputId": "0c1c0f35-67c4-4aa1-aad4-45a5714426da"
      },
      "execution_count": null,
      "outputs": [
        {
          "output_type": "stream",
          "name": "stdout",
          "text": [
            "['i Phone 5s', False, 4.3, '3g']\n"
          ]
        }
      ]
    },
    {
      "cell_type": "code",
      "source": [
        "len(my_phone)"
      ],
      "metadata": {
        "colab": {
          "base_uri": "https://localhost:8080/"
        },
        "id": "-zoACyT7QlO7",
        "outputId": "0cf2c2ab-e12d-441c-c0bf-acd51ba9c17a"
      },
      "execution_count": null,
      "outputs": [
        {
          "output_type": "execute_result",
          "data": {
            "text/plain": [
              "4"
            ]
          },
          "metadata": {},
          "execution_count": 60
        }
      ]
    },
    {
      "cell_type": "code",
      "source": [
        "iphone5s_some_prefs=[\"single sim\",35000]"
      ],
      "metadata": {
        "id": "r2GPMCMdQm3t"
      },
      "execution_count": null,
      "outputs": []
    },
    {
      "cell_type": "code",
      "source": [
        "my_phone=my_phone+iphone5s_some_prefs"
      ],
      "metadata": {
        "id": "V0_sHHH8Q5af"
      },
      "execution_count": null,
      "outputs": []
    },
    {
      "cell_type": "code",
      "source": [
        "print(my_phone)"
      ],
      "metadata": {
        "colab": {
          "base_uri": "https://localhost:8080/"
        },
        "id": "iuTYiBcKQ-RE",
        "outputId": "2cca1725-7062-4a6d-a8b4-257fe701f366"
      },
      "execution_count": null,
      "outputs": [
        {
          "output_type": "stream",
          "name": "stdout",
          "text": [
            "['i Phone 5s', False, 4.3, '3g', 'single sim', 35000]\n"
          ]
        }
      ]
    },
    {
      "cell_type": "code",
      "source": [
        "for data in my_phone:\n",
        "  print(data)"
      ],
      "metadata": {
        "colab": {
          "base_uri": "https://localhost:8080/"
        },
        "id": "zhzTXgayQ_sO",
        "outputId": "9b810a7a-e544-423b-ea4a-43f9a14453f1"
      },
      "execution_count": null,
      "outputs": [
        {
          "output_type": "stream",
          "name": "stdout",
          "text": [
            "i Phone 5s\n",
            "False\n",
            "4.3\n",
            "3g\n",
            "single sim\n",
            "35000\n"
          ]
        }
      ]
    },
    {
      "cell_type": "code",
      "source": [
        "print(list(range(5)))"
      ],
      "metadata": {
        "colab": {
          "base_uri": "https://localhost:8080/"
        },
        "id": "vxSM3ZJZRI6v",
        "outputId": "4d82c2b2-2018-49fd-cb23-dced469d4559"
      },
      "execution_count": null,
      "outputs": [
        {
          "output_type": "stream",
          "name": "stdout",
          "text": [
            "[0, 1, 2, 3, 4]\n"
          ]
        }
      ]
    },
    {
      "cell_type": "code",
      "source": [
        "a=list(range(5))\n",
        "print(a)"
      ],
      "metadata": {
        "colab": {
          "base_uri": "https://localhost:8080/"
        },
        "id": "L-LFPL7CRSGv",
        "outputId": "e5455cec-9ece-4ffb-c085-b4514118bfee"
      },
      "execution_count": null,
      "outputs": [
        {
          "output_type": "stream",
          "name": "stdout",
          "text": [
            "[0, 1, 2, 3, 4]\n"
          ]
        }
      ]
    },
    {
      "cell_type": "code",
      "source": [
        "b=list(map(lambda x:x**2,a))"
      ],
      "metadata": {
        "id": "4WFxSK0zRZ77"
      },
      "execution_count": null,
      "outputs": []
    },
    {
      "cell_type": "code",
      "source": [
        "b"
      ],
      "metadata": {
        "colab": {
          "base_uri": "https://localhost:8080/"
        },
        "id": "ka1KrXiDRgZi",
        "outputId": "ec39fb74-167e-4e4e-9abc-8240ce47ffcf"
      },
      "execution_count": null,
      "outputs": [
        {
          "output_type": "execute_result",
          "data": {
            "text/plain": [
              "[0, 1, 4, 9, 16]"
            ]
          },
          "metadata": {},
          "execution_count": 70
        }
      ]
    },
    {
      "cell_type": "code",
      "source": [
        "c=list(filter(lambda x:x%2==0,b))"
      ],
      "metadata": {
        "id": "9wo7FlGbRofF"
      },
      "execution_count": null,
      "outputs": []
    },
    {
      "cell_type": "code",
      "source": [
        "#tuples"
      ],
      "metadata": {
        "id": "9ks5pZZWR5Gh"
      },
      "execution_count": null,
      "outputs": []
    },
    {
      "cell_type": "code",
      "source": [
        "print(my_phone)\n",
        "type(my_phone)"
      ],
      "metadata": {
        "colab": {
          "base_uri": "https://localhost:8080/"
        },
        "id": "4Mb6rXpPU99o",
        "outputId": "63401d1d-edd2-4117-c5cd-476c292337da"
      },
      "execution_count": null,
      "outputs": [
        {
          "output_type": "stream",
          "name": "stdout",
          "text": [
            "['i Phone 5s', False, 4.3, '3g', 'single sim', 35000]\n"
          ]
        },
        {
          "output_type": "execute_result",
          "data": {
            "text/plain": [
              "list"
            ]
          },
          "metadata": {},
          "execution_count": 75
        }
      ]
    },
    {
      "cell_type": "code",
      "source": [
        "my_phone_tuple=('iPhone 5s',False,4.3)\n",
        "print(my_phone_tuple)\n",
        "type(my_phone_tuple)"
      ],
      "metadata": {
        "colab": {
          "base_uri": "https://localhost:8080/"
        },
        "id": "f7_9svSkYNCH",
        "outputId": "858da1bd-c00d-470b-8836-767217e4e278"
      },
      "execution_count": null,
      "outputs": [
        {
          "output_type": "stream",
          "name": "stdout",
          "text": [
            "('iPhone 5s', False, 4.3)\n"
          ]
        },
        {
          "output_type": "execute_result",
          "data": {
            "text/plain": [
              "tuple"
            ]
          },
          "metadata": {},
          "execution_count": 76
        }
      ]
    },
    {
      "cell_type": "code",
      "source": [
        "my_phone_tuple[0]"
      ],
      "metadata": {
        "colab": {
          "base_uri": "https://localhost:8080/",
          "height": 35
        },
        "id": "i3-Yv39kYdKg",
        "outputId": "87e61f51-77c8-4079-83a9-511983dd209e"
      },
      "execution_count": null,
      "outputs": [
        {
          "output_type": "execute_result",
          "data": {
            "text/plain": [
              "'iPhone 5s'"
            ],
            "application/vnd.google.colaboratory.intrinsic+json": {
              "type": "string"
            }
          },
          "metadata": {},
          "execution_count": 77
        }
      ]
    },
    {
      "cell_type": "code",
      "source": [
        "my_phone_tuple[0:2]"
      ],
      "metadata": {
        "colab": {
          "base_uri": "https://localhost:8080/"
        },
        "id": "xBwxiU8NYgFL",
        "outputId": "f54643b1-7163-4542-c22a-3d772e1d7f84"
      },
      "execution_count": null,
      "outputs": [
        {
          "output_type": "execute_result",
          "data": {
            "text/plain": [
              "('iPhone 5s', False)"
            ]
          },
          "metadata": {},
          "execution_count": 78
        }
      ]
    },
    {
      "cell_type": "code",
      "source": [
        "for data in my_phone_tuple:\n",
        "  print(data)"
      ],
      "metadata": {
        "colab": {
          "base_uri": "https://localhost:8080/"
        },
        "id": "HJKIFislYjgn",
        "outputId": "5d0af849-2e31-4846-cc5a-43c391791e78"
      },
      "execution_count": null,
      "outputs": [
        {
          "output_type": "stream",
          "name": "stdout",
          "text": [
            "iPhone 5s\n",
            "False\n",
            "4.3\n"
          ]
        }
      ]
    },
    {
      "cell_type": "code",
      "source": [
        "# my_phone_tuple[0]=\"hello\" ## tupple-> immutable"
      ],
      "metadata": {
        "id": "bzYgLaMzYphw"
      },
      "execution_count": null,
      "outputs": []
    },
    {
      "cell_type": "code",
      "source": [
        "import time"
      ],
      "metadata": {
        "id": "chIZilgjYvbB"
      },
      "execution_count": null,
      "outputs": []
    },
    {
      "cell_type": "code",
      "source": [
        "tic=time.time()\n",
        "#do something that takes some time that is to be measure\n",
        "toc=time.time()\n",
        "print(\"Elapsed time in seconds:\" ,toc-tic)"
      ],
      "metadata": {
        "colab": {
          "base_uri": "https://localhost:8080/"
        },
        "id": "hAsM5CXrY6AY",
        "outputId": "be11f333-742f-471a-e067-ad0bc1558d81"
      },
      "execution_count": null,
      "outputs": [
        {
          "output_type": "stream",
          "name": "stdout",
          "text": [
            "Elapsed time in seconds: 3.814697265625e-05\n"
          ]
        }
      ]
    },
    {
      "cell_type": "code",
      "source": [
        "my_list=list(range(1000000))\n",
        "tic=time.time()\n",
        "my_list_squared=list(map(lambda x:x**2,my_list))\n",
        "toc=time.time()\n",
        "print(\"Elapsed time in seconds : \",toc-tic)"
      ],
      "metadata": {
        "colab": {
          "base_uri": "https://localhost:8080/"
        },
        "id": "c8khc3cpY_PD",
        "outputId": "febc8da7-c19f-4d1b-e9f3-d46672625dff"
      },
      "execution_count": null,
      "outputs": [
        {
          "output_type": "stream",
          "name": "stdout",
          "text": [
            "Elapsed time in seconds :  0.5718708038330078\n"
          ]
        }
      ]
    },
    {
      "cell_type": "code",
      "source": [
        "my_tuple=tuple(range(1000000))\n",
        "tic=time.time()\n",
        "my_tuple_squared=tuple(map(lambda x:x**2,my_list))\n",
        "toc=time.time()\n",
        "print(\"Elapsed time in seconds : \",toc-tic)\n",
        "\n",
        "## tuple is faster than list"
      ],
      "metadata": {
        "colab": {
          "base_uri": "https://localhost:8080/"
        },
        "id": "xGe02RmtZufT",
        "outputId": "efe03756-3a2f-41fd-cad3-5dbf0e28d0fd"
      },
      "execution_count": null,
      "outputs": [
        {
          "output_type": "stream",
          "name": "stdout",
          "text": [
            "Elapsed time in seconds :  0.37587952613830566\n"
          ]
        }
      ]
    },
    {
      "cell_type": "code",
      "source": [
        "##sets"
      ],
      "metadata": {
        "id": "zhYdS3BxaYNN"
      },
      "execution_count": null,
      "outputs": []
    },
    {
      "cell_type": "code",
      "source": [
        "my_set=set(my_phone)"
      ],
      "metadata": {
        "id": "Jzhti9uEax-g"
      },
      "execution_count": null,
      "outputs": []
    },
    {
      "cell_type": "code",
      "source": [
        "print(my_set)"
      ],
      "metadata": {
        "colab": {
          "base_uri": "https://localhost:8080/"
        },
        "id": "hX1fvlKba1MM",
        "outputId": "b706ca1d-e054-4377-cf4b-ed98809b8815"
      },
      "execution_count": null,
      "outputs": [
        {
          "output_type": "stream",
          "name": "stdout",
          "text": [
            "{False, 4.3, '3g', 'single sim', 'i Phone 5s', 35000}\n"
          ]
        }
      ]
    },
    {
      "cell_type": "code",
      "source": [
        "my_phone.append(4.3)"
      ],
      "metadata": {
        "id": "FihY7Hz4a21T"
      },
      "execution_count": null,
      "outputs": []
    },
    {
      "cell_type": "code",
      "source": [
        "print(my_phone)"
      ],
      "metadata": {
        "colab": {
          "base_uri": "https://localhost:8080/"
        },
        "id": "IU0TV1LSa9Qr",
        "outputId": "9f2f4724-6bef-4c49-eb33-d0c544a11437"
      },
      "execution_count": null,
      "outputs": [
        {
          "output_type": "stream",
          "name": "stdout",
          "text": [
            "['i Phone 5s', False, 4.3, '3g', 'single sim', 35000, 4.3]\n"
          ]
        }
      ]
    },
    {
      "cell_type": "code",
      "source": [
        "print(my_set) ##only unique elemntes"
      ],
      "metadata": {
        "colab": {
          "base_uri": "https://localhost:8080/"
        },
        "id": "88nVW1A1a_ux",
        "outputId": "c82d326a-631c-4d97-8598-ae739f169151"
      },
      "execution_count": null,
      "outputs": [
        {
          "output_type": "stream",
          "name": "stdout",
          "text": [
            "{False, 4.3, '3g', 'single sim', 'i Phone 5s', 35000}\n"
          ]
        }
      ]
    },
    {
      "cell_type": "code",
      "source": [
        "my_list=list(range(1000000))\n",
        "tic=time.time()\n",
        "print(98731 in my_list)\n",
        "print(131591 in my_list)\n",
        "print(11111111 in my_list)\n",
        "toc=time.time()\n",
        "print(\"Elapsed time in seconds : \",toc-tic)"
      ],
      "metadata": {
        "colab": {
          "base_uri": "https://localhost:8080/"
        },
        "id": "7wMevOtdbFXV",
        "outputId": "46fbceb2-c990-4d4d-8175-b8343479c3d5"
      },
      "execution_count": null,
      "outputs": [
        {
          "output_type": "stream",
          "name": "stdout",
          "text": [
            "True\n",
            "True\n",
            "False\n",
            "Elapsed time in seconds :  0.04802989959716797\n"
          ]
        }
      ]
    },
    {
      "cell_type": "code",
      "source": [
        "my_set=set(range(1000000))\n",
        "tic=time.time()\n",
        "print(98731 in my_set)\n",
        "print(131591 in my_set)\n",
        "print(11111111 in my_set)\n",
        "toc=time.time()\n",
        "print(\"Elapsed time in seconds : \",toc-tic)"
      ],
      "metadata": {
        "colab": {
          "base_uri": "https://localhost:8080/"
        },
        "id": "XvxiJFgGbdX9",
        "outputId": "a1ddeebc-e423-46b9-829d-f1bbc8f815a3"
      },
      "execution_count": null,
      "outputs": [
        {
          "output_type": "stream",
          "name": "stdout",
          "text": [
            "True\n",
            "True\n",
            "False\n",
            "Elapsed time in seconds :  0.0004200935363769531\n"
          ]
        }
      ]
    },
    {
      "cell_type": "code",
      "source": [
        "#dictionaries\n",
        "my_phone_dict={}"
      ],
      "metadata": {
        "id": "VOFAqncrbvXP"
      },
      "execution_count": null,
      "outputs": []
    },
    {
      "cell_type": "code",
      "source": [
        "type(my_phone_dict)"
      ],
      "metadata": {
        "colab": {
          "base_uri": "https://localhost:8080/"
        },
        "id": "VYbAVVz2b3eA",
        "outputId": "2182a300-9646-464c-e8dd-e4f11a455ca2"
      },
      "execution_count": null,
      "outputs": [
        {
          "output_type": "execute_result",
          "data": {
            "text/plain": [
              "dict"
            ]
          },
          "metadata": {},
          "execution_count": 107
        }
      ]
    },
    {
      "cell_type": "code",
      "source": [
        "my_phone_dict['name']='i phone 5s'\n",
        "my_phone_dict['is_android']=False\n",
        "my_phone_dict['screen_size']=4.3"
      ],
      "metadata": {
        "id": "7_t4JG9Ob5Af"
      },
      "execution_count": null,
      "outputs": []
    },
    {
      "cell_type": "code",
      "source": [
        "print(my_phone_dict)"
      ],
      "metadata": {
        "colab": {
          "base_uri": "https://localhost:8080/"
        },
        "id": "bXSGdzYqcFt7",
        "outputId": "af0bc616-548d-42c2-c352-9a743591a09e"
      },
      "execution_count": null,
      "outputs": [
        {
          "output_type": "stream",
          "name": "stdout",
          "text": [
            "{'name': 'i phone 5s', 'is_android': False, 'screen_size': 4.3}\n"
          ]
        }
      ]
    },
    {
      "cell_type": "code",
      "source": [
        "print(my_phone_dict['name'])"
      ],
      "metadata": {
        "colab": {
          "base_uri": "https://localhost:8080/"
        },
        "id": "cNGUScgKcIVq",
        "outputId": "c2e2d027-3035-457d-a714-b5ea7cc911fe"
      },
      "execution_count": null,
      "outputs": [
        {
          "output_type": "stream",
          "name": "stdout",
          "text": [
            "i phone 5s\n"
          ]
        }
      ]
    },
    {
      "cell_type": "code",
      "source": [
        "print(my_phone_dict.keys())"
      ],
      "metadata": {
        "colab": {
          "base_uri": "https://localhost:8080/"
        },
        "id": "at8n0VdZcLRe",
        "outputId": "1af9fd92-a64d-4975-8cf5-1d7880395d12"
      },
      "execution_count": null,
      "outputs": [
        {
          "output_type": "stream",
          "name": "stdout",
          "text": [
            "dict_keys(['name', 'is_android', 'screen_size'])\n"
          ]
        }
      ]
    },
    {
      "cell_type": "code",
      "source": [
        "print(my_phone_dict.values())"
      ],
      "metadata": {
        "colab": {
          "base_uri": "https://localhost:8080/"
        },
        "id": "BU4wg1qVcPEH",
        "outputId": "2b028e2f-74ea-4ea2-9478-a792d0801a1b"
      },
      "execution_count": null,
      "outputs": [
        {
          "output_type": "stream",
          "name": "stdout",
          "text": [
            "dict_values(['i phone 5s', False, 4.3])\n"
          ]
        }
      ]
    },
    {
      "cell_type": "code",
      "source": [
        "print(my_phone_dict.items())"
      ],
      "metadata": {
        "colab": {
          "base_uri": "https://localhost:8080/"
        },
        "id": "9cBNFy7rcStg",
        "outputId": "7d1a3b7d-db74-4828-afbc-7af8d38d77b2"
      },
      "execution_count": null,
      "outputs": [
        {
          "output_type": "stream",
          "name": "stdout",
          "text": [
            "dict_items([('name', 'i phone 5s'), ('is_android', False), ('screen_size', 4.3)])\n"
          ]
        }
      ]
    },
    {
      "cell_type": "code",
      "source": [
        "for key in my_phone_dict.keys():\n",
        "  print(key)"
      ],
      "metadata": {
        "colab": {
          "base_uri": "https://localhost:8080/"
        },
        "id": "t4oEHTEPcWaH",
        "outputId": "a38d8327-38ed-4e44-aa61-442601c3fa90"
      },
      "execution_count": null,
      "outputs": [
        {
          "output_type": "stream",
          "name": "stdout",
          "text": [
            "name\n",
            "is_android\n",
            "screen_size\n"
          ]
        }
      ]
    },
    {
      "cell_type": "code",
      "source": [
        "for key in my_phone_dict.values():\n",
        "  print(key)"
      ],
      "metadata": {
        "colab": {
          "base_uri": "https://localhost:8080/"
        },
        "id": "ucvYuDl-cdcp",
        "outputId": "80275b9a-f9d2-4d57-dd43-71908c1bbefc"
      },
      "execution_count": null,
      "outputs": [
        {
          "output_type": "stream",
          "name": "stdout",
          "text": [
            "i phone 5s\n",
            "False\n",
            "4.3\n"
          ]
        }
      ]
    },
    {
      "cell_type": "code",
      "source": [],
      "metadata": {
        "id": "GniA17vDckqs"
      },
      "execution_count": null,
      "outputs": []
    },
    {
      "cell_type": "markdown",
      "source": [
        "#Python Packages"
      ],
      "metadata": {
        "id": "VUsF9D6FcwRP"
      }
    },
    {
      "cell_type": "code",
      "source": [
        "import math"
      ],
      "metadata": {
        "id": "NqZmriXmczLh"
      },
      "execution_count": null,
      "outputs": []
    },
    {
      "cell_type": "code",
      "source": [
        "a=math.sqrt(1000)"
      ],
      "metadata": {
        "id": "CfLaSRSnc155"
      },
      "execution_count": null,
      "outputs": []
    },
    {
      "cell_type": "code",
      "source": [
        "a=math.pow(100,0.5)"
      ],
      "metadata": {
        "id": "n7vqWbaDc4wR"
      },
      "execution_count": null,
      "outputs": []
    },
    {
      "cell_type": "code",
      "source": [
        "x=100\n",
        "y=1\n",
        "for i in range(1,x):\n",
        "  y*=i\n",
        "print(\"factorial of \",x,\" is \",y)\n"
      ],
      "metadata": {
        "colab": {
          "base_uri": "https://localhost:8080/"
        },
        "id": "4y3v365lc7gV",
        "outputId": "90a862fb-7285-4b26-8f42-5e7e36b54ab6"
      },
      "execution_count": null,
      "outputs": [
        {
          "output_type": "stream",
          "name": "stdout",
          "text": [
            "factorial of  100  is  933262154439441526816992388562667004907159682643816214685929638952175999932299156089414639761565182862536979208272237582511852109168640000000000000000000000\n"
          ]
        }
      ]
    },
    {
      "cell_type": "code",
      "source": [
        "y=math.factorial(10)\n",
        "print(y)"
      ],
      "metadata": {
        "colab": {
          "base_uri": "https://localhost:8080/"
        },
        "id": "G3XgrQM5dwsJ",
        "outputId": "68438047-3b03-4298-e243-e59e92977c90"
      },
      "execution_count": null,
      "outputs": [
        {
          "output_type": "stream",
          "name": "stdout",
          "text": [
            "3628800\n"
          ]
        }
      ]
    },
    {
      "cell_type": "code",
      "source": [
        "import math as m\n",
        "y=m.factorial(23)\n",
        "y"
      ],
      "metadata": {
        "colab": {
          "base_uri": "https://localhost:8080/"
        },
        "id": "wq1oQdEteChc",
        "outputId": "3db6fea3-9194-42eb-9b5a-3eb57bf878ba"
      },
      "execution_count": null,
      "outputs": [
        {
          "output_type": "execute_result",
          "data": {
            "text/plain": [
              "25852016738884976640000"
            ]
          },
          "metadata": {},
          "execution_count": 129
        }
      ]
    },
    {
      "cell_type": "code",
      "source": [
        "from math import factorial\n",
        "y=factorial(23)\n",
        "print(y)"
      ],
      "metadata": {
        "colab": {
          "base_uri": "https://localhost:8080/"
        },
        "id": "cR9ndYpZePqc",
        "outputId": "29952171-614a-4e4b-d49f-7a2a49964a92"
      },
      "execution_count": null,
      "outputs": [
        {
          "output_type": "stream",
          "name": "stdout",
          "text": [
            "25852016738884976640000\n"
          ]
        }
      ]
    },
    {
      "cell_type": "code",
      "source": [
        "vals=list(range(1,100))\n",
        "tic=time.time()\n",
        "for x in vals:\n",
        "  y=1\n",
        "  for i in range(1,x):\n",
        "    y*=i\n",
        "toc=time.time()\n",
        "print(\"Elapsed time in seconds : \",toc-tic)\n",
        "\n",
        "tic=time.time()\n",
        "for x in vals:\n",
        "  y=math.factorial(x)\n",
        "toc=time.time()\n",
        "print(\"Elapsed time in seconds : \",toc-tic) ##faster 9X"
      ],
      "metadata": {
        "colab": {
          "base_uri": "https://localhost:8080/"
        },
        "id": "8DeywZK7ea2J",
        "outputId": "4f784a67-2b7b-4a8f-c81c-9d1902f29085"
      },
      "execution_count": null,
      "outputs": [
        {
          "output_type": "stream",
          "name": "stdout",
          "text": [
            "Elapsed time in seconds :  0.0014958381652832031\n",
            "Elapsed time in seconds :  0.00016641616821289062\n"
          ]
        }
      ]
    },
    {
      "cell_type": "code",
      "source": [
        "!echo 'def hello():'> my_first_module.py\n",
        "!echo '    print(\"Hello im living in a different file\")' >> my_first_module.py"
      ],
      "metadata": {
        "id": "TizrQR_KfDBd"
      },
      "execution_count": null,
      "outputs": []
    },
    {
      "cell_type": "code",
      "source": [
        "!cat my_first_module.py"
      ],
      "metadata": {
        "colab": {
          "base_uri": "https://localhost:8080/"
        },
        "id": "PoO-oueQf9Ux",
        "outputId": "d90718ad-2cc0-42ae-d523-7c84b210d10e"
      },
      "execution_count": null,
      "outputs": [
        {
          "output_type": "stream",
          "name": "stdout",
          "text": [
            "def hello():\n",
            "    print(\"Hello im living in a different file\")\n"
          ]
        }
      ]
    },
    {
      "cell_type": "code",
      "source": [
        "# import my_first_module\n",
        "# my_first_module.hello()"
      ],
      "metadata": {
        "id": "-szwPj1YgA-w"
      },
      "execution_count": null,
      "outputs": []
    },
    {
      "cell_type": "code",
      "source": [
        "from my_first_module import hello\n",
        "hello()"
      ],
      "metadata": {
        "colab": {
          "base_uri": "https://localhost:8080/"
        },
        "id": "0_j6FKB7ggPe",
        "outputId": "69d6e7ff-ec63-43e3-d532-128e7e2f1593"
      },
      "execution_count": null,
      "outputs": [
        {
          "output_type": "stream",
          "name": "stdout",
          "text": [
            "Hello im living in a different file\n"
          ]
        }
      ]
    },
    {
      "cell_type": "code",
      "source": [],
      "metadata": {
        "id": "cwCf4g6ggnAT"
      },
      "execution_count": null,
      "outputs": []
    },
    {
      "cell_type": "markdown",
      "source": [
        "#File Handling"
      ],
      "metadata": {
        "id": "0LX-sg-CjWcu"
      }
    },
    {
      "cell_type": "code",
      "source": [
        "!wget https://www.dropbox.com/s/w94odi4aq1k44lf/mobile_cleaned.csv"
      ],
      "metadata": {
        "colab": {
          "base_uri": "https://localhost:8080/"
        },
        "id": "f6qfo7-ijYJj",
        "outputId": "8fae76aa-50bf-4ab7-b8c3-3d11e3a0cd89"
      },
      "execution_count": null,
      "outputs": [
        {
          "output_type": "stream",
          "name": "stdout",
          "text": [
            "--2024-06-26 08:00:57--  https://www.dropbox.com/s/w94odi4aq1k44lf/mobile_cleaned.csv\n",
            "Resolving www.dropbox.com (www.dropbox.com)... 162.125.2.18, 2620:100:6022:18::a27d:4212\n",
            "Connecting to www.dropbox.com (www.dropbox.com)|162.125.2.18|:443... connected.\n",
            "HTTP request sent, awaiting response... 302 Found\n",
            "Location: https://www.dropbox.com/scl/fi/o4t6cq5g16jelz1v0z2lj/mobile_cleaned.csv?rlkey=dw9did7ts41x4iwmkfgz1qlt2 [following]\n",
            "--2024-06-26 08:00:58--  https://www.dropbox.com/scl/fi/o4t6cq5g16jelz1v0z2lj/mobile_cleaned.csv?rlkey=dw9did7ts41x4iwmkfgz1qlt2\n",
            "Reusing existing connection to www.dropbox.com:443.\n",
            "HTTP request sent, awaiting response... 200 OK\n",
            "Length: unspecified [text/html]\n",
            "Saving to: ‘mobile_cleaned.csv’\n",
            "\n",
            "mobile_cleaned.csv      [ <=>                ] 153.67K  --.-KB/s    in 0.07s   \n",
            "\n",
            "2024-06-26 08:00:58 (2.14 MB/s) - ‘mobile_cleaned.csv’ saved [157363]\n",
            "\n"
          ]
        }
      ]
    },
    {
      "cell_type": "code",
      "source": [
        "!ls"
      ],
      "metadata": {
        "colab": {
          "base_uri": "https://localhost:8080/"
        },
        "id": "RJQpzQMhjohG",
        "outputId": "e994b431-a63d-4b17-d314-f182c5888330"
      },
      "execution_count": null,
      "outputs": [
        {
          "output_type": "stream",
          "name": "stdout",
          "text": [
            "mobile_cleaned.csv  my_first_module.py\t__pycache__  sample_data\n"
          ]
        }
      ]
    },
    {
      "cell_type": "code",
      "source": [
        "file=open('mobile_cleaned.csv','r')#read mode"
      ],
      "metadata": {
        "id": "WYD5Vt7kkBuo"
      },
      "execution_count": null,
      "outputs": []
    },
    {
      "cell_type": "code",
      "source": [
        "s=file.readline()"
      ],
      "metadata": {
        "id": "QITP8FV4kN-0"
      },
      "execution_count": null,
      "outputs": []
    },
    {
      "cell_type": "code",
      "source": [
        "print(s)"
      ],
      "metadata": {
        "colab": {
          "base_uri": "https://localhost:8080/"
        },
        "id": "nJS61GY_kUff",
        "outputId": "2757ec3b-3427-43eb-9d06-21c0ade0c8cb"
      },
      "execution_count": null,
      "outputs": [
        {
          "output_type": "stream",
          "name": "stdout",
          "text": [
            "<html class=\"maestro global-header\" xmlns=\"http://www.w3.org/1999/xhtml\" lang=\"en\">\n",
            "\n"
          ]
        }
      ]
    },
    {
      "cell_type": "code",
      "source": [
        "print(s.split(','))\n",
        "print(s)"
      ],
      "metadata": {
        "colab": {
          "base_uri": "https://localhost:8080/"
        },
        "id": "zgU0SVt5kYe6",
        "outputId": "869fa5d7-90b4-4bd4-b82e-f9b9f0755599"
      },
      "execution_count": null,
      "outputs": [
        {
          "output_type": "stream",
          "name": "stdout",
          "text": [
            "['<html class=\"maestro global-header\" xmlns=\"http://www.w3.org/1999/xhtml\" lang=\"en\">\\n']\n",
            "<html class=\"maestro global-header\" xmlns=\"http://www.w3.org/1999/xhtml\" lang=\"en\">\n",
            "\n"
          ]
        }
      ]
    },
    {
      "cell_type": "code",
      "source": [
        "file.close(\n",
        ")"
      ],
      "metadata": {
        "id": "01_Fv6Zxkd-7"
      },
      "execution_count": null,
      "outputs": []
    },
    {
      "cell_type": "code",
      "source": [
        "with open('mobile_cleaned.csv','r') as file:\n",
        "  s=file.readline()\n",
        "  print(s)\n"
      ],
      "metadata": {
        "colab": {
          "base_uri": "https://localhost:8080/"
        },
        "id": "7au6UJ5iknRG",
        "outputId": "1d01defc-fe18-460e-e32a-492a171292bf"
      },
      "execution_count": null,
      "outputs": [
        {
          "output_type": "stream",
          "name": "stdout",
          "text": [
            "<!DOCTYPE html>\n",
            "\n"
          ]
        }
      ]
    },
    {
      "cell_type": "code",
      "source": [
        "with open('mobile_cleaned.csv','r') as file:\n",
        "  s=file.read()\n",
        "  print(s)"
      ],
      "metadata": {
        "colab": {
          "base_uri": "https://localhost:8080/"
        },
        "collapsed": true,
        "id": "hEjqoSMpk2I3",
        "outputId": "664aad60-a936-4159-bd1a-029c7cbbeecc"
      },
      "execution_count": null,
      "outputs": [
        {
          "output_type": "stream",
          "name": "stdout",
          "text": [
            "<!DOCTYPE html>\n",
            "<html class=\"maestro global-header\" xmlns=\"http://www.w3.org/1999/xhtml\" lang=\"en\">\n",
            "<head><meta charset=\"utf-8\" />\n",
            "<meta content=\"noindex, nofollow, noimageindex\" name=\"robots\" />\n",
            "<meta content=\"width=device-width, initial-scale=1\" name=\"viewport\" />\n",
            "<script nonce=\"fs8456E9a314SEKKzhdMq0JB7pc=\">window.EDISON_METRICS_JS_EXECUTION_START = performance.now();\n",
            "</script><title>Dropbox - File Deleted - Simplify your life</title>\n",
            "<link rel=\"shortcut icon\" href=\"https://cfl.dropboxstatic.com/static/metaserver/static/images/favicon.ico\"/>\n",
            "<link rel=\"preload\" href=\"https://cfl.dropboxstatic.com/static/metaserver/static/css/teams/let_members_invite-vflJ--Znu.css\" crossorigin as=\"style\" data-loader=\"dbx_edison_page[requested_css]\"/>\n",
            "<link rel=\"preload\" href=\"https://cfl.dropboxstatic.com/static/metaserver/static/css/abuse/report_flag-vflCN8Oo2.css\" crossorigin as=\"style\" data-loader=\"dbx_edison_page[requested_css]\"/>\n",
            "<link rel=\"preload\" href=\"https://cfl.dropboxstatic.com/static/metaserver/static/css/abuse/fingerprintjs_component-vflTizAkf.css\" crossorigin as=\"style\" data-loader=\"dbx_edison_page[requested_css]\"/>\n",
            "<link rel=\"preload\" href=\"https://cfl.dropboxstatic.com/static/metaserver/static/css/google_one_tap-vflMOvomt.css\" crossorigin as=\"style\" data-loader=\"dbx_edison_page[requested_css]\"/>\n",
            "<link rel=\"preload\" href=\"https://cfl.dropboxstatic.com/static/metaserver/static/css/scooter/scooter-scoped-vflcqLzQ9.css\" crossorigin as=\"style\" data-loader=\"dbx_edison_page[requested_css]\"/>\n",
            "<link rel=\"preload\" href=\"https://cfl.dropboxstatic.com/static/metaserver/static/css/account/emails-vflPNwdxk.css\" crossorigin as=\"style\" data-loader=\"dbx_edison_page[requested_css]\"/>\n",
            "<link rel=\"preload\" href=\"https://cfl.dropboxstatic.com/static/metaserver/static/css/dig-illustrations/index.web-vflbpH46K.css\" crossorigin as=\"style\" data-loader=\"dbx_edison_page[requested_css]\"/>\n",
            "<link rel=\"preload\" href=\"https://cfl.dropboxstatic.com/static/typescript/component_libraries/dwg-components/src/index.web-vflNYiLQt.css\" crossorigin as=\"style\" data-loader=\"dbx_edison_page[requested_css]\"/>\n",
            "<link rel=\"preload\" href=\"https://cfl.dropboxstatic.com/static/metaserver/static/css/react_title_bar-vflaiCdJf.css\" crossorigin as=\"style\" data-loader=\"dbx_edison_page[requested_css]\"/>\n",
            "<link rel=\"preload\" href=\"https://cfl.dropboxstatic.com/static/metaserver/static/css/dig/fonts-vflMHuSEC.css\" crossorigin as=\"style\" data-loader=\"dbx_edison_page[requested_css]\"/>\n",
            "<link rel=\"preload\" href=\"https://cfl.dropboxstatic.com/static/metaserver/static/css/dig-components/index.web-vflJB_rik.css\" crossorigin as=\"style\" data-loader=\"dbx_edison_page[requested_css]\"/>\n",
            "<link rel=\"preload\" href=\"https://cfl.dropboxstatic.com/static/metaserver/static/css/react/contacts_tokenizer-vfl1FG5b4.css\" crossorigin as=\"style\" data-loader=\"dbx_edison_page[requested_css]\"/>\n",
            "<link rel=\"preload\" href=\"https://cfl.dropboxstatic.com/static/metaserver/static/css/notifications-vflLAgyyc.css\" crossorigin as=\"style\" data-loader=\"dbx_edison_page[requested_css]\"/>\n",
            "<link rel=\"preload\" href=\"https://cfl.dropboxstatic.com/static/metaserver/static/css/maestro_appshell_styles-vflfNNLV5.css\" crossorigin as=\"style\" data-loader=\"dbx_edison_page[requested_css]\"/>\n",
            "<link rel=\"preload\" href=\"https://cfl.dropboxstatic.com/static/metaserver/static/css/account_menu_v2-vflHHkjl2.css\" crossorigin as=\"style\" data-loader=\"dbx_edison_page[requested_css]\"/>\n",
            "<link rel=\"preload\" href=\"https://cfl.dropboxstatic.com/static/metaserver/static/css/components/title_bubble-vflNHwZeu.css\" crossorigin as=\"style\" data-loader=\"dbx_edison_page[requested_css]\"/>\n",
            "<link rel=\"preload\" href=\"https://cfl.dropboxstatic.com/static/metaserver/static/css/notify-vfl4oJv2S.css\" crossorigin as=\"style\" data-loader=\"dbx_edison_page[requested_css]\"/>\n",
            "<link rel=\"preload\" href=\"https://cfl.dropboxstatic.com/static/metaserver/static/css/snackbar-vfl0sHK6v.css\" crossorigin as=\"style\" data-loader=\"dbx_edison_page[requested_css]\"/>\n",
            "<link rel=\"preload\" href=\"https://cfl.dropboxstatic.com/static/typescript/component_libraries/dig-experimental/src/index.web-vflMgkV3K.css\" crossorigin as=\"style\" data-loader=\"dbx_edison_page[requested_css]\"/>\n",
            "<link rel=\"preload\" href=\"https://cfl.dropboxstatic.com/static/typescript/component_libraries/pro-ui/src/index.web-vflJQVwcd.css\" crossorigin as=\"style\" data-loader=\"dbx_edison_page[requested_css]\"/>\n",
            "<link rel=\"preload\" href=\"https://cfl.dropboxstatic.com/static/metaserver/static/css/foundation-vflH6wwwv.css\" crossorigin as=\"style\" data-loader=\"dbx_edison_page[requested_css]\"/>\n",
            "<link rel=\"preload\" href=\"https://cfl.dropboxstatic.com/static/metaserver/static/css/spectrum/index.web-vflGidclj.css\" crossorigin as=\"style\" data-loader=\"dbx_edison_page[requested_css]\"/>\n",
            "<link rel=\"preload\" href=\"https://cfl.dropboxstatic.com/static/metaserver/static/css/app_actions/index-vflOOvMhl.css\" crossorigin as=\"style\" data-loader=\"dbx_edison_page[requested_css]\"/>\n",
            "<link rel=\"preload\" href=\"https://cfl.dropboxstatic.com/static/metaserver/static/css/user_notifications_shared-vflHc9Yrh.css\" crossorigin as=\"style\" data-loader=\"dbx_edison_page[requested_css]\"/>\n",
            "<link rel=\"preload\" href=\"https://cfl.dropboxstatic.com/static/metaserver/static/css/react/overlay-vflNXoFem.css\" crossorigin as=\"style\" data-loader=\"dbx_edison_page[requested_css]\"/>\n",
            "<link rel=\"preload\" href=\"https://cfl.dropboxstatic.com/static/js/file_viewer/index.web-vflVvJL9l.css\" crossorigin as=\"style\" data-loader=\"dbx_edison_page[requested_css]\"/>\n",
            "<link rel=\"preload\" href=\"https://cfl.dropboxstatic.com/static/js/comments2/index-vflQdvUHu.css\" crossorigin as=\"style\" data-loader=\"dbx_edison_page[requested_css]\"/>\n",
            "<script nonce=\"fs8456E9a314SEKKzhdMq0JB7pc=\">window.CSP_SCRIPT_NONCE = \"fs8456E9a314SEKKzhdMq0JB7pc=\"</script><script nonce=\"fs8456E9a314SEKKzhdMq0JB7pc=\">(()=>{\"use strict\";const e=window;let i;const a=()=>{i=[],e.addRequireLoadCallback=e=>i.push(e),e.configureRequire=function(){const i=arguments;e.addRequireLoadCallback((()=>e.configureRequire.apply(null,i)))},e.define=function(){const i=arguments;e.addRequireLoadCallback((()=>e.define.apply(null,i)))}};a(),e._insertRequireShim=a,e.InitRequireJs=a=>{e.requireContexts={},e.configureRequire=a,e.addRequireLoadCallback=e=>e(),i.forEach((e=>e()))}})();\n",
            "\n",
            "</script><script nonce=\"fs8456E9a314SEKKzhdMq0JB7pc=\">(function () {\n",
            "    var start = performance.now();\n",
            "    window.addRequireLoadCallback(function() {\n",
            "        window.EDISON_METRICS_REQUIRE_LOAD_CALLBACK_TIME = performance.now() - start;\n",
            "    });\n",
            "})();\n",
            "</script><script nonce=\"xPConGgagA9i8X2w971aLJLaD/I=\" src=\"https://cfl.dropboxstatic.com/static/metaserver/static/js/alameda_bundle/alameda_bundle_ie_en-vflP3Khm2.js\" crossorigin=\"anonymous\"></script>\n",
            "</head><body><script nonce=\"fs8456E9a314SEKKzhdMq0JB7pc=\">window.__SERVED_BY_EDISON_WEB_SERVER__ = true;\n",
            "var requireConfig = {\"baseUrl\": \"https://cfl.dropboxstatic.com/\", \"waitSeconds\": 30, \"paths\": {\"atlas/file_viewer/scl_oboe_file_bundle_amd/dist/c_abuse_funcaptcha_modal\": \"static/atlas/file_viewer/scl_oboe_file_bundle_amd/dist/c_abuse_funcaptcha_modal-vflQuDao1\", \"atlas/file_viewer/scl_oboe_file_bundle_amd/dist/c_accessibility_ax_audit\": \"static/atlas/file_viewer/scl_oboe_file_bundle_amd/dist/c_accessibility_ax_audit-vfl2vJHN1\", \"atlas/file_viewer/scl_oboe_file_bundle_amd/dist/c_account_email\": \"static/atlas/file_viewer/scl_oboe_file_bundle_amd/dist/c_account_email-vflgmJyu_\", \"atlas/file_viewer/scl_oboe_file_bundle_amd/dist/c_account_email_verify\": \"static/atlas/file_viewer/scl_oboe_file_bundle_amd/dist/c_account_email_verify-vfl8OOrPo\", \"atlas/file_viewer/scl_oboe_file_bundle_amd/dist/c_account_email_verify_reasons\": \"static/atlas/file_viewer/scl_oboe_file_bundle_amd/dist/c_account_email_verify_reasons-vflZzHnwo\", \"atlas/file_viewer/scl_oboe_file_bundle_amd/dist/c_account_menu_account_menu_util\": \"static/atlas/file_viewer/scl_oboe_file_bundle_amd/dist/c_account_menu_account_menu_util-vflQEcBQI\", \"atlas/file_viewer/scl_oboe_file_bundle_amd/dist/c_action_bar_file_actions_logging\": \"static/atlas/file_viewer/scl_oboe_file_bundle_amd/dist/c_action_bar_file_actions_logging-vflZk5qby\", \"atlas/file_viewer/scl_oboe_file_bundle_amd/dist/c_action_plugins_copy_action_action\": \"static/atlas/file_viewer/scl_oboe_file_bundle_amd/dist/c_action_plugins_copy_action_action-vflWRRKIR\", \"atlas/file_viewer/scl_oboe_file_bundle_amd/dist/c_action_plugins_delete_action_action\": \"static/atlas/file_viewer/scl_oboe_file_bundle_amd/dist/c_action_plugins_delete_action_action-vflKKKoQm\", \"atlas/file_viewer/scl_oboe_file_bundle_amd/dist/c_action_plugins_download_action_action\": \"static/atlas/file_viewer/scl_oboe_file_bundle_amd/dist/c_action_plugins_download_action_action-vfl0bNmnn\", \"atlas/file_viewer/scl_oboe_file_bundle_amd/dist/c_action_plugins_move_action_action\": \"static/atlas/file_viewer/scl_oboe_file_bundle_amd/dist/c_action_plugins_move_action_action-vflhCuPzm\", \"atlas/file_viewer/scl_oboe_file_bundle_amd/dist/c_action_plugins_open_in_action_dropdown\": \"static/atlas/file_viewer/scl_oboe_file_bundle_amd/dist/c_action_plugins_open_in_action_dropdown-vfl06TIQN\", \"atlas/file_viewer/scl_oboe_file_bundle_amd/dist/c_action_plugins_pdf_edit_action_action\": \"static/atlas/file_viewer/scl_oboe_file_bundle_amd/dist/c_action_plugins_pdf_edit_action_action-vflruNQIp\", \"atlas/file_viewer/scl_oboe_file_bundle_amd/dist/c_action_plugins_self_sign_action_action\": \"static/atlas/file_viewer/scl_oboe_file_bundle_amd/dist/c_action_plugins_self_sign_action_action-vflf4mckR\", \"atlas/file_viewer/scl_oboe_file_bundle_amd/dist/c_action_plugins_send_for_signature_action_action\": \"static/atlas/file_viewer/scl_oboe_file_bundle_amd/dist/c_action_plugins_send_for_signature_action_action-vflCZNM7A\", \"atlas/file_viewer/scl_oboe_file_bundle_amd/dist/c_action_plugins_unzip_action_action\": \"static/atlas/file_viewer/scl_oboe_file_bundle_amd/dist/c_action_plugins_unzip_action_action-vflSBSXz3\", \"atlas/file_viewer/scl_oboe_file_bundle_amd/dist/c_action_plugins_version_history_action_action\": \"static/atlas/file_viewer/scl_oboe_file_bundle_amd/dist/c_action_plugins_version_history_action_action-vflsCDQYb\", \"atlas/file_viewer/scl_oboe_file_bundle_amd/dist/c_activation_data_hooks\": \"static/atlas/file_viewer/scl_oboe_file_bundle_amd/dist/c_activation_data_hooks-vflauDpff\", \"atlas/file_viewer/scl_oboe_file_bundle_amd/dist/c_activation_data_slices\": \"static/atlas/file_viewer/scl_oboe_file_bundle_amd/dist/c_activation_data_slices-vflorb5vG\", \"atlas/file_viewer/scl_oboe_file_bundle_amd/dist/c_activation_data_store\": \"static/atlas/file_viewer/scl_oboe_file_bundle_amd/dist/c_activation_data_store-vflCDUTBS\", \"atlas/file_viewer/scl_oboe_file_bundle_amd/dist/c_admin_api_admin_console_api_client\": \"static/atlas/file_viewer/scl_oboe_file_bundle_amd/dist/c_admin_api_admin_console_api_client-vflp8gAOG\", \"atlas/file_viewer/scl_oboe_file_bundle_amd/dist/c_admin_console_freemium_freemium_paywall_content\": \"static/atlas/file_viewer/scl_oboe_file_bundle_amd/dist/c_admin_console_freemium_freemium_paywall_content-vfl7A7UCo\", \"atlas/file_viewer/scl_oboe_file_bundle_amd/dist/c_admin_console_freemium_placeholder_table\": \"static/atlas/file_viewer/scl_oboe_file_bundle_amd/dist/c_admin_console_freemium_placeholder_table-vflYhsnDG\", \"atlas/file_viewer/scl_oboe_file_bundle_amd/dist/c_admin_console_freemium_upgrade_button\": \"static/atlas/file_viewer/scl_oboe_file_bundle_amd/dist/c_admin_console_freemium_upgrade_button-vfl45xnD9\", \"atlas/file_viewer/scl_oboe_file_bundle_amd/dist/c_admin_console_freemium_upgrade_drawer\": \"static/atlas/file_viewer/scl_oboe_file_bundle_amd/dist/c_admin_console_freemium_upgrade_drawer-vflZUhm-A\", \"atlas/file_viewer/scl_oboe_file_bundle_amd/dist/c_admin_console_freemium_upgrade_modal\": \"static/atlas/file_viewer/scl_oboe_file_bundle_amd/dist/c_admin_console_freemium_upgrade_modal-vfl4-ME1A\", \"atlas/file_viewer/scl_oboe_file_bundle_amd/dist/c_admin_console_home_after_display_hooks_log_select_cta.after-display\": \"static/atlas/file_viewer/scl_oboe_file_bundle_amd/dist/c_admin_console_home_after_display_hooks_log_select_cta.after-display-vflRbiWLd\", \"atlas/file_viewer/scl_oboe_file_bundle_amd/dist/c_admin_console_home_after_display_hooks_log_shown_admin_console_home_onboarding_modal.after-display\": \"static/atlas/file_viewer/scl_oboe_file_bundle_amd/dist/c_admin_console_home_after_display_hooks_log_shown_admin_console_home_onboarding_modal.after-display-vfl5APyC2\", \"atlas/file_viewer/scl_oboe_file_bundle_amd/dist/c_adyen-checkout\": \"static/atlas/file_viewer/scl_oboe_file_bundle_amd/dist/c_adyen-checkout-vfliDT__P\", \"atlas/file_viewer/scl_oboe_file_bundle_amd/dist/c_adyen_adyen-web_adyen\": \"static/atlas/file_viewer/scl_oboe_file_bundle_amd/dist/c_adyen_adyen-web_adyen-vflykmldc\", \"atlas/file_viewer/scl_oboe_file_bundle_amd/dist/c_apex-metrics_src_types\": \"static/atlas/file_viewer/scl_oboe_file_bundle_amd/dist/c_apex-metrics_src_types-vflVgCJjs\", \"atlas/file_viewer/scl_oboe_file_bundle_amd/dist/c_api-v2-client_src_dropbox\": \"static/atlas/file_viewer/scl_oboe_file_bundle_amd/dist/c_api-v2-client_src_dropbox-vfls1ycBe\", \"atlas/file_viewer/scl_oboe_file_bundle_amd/dist/c_api_v2_default_team_client\": \"static/atlas/file_viewer/scl_oboe_file_bundle_amd/dist/c_api_v2_default_team_client-vfl-x6tLL\", \"atlas/file_viewer/scl_oboe_file_bundle_amd/dist/c_api_v2_routes_user_metadata_provider\": \"static/atlas/file_viewer/scl_oboe_file_bundle_amd/dist/c_api_v2_routes_user_metadata_provider-vflsuKRDm\", \"atlas/file_viewer/scl_oboe_file_bundle_amd/dist/c_auth_common_captcha\": \"static/atlas/file_viewer/scl_oboe_file_bundle_amd/dist/c_auth_common_captcha-vflYwDa0W\", \"atlas/file_viewer/scl_oboe_file_bundle_amd/dist/c_auth_login_email_error_banner\": \"static/atlas/file_viewer/scl_oboe_file_bundle_amd/dist/c_auth_login_email_error_banner-vflJMa4jb\", \"atlas/file_viewer/scl_oboe_file_bundle_amd/dist/c_auth_login_form\": \"static/atlas/file_viewer/scl_oboe_file_bundle_amd/dist/c_auth_login_form-vflKbOCwQ\", \"atlas/file_viewer/scl_oboe_file_bundle_amd/dist/c_auth_login_or_register_modal\": \"static/atlas/file_viewer/scl_oboe_file_bundle_amd/dist/c_auth_login_or_register_modal-vflfUQZXW\", \"atlas/file_viewer/scl_oboe_file_bundle_amd/dist/c_auth_multi_account_login_modal\": \"static/atlas/file_viewer/scl_oboe_file_bundle_amd/dist/c_auth_multi_account_login_modal-vflcmjXSW\", \"atlas/file_viewer/scl_oboe_file_bundle_amd/dist/c_babel_runtime_helpers_inherits\": \"static/atlas/file_viewer/scl_oboe_file_bundle_amd/dist/c_babel_runtime_helpers_inherits-vflpo1DtP\", \"atlas/file_viewer/scl_oboe_file_bundle_amd/dist/c_babel_runtime_helpers_toConsumableArray\": \"static/atlas/file_viewer/scl_oboe_file_bundle_amd/dist/c_babel_runtime_helpers_toConsumableArray-vflbVssrq\", \"atlas/file_viewer/scl_oboe_file_bundle_amd/dist/c_branding_shared_previews_file_viewer_preview\": \"static/atlas/file_viewer/scl_oboe_file_bundle_amd/dist/c_branding_shared_previews_file_viewer_preview-vfl1e4mAz\", \"atlas/file_viewer/scl_oboe_file_bundle_amd/dist/c_branding_shared_previews_logo_and_socials\": \"static/atlas/file_viewer/scl_oboe_file_bundle_amd/dist/c_branding_shared_previews_logo_and_socials-vflyuRtRs\", \"atlas/file_viewer/scl_oboe_file_bundle_amd/dist/c_browse_action_logger\": \"static/atlas/file_viewer/scl_oboe_file_bundle_amd/dist/c_browse_action_logger-vflBshbE0\", \"atlas/file_viewer/scl_oboe_file_bundle_amd/dist/c_browse_actions\": \"static/atlas/file_viewer/scl_oboe_file_bundle_amd/dist/c_browse_actions-vflJOK__p\", \"atlas/file_viewer/scl_oboe_file_bundle_amd/dist/c_browse_data_selectors\": \"static/atlas/file_viewer/scl_oboe_file_bundle_amd/dist/c_browse_data_selectors-vflsKsE46\", \"atlas/file_viewer/scl_oboe_file_bundle_amd/dist/c_browse_interface\": \"static/atlas/file_viewer/scl_oboe_file_bundle_amd/dist/c_browse_interface-vflyaZW56\", \"atlas/file_viewer/scl_oboe_file_bundle_amd/dist/c_browse_tts\": \"static/atlas/file_viewer/scl_oboe_file_bundle_amd/dist/c_browse_tts-vfl1W7HEr\", \"atlas/file_viewer/scl_oboe_file_bundle_amd/dist/c_browse_welcome_hub_lib_types\": \"static/atlas/file_viewer/scl_oboe_file_bundle_amd/dist/c_browse_welcome_hub_lib_types-vflwsS9hV\", \"atlas/file_viewer/scl_oboe_file_bundle_amd/dist/c_browser_cookies\": \"static/atlas/file_viewer/scl_oboe_file_bundle_amd/dist/c_browser_cookies-vflJ8cucm\", \"atlas/file_viewer/scl_oboe_file_bundle_amd/dist/c_campaign_formats_action_choice_modal\": \"static/atlas/file_viewer/scl_oboe_file_bundle_amd/dist/c_campaign_formats_action_choice_modal-vfljxes8K\", \"atlas/file_viewer/scl_oboe_file_bundle_amd/dist/c_campaign_formats_banner_campaign_banner\": \"static/atlas/file_viewer/scl_oboe_file_bundle_amd/dist/c_campaign_formats_banner_campaign_banner-vflcjXwTg\", \"atlas/file_viewer/scl_oboe_file_bundle_amd/dist/c_campaign_formats_billing_modal_campaign_billing_modal\": \"static/atlas/file_viewer/scl_oboe_file_bundle_amd/dist/c_campaign_formats_billing_modal_campaign_billing_modal-vflKcR91u\", \"atlas/file_viewer/scl_oboe_file_bundle_amd/dist/c_campaign_formats_dialog_campaign_dialog\": \"static/atlas/file_viewer/scl_oboe_file_bundle_amd/dist/c_campaign_formats_dialog_campaign_dialog-vfl_D1d07\", \"atlas/file_viewer/scl_oboe_file_bundle_amd/dist/c_campaign_formats_link_bubble_campaign_link_bubble\": \"static/atlas/file_viewer/scl_oboe_file_bundle_amd/dist/c_campaign_formats_link_bubble_campaign_link_bubble-vflowtGdb\", \"atlas/file_viewer/scl_oboe_file_bundle_amd/dist/c_campaign_formats_menu_campaign_menu_item\": \"static/atlas/file_viewer/scl_oboe_file_bundle_amd/dist/c_campaign_formats_menu_campaign_menu_item-vfls2HR0b\", \"atlas/file_viewer/scl_oboe_file_bundle_amd/dist/c_campaign_formats_modal_campaign_modal\": \"static/atlas/file_viewer/scl_oboe_file_bundle_amd/dist/c_campaign_formats_modal_campaign_modal-vflVhns-o\", \"atlas/file_viewer/scl_oboe_file_bundle_amd/dist/c_campaign_formats_pulsar_campaign_pulsar\": \"static/atlas/file_viewer/scl_oboe_file_bundle_amd/dist/c_campaign_formats_pulsar_campaign_pulsar-vflgO-syk\", \"atlas/file_viewer/scl_oboe_file_bundle_amd/dist/c_campaign_formats_snackbar_campaign_snackbar\": \"static/atlas/file_viewer/scl_oboe_file_bundle_amd/dist/c_campaign_formats_snackbar_campaign_snackbar-vflUCz1sd\", \"atlas/file_viewer/scl_oboe_file_bundle_amd/dist/c_campaign_formats_tooltip_campaign_tooltip\": \"static/atlas/file_viewer/scl_oboe_file_bundle_amd/dist/c_campaign_formats_tooltip_campaign_tooltip-vflaTTJ9S\", \"atlas/file_viewer/scl_oboe_file_bundle_amd/dist/c_campaigns_campaign_uri_param\": \"static/atlas/file_viewer/scl_oboe_file_bundle_amd/dist/c_campaigns_campaign_uri_param-vflLl6HPk\", \"atlas/file_viewer/scl_oboe_file_bundle_amd/dist/c_chat_chat_client\": \"static/atlas/file_viewer/scl_oboe_file_bundle_amd/dist/c_chat_chat_client-vflrnfJzR\", \"atlas/file_viewer/scl_oboe_file_bundle_amd/dist/c_chat_dialogue\": \"static/atlas/file_viewer/scl_oboe_file_bundle_amd/dist/c_chat_dialogue-vfl_YUDYm\", \"atlas/file_viewer/scl_oboe_file_bundle_amd/dist/c_chat_dialogue_logging\": \"static/atlas/file_viewer/scl_oboe_file_bundle_amd/dist/c_chat_dialogue_logging-vflpBHdHC\", \"atlas/file_viewer/scl_oboe_file_bundle_amd/dist/c_cloud_docs_create_api\": \"static/atlas/file_viewer/scl_oboe_file_bundle_amd/dist/c_cloud_docs_create_api-vflGTDZtG\", \"atlas/file_viewer/scl_oboe_file_bundle_amd/dist/c_cloud_docs_hooks\": \"static/atlas/file_viewer/scl_oboe_file_bundle_amd/dist/c_cloud_docs_hooks-vfllcxUtY\", \"atlas/file_viewer/scl_oboe_file_bundle_amd/dist/c_cloud_docs_shared_components_routing\": \"static/atlas/file_viewer/scl_oboe_file_bundle_amd/dist/c_cloud_docs_shared_components_routing-vfliRTRSx\", \"atlas/file_viewer/scl_oboe_file_bundle_amd/dist/c_comments2_annotations_annotation_banner\": \"static/atlas/file_viewer/scl_oboe_file_bundle_amd/dist/c_comments2_annotations_annotation_banner-vfl_4yDFg\", \"atlas/file_viewer/scl_oboe_file_bundle_amd/dist/c_comments2_annotations_annotation_layer.after-display\": \"static/atlas/file_viewer/scl_oboe_file_bundle_amd/dist/c_comments2_annotations_annotation_layer.after-display-vflcyydIG\", \"atlas/file_viewer/scl_oboe_file_bundle_amd/dist/c_component_top_menu\": \"static/atlas/file_viewer/scl_oboe_file_bundle_amd/dist/c_component_top_menu-vflxJ3NX1\", \"atlas/file_viewer/scl_oboe_file_bundle_amd/dist/c_components_auto-folder-setup-checkbox_index\": \"static/atlas/file_viewer/scl_oboe_file_bundle_amd/dist/c_components_auto-folder-setup-checkbox_index-vflyp2iJ_\", \"atlas/file_viewer/scl_oboe_file_bundle_amd/dist/c_components_auto_naming_conventions_controls\": \"static/atlas/file_viewer/scl_oboe_file_bundle_amd/dist/c_components_auto_naming_conventions_controls-vflkCpCt5\", \"atlas/file_viewer/scl_oboe_file_bundle_amd/dist/c_components_auto_watermarking_controls\": \"static/atlas/file_viewer/scl_oboe_file_bundle_amd/dist/c_components_auto_watermarking_controls-vflV50UtH\", \"atlas/file_viewer/scl_oboe_file_bundle_amd/dist/c_components_dwg-tooltip_control\": \"static/atlas/file_viewer/scl_oboe_file_bundle_amd/dist/c_components_dwg-tooltip_control-vfl8IxToa\", \"atlas/file_viewer/scl_oboe_file_bundle_amd/dist/c_components_login-modal_login_or_register_modal.after-display\": \"static/atlas/file_viewer/scl_oboe_file_bundle_amd/dist/c_components_login-modal_login_or_register_modal.after-display-vflDto-kR\", \"atlas/file_viewer/scl_oboe_file_bundle_amd/dist/c_components_modals_browse_adapter\": \"static/atlas/file_viewer/scl_oboe_file_bundle_amd/dist/c_components_modals_browse_adapter-vflxsjc0Z\", \"atlas/file_viewer/scl_oboe_file_bundle_amd/dist/c_components_order_summary_redesign_order_summary_utils\": \"static/atlas/file_viewer/scl_oboe_file_bundle_amd/dist/c_components_order_summary_redesign_order_summary_utils-vflgBfO0K\", \"atlas/file_viewer/scl_oboe_file_bundle_amd/dist/c_components_over-quota-modal\": \"static/atlas/file_viewer/scl_oboe_file_bundle_amd/dist/c_components_over-quota-modal-vfl1w3TWZ\", \"atlas/file_viewer/scl_oboe_file_bundle_amd/dist/c_components_section_tags_section_preview\": \"static/atlas/file_viewer/scl_oboe_file_bundle_amd/dist/c_components_section_tags_section_preview-vflpGJFKC\", \"atlas/file_viewer/scl_oboe_file_bundle_amd/dist/c_components_sharing_spinner\": \"static/atlas/file_viewer/scl_oboe_file_bundle_amd/dist/c_components_sharing_spinner-vflBB9RPz\", \"atlas/file_viewer/scl_oboe_file_bundle_amd/dist/c_components_title-bar_title_bar\": \"static/atlas/file_viewer/scl_oboe_file_bundle_amd/dist/c_components_title-bar_title_bar-vfl6_qu6i\", \"atlas/file_viewer/scl_oboe_file_bundle_amd/dist/c_components_utility_nav_items_utility_action_menu\": \"static/atlas/file_viewer/scl_oboe_file_bundle_amd/dist/c_components_utility_nav_items_utility_action_menu-vflh697XH\", \"atlas/file_viewer/scl_oboe_file_bundle_amd/dist/c_connected_devices_connected_devices_modal\": \"static/atlas/file_viewer/scl_oboe_file_bundle_amd/dist/c_connected_devices_connected_devices_modal-vflj6RkSi\", \"atlas/file_viewer/scl_oboe_file_bundle_amd/dist/c_contacts_hooks\": \"static/atlas/file_viewer/scl_oboe_file_bundle_amd/dist/c_contacts_hooks-vflH-gUp5\", \"atlas/file_viewer/scl_oboe_file_bundle_amd/dist/c_conversions_actions_unzip\": \"static/atlas/file_viewer/scl_oboe_file_bundle_amd/dist/c_conversions_actions_unzip-vflkE45m6\", \"atlas/file_viewer/scl_oboe_file_bundle_amd/dist/c_core_i18n\": \"static/atlas/file_viewer/scl_oboe_file_bundle_amd/dist/c_core_i18n-vflxlqlGS\", \"atlas/file_viewer/scl_oboe_file_bundle_amd/dist/c_core_notify\": \"static/atlas/file_viewer/scl_oboe_file_bundle_amd/dist/c_core_notify-vfl-PwDw5\", \"atlas/file_viewer/scl_oboe_file_bundle_amd/dist/c_core_toast_toast_on_init\": \"static/atlas/file_viewer/scl_oboe_file_bundle_amd/dist/c_core_toast_toast_on_init-vflMkAbLL\", \"atlas/file_viewer/scl_oboe_file_bundle_amd/dist/c_core_utils_kmp_search\": \"static/atlas/file_viewer/scl_oboe_file_bundle_amd/dist/c_core_utils_kmp_search-vfl1A920Y\", \"atlas/file_viewer/scl_oboe_file_bundle_amd/dist/c_csrf\": \"static/atlas/file_viewer/scl_oboe_file_bundle_amd/dist/c_csrf-vflj0jLVD\", \"atlas/file_viewer/scl_oboe_file_bundle_amd/dist/c_custom_campaigns_admin_console_dashboard_onboarding_modal\": \"static/atlas/file_viewer/scl_oboe_file_bundle_amd/dist/c_custom_campaigns_admin_console_dashboard_onboarding_modal-vfl8iywd7\", \"atlas/file_viewer/scl_oboe_file_bundle_amd/dist/c_custom_campaigns_checkout_modal\": \"static/atlas/file_viewer/scl_oboe_file_bundle_amd/dist/c_custom_campaigns_checkout_modal-vflYYD0mc\", \"atlas/file_viewer/scl_oboe_file_bundle_amd/dist/c_custom_campaigns_lmo_modal\": \"static/atlas/file_viewer/scl_oboe_file_bundle_amd/dist/c_custom_campaigns_lmo_modal-vflnVV-Wn\", \"atlas/file_viewer/scl_oboe_file_bundle_amd/dist/c_custom_campaigns_mid_trial_modal\": \"static/atlas/file_viewer/scl_oboe_file_bundle_amd/dist/c_custom_campaigns_mid_trial_modal-vflkMTzvX\", \"atlas/file_viewer/scl_oboe_file_bundle_amd/dist/c_custom_campaigns_out_of_space_modal_out_of_space_modal_wrapper\": \"static/atlas/file_viewer/scl_oboe_file_bundle_amd/dist/c_custom_campaigns_out_of_space_modal_out_of_space_modal_wrapper-vfltve1v7\", \"atlas/file_viewer/scl_oboe_file_bundle_amd/dist/c_custom_campaigns_replay_annotation_animation_replay_annotation_campaign\": \"static/atlas/file_viewer/scl_oboe_file_bundle_amd/dist/c_custom_campaigns_replay_annotation_animation_replay_annotation_campaign-vflUllAaJ\", \"atlas/file_viewer/scl_oboe_file_bundle_amd/dist/c_data_action_creators_index\": \"static/atlas/file_viewer/scl_oboe_file_bundle_amd/dist/c_data_action_creators_index-vfl08K0Pt\", \"atlas/file_viewer/scl_oboe_file_bundle_amd/dist/c_datepicker-react_hooks_index\": \"static/atlas/file_viewer/scl_oboe_file_bundle_amd/dist/c_datepicker-react_hooks_index-vfl37CXpo\", \"atlas/file_viewer/scl_oboe_file_bundle_amd/dist/c_devtools_dev_notifier_client\": \"static/atlas/file_viewer/scl_oboe_file_bundle_amd/dist/c_devtools_dev_notifier_client-vflgMJIi4\", \"atlas/file_viewer/scl_oboe_file_bundle_amd/dist/c_devtools_launcher_launcher_item\": \"static/atlas/file_viewer/scl_oboe_file_bundle_amd/dist/c_devtools_launcher_launcher_item-vfl3rwMl3\", \"atlas/file_viewer/scl_oboe_file_bundle_amd/dist/c_devtools_launcher_launcher_sandbox\": \"static/atlas/file_viewer/scl_oboe_file_bundle_amd/dist/c_devtools_launcher_launcher_sandbox-vflzW_K1E\", \"atlas/file_viewer/scl_oboe_file_bundle_amd/dist/c_devtools_panels\": \"static/atlas/file_viewer/scl_oboe_file_bundle_amd/dist/c_devtools_panels-vflGK8bi3\", \"atlas/file_viewer/scl_oboe_file_bundle_amd/dist/c_dialogue_actions_chat_actions\": \"static/atlas/file_viewer/scl_oboe_file_bundle_amd/dist/c_dialogue_actions_chat_actions-vflQe9Eo9\", \"atlas/file_viewer/scl_oboe_file_bundle_amd/dist/c_dialogue_reducers_index\": \"static/atlas/file_viewer/scl_oboe_file_bundle_amd/dist/c_dialogue_reducers_index-vfl68bDp0\", \"atlas/file_viewer/scl_oboe_file_bundle_amd/dist/c_dig-components_table_index\": \"static/atlas/file_viewer/scl_oboe_file_bundle_amd/dist/c_dig-components_table_index-vflCuwKk4\", \"atlas/file_viewer/scl_oboe_file_bundle_amd/dist/c_dig-components_tabs_index\": \"static/atlas/file_viewer/scl_oboe_file_bundle_amd/dist/c_dig-components_tabs_index-vflEsRKc-\", \"atlas/file_viewer/scl_oboe_file_bundle_amd/dist/c_dig-content-icons_icons_folder-base-default-small\": \"static/atlas/file_viewer/scl_oboe_file_bundle_amd/dist/c_dig-content-icons_icons_folder-base-default-small-vfl1vNj9U\", \"atlas/file_viewer/scl_oboe_file_bundle_amd/dist/c_dig-content-icons_icons_folder-team-read-only-small\": \"static/atlas/file_viewer/scl_oboe_file_bundle_amd/dist/c_dig-content-icons_icons_folder-team-read-only-small-vflOoBNmY\", \"atlas/file_viewer/scl_oboe_file_bundle_amd/dist/c_dig-foundations_split_index\": \"static/atlas/file_viewer/scl_oboe_file_bundle_amd/dist/c_dig-foundations_split_index-vflKD14kd\", \"atlas/file_viewer/scl_oboe_file_bundle_amd/dist/c_dig-icons_assets_index\": \"static/atlas/file_viewer/scl_oboe_file_bundle_amd/dist/c_dig-icons_assets_index-vflfocmhF\", \"atlas/file_viewer/scl_oboe_file_bundle_amd/dist/c_dig-icons_assets_ui-icon_line_restore\": \"static/atlas/file_viewer/scl_oboe_file_bundle_amd/dist/c_dig-icons_assets_ui-icon_line_restore-vfl3TByGI\", \"atlas/file_viewer/scl_oboe_file_bundle_amd/dist/c_dig-icons_assets_ui-icon_line_underline\": \"static/atlas/file_viewer/scl_oboe_file_bundle_amd/dist/c_dig-icons_assets_ui-icon_line_underline-vflWbolex\", \"atlas/file_viewer/scl_oboe_file_bundle_amd/dist/c_dig-icons_assets_ui-icon_line_upload-file\": \"static/atlas/file_viewer/scl_oboe_file_bundle_amd/dist/c_dig-icons_assets_ui-icon_line_upload-file-vfl9erkHL\", \"atlas/file_viewer/scl_oboe_file_bundle_amd/dist/c_dig-icons_assets_ui-icon_line_video\": \"static/atlas/file_viewer/scl_oboe_file_bundle_amd/dist/c_dig-icons_assets_ui-icon_line_video-vflQctE77\", \"atlas/file_viewer/scl_oboe_file_bundle_amd/dist/c_dig-icons_assets_ui-icon_sync_issue\": \"static/atlas/file_viewer/scl_oboe_file_bundle_amd/dist/c_dig-icons_assets_ui-icon_sync_issue-vfl4hGHVJ\", \"atlas/file_viewer/scl_oboe_file_bundle_amd/dist/c_dig-icons_index\": \"static/atlas/file_viewer/scl_oboe_file_bundle_amd/dist/c_dig-icons_index-vflAmxqJ9\", \"atlas/file_viewer/scl_oboe_file_bundle_amd/dist/c_dig-illustrations_hero_remote-work\": \"static/atlas/file_viewer/scl_oboe_file_bundle_amd/dist/c_dig-illustrations_hero_remote-work-vflfjKuKq\", \"atlas/file_viewer/scl_oboe_file_bundle_amd/dist/c_dig-illustrations_mini_shared-doc\": \"static/atlas/file_viewer/scl_oboe_file_bundle_amd/dist/c_dig-illustrations_mini_shared-doc-vflvke2rq\", \"atlas/file_viewer/scl_oboe_file_bundle_amd/dist/c_dig-illustrations_mini_sharing-paper\": \"static/atlas/file_viewer/scl_oboe_file_bundle_amd/dist/c_dig-illustrations_mini_sharing-paper-vfl-qP58b\", \"atlas/file_viewer/scl_oboe_file_bundle_amd/dist/c_dig-illustrations_mini_speech-bubbles\": \"static/atlas/file_viewer/scl_oboe_file_bundle_amd/dist/c_dig-illustrations_mini_speech-bubbles-vflDoZKwc\", \"atlas/file_viewer/scl_oboe_file_bundle_amd/dist/c_dig-illustrations_spot_bowl-empty\": \"static/atlas/file_viewer/scl_oboe_file_bundle_amd/dist/c_dig-illustrations_spot_bowl-empty-vflN58Tog\", \"atlas/file_viewer/scl_oboe_file_bundle_amd/dist/c_dig-illustrations_spot_box-empty\": \"static/atlas/file_viewer/scl_oboe_file_bundle_amd/dist/c_dig-illustrations_spot_box-empty-vflw6TZbU\", \"atlas/file_viewer/scl_oboe_file_bundle_amd/dist/c_dig-illustrations_spot_look-view\": \"static/atlas/file_viewer/scl_oboe_file_bundle_amd/dist/c_dig-illustrations_spot_look-view-vflbNe15e\", \"atlas/file_viewer/scl_oboe_file_bundle_amd/dist/c_dig-illustrations_spot_paper-airplane\": \"static/atlas/file_viewer/scl_oboe_file_bundle_amd/dist/c_dig-illustrations_spot_paper-airplane-vfl0WFdp4\", \"atlas/file_viewer/scl_oboe_file_bundle_amd/dist/c_dig-illustrations_spot_passcode-lock\": \"static/atlas/file_viewer/scl_oboe_file_bundle_amd/dist/c_dig-illustrations_spot_passcode-lock-vflAgg6Wr\", \"atlas/file_viewer/scl_oboe_file_bundle_amd/dist/c_dig-illustrations_spot_shelf-empty\": \"static/atlas/file_viewer/scl_oboe_file_bundle_amd/dist/c_dig-illustrations_spot_shelf-empty-vflUHx3AK\", \"atlas/file_viewer/scl_oboe_file_bundle_amd/dist/c_dig-illustrations_spot_star-stickers\": \"static/atlas/file_viewer/scl_oboe_file_bundle_amd/dist/c_dig-illustrations_spot_star-stickers-vflWiuXJ6\", \"atlas/file_viewer/scl_oboe_file_bundle_amd/dist/c_dig-illustrations_spot_team-ants\": \"static/atlas/file_viewer/scl_oboe_file_bundle_amd/dist/c_dig-illustrations_spot_team-ants-vflwvIwS7\", \"atlas/file_viewer/scl_oboe_file_bundle_amd/dist/c_dig-illustrations_spot_traffic-duck-crossing\": \"static/atlas/file_viewer/scl_oboe_file_bundle_amd/dist/c_dig-illustrations_spot_traffic-duck-crossing-vflRQH2l9\", \"atlas/file_viewer/scl_oboe_file_bundle_amd/dist/c_dig-illustrations_spot_traffic-road-blocked\": \"static/atlas/file_viewer/scl_oboe_file_bundle_amd/dist/c_dig-illustrations_spot_traffic-road-blocked-vfl_9jWtm\", \"atlas/file_viewer/scl_oboe_file_bundle_amd/dist/c_dig-illustrations_spot_trash-empty\": \"static/atlas/file_viewer/scl_oboe_file_bundle_amd/dist/c_dig-illustrations_spot_trash-empty-vflRyWbQ9\", \"atlas/file_viewer/scl_oboe_file_bundle_amd/dist/c_docsend_hub_send_and_track\": \"static/atlas/file_viewer/scl_oboe_file_bundle_amd/dist/c_docsend_hub_send_and_track-vflWy6Dtz\", \"atlas/file_viewer/scl_oboe_file_bundle_amd/dist/c_docsend_hub_send_and_track_api\": \"static/atlas/file_viewer/scl_oboe_file_bundle_amd/dist/c_docsend_hub_send_and_track_api-vflQeUHg-\", \"atlas/file_viewer/scl_oboe_file_bundle_amd/dist/c_docsend_hub_send_and_track_file_activity_upsell_banner.after-display\": \"static/atlas/file_viewer/scl_oboe_file_bundle_amd/dist/c_docsend_hub_send_and_track_file_activity_upsell_banner.after-display-vflRwM1fL\", \"atlas/file_viewer/scl_oboe_file_bundle_amd/dist/c_docsend_src_utils\": \"static/atlas/file_viewer/scl_oboe_file_bundle_amd/dist/c_docsend_src_utils-vflkjgJOp\", \"atlas/file_viewer/scl_oboe_file_bundle_amd/dist/c_download_components_post-download-pre-susi-modal\": \"static/atlas/file_viewer/scl_oboe_file_bundle_amd/dist/c_download_components_post-download-pre-susi-modal-vfl3JDT9d\", \"atlas/file_viewer/scl_oboe_file_bundle_amd/dist/c_download_components_post-signup-download-modal\": \"static/atlas/file_viewer/scl_oboe_file_bundle_amd/dist/c_download_components_post-signup-download-modal-vflhDr3le\", \"atlas/file_viewer/scl_oboe_file_bundle_amd/dist/c_downloads\": \"static/atlas/file_viewer/scl_oboe_file_bundle_amd/dist/c_downloads-vflQ3MPOr\", \"atlas/file_viewer/scl_oboe_file_bundle_amd/dist/c_dropbox_ai_assistant_file_viewer_plugin_ai_blade\": \"static/atlas/file_viewer/scl_oboe_file_bundle_amd/dist/c_dropbox_ai_assistant_file_viewer_plugin_ai_blade-vfl3sMgz6\", \"atlas/file_viewer/scl_oboe_file_bundle_amd/dist/c_dropbox_ai_translations_file_viewer_plugin_translation_onboarding\": \"static/atlas/file_viewer/scl_oboe_file_bundle_amd/dist/c_dropbox_ai_translations_file_viewer_plugin_translation_onboarding-vfltpTOqi\", \"atlas/file_viewer/scl_oboe_file_bundle_amd/dist/c_dropbox_ai_translations_file_viewer_plugin_translation_overlay\": \"static/atlas/file_viewer/scl_oboe_file_bundle_amd/dist/c_dropbox_ai_translations_file_viewer_plugin_translation_overlay-vflAD73IK\", \"atlas/file_viewer/scl_oboe_file_bundle_amd/dist/c_dropins_sdk_refactor_src_v2_entry\": \"static/atlas/file_viewer/scl_oboe_file_bundle_amd/dist/c_dropins_sdk_refactor_src_v2_entry-vflE2a5Li\", \"atlas/file_viewer/scl_oboe_file_bundle_amd/dist/c_dropins_v3_shared_file_folder_icon\": \"static/atlas/file_viewer/scl_oboe_file_bundle_amd/dist/c_dropins_v3_shared_file_folder_icon-vflMOo2Ks\", \"atlas/file_viewer/scl_oboe_file_bundle_amd/dist/c_dropins_v3_shared_highlightable_filename_text\": \"static/atlas/file_viewer/scl_oboe_file_bundle_amd/dist/c_dropins_v3_shared_highlightable_filename_text-vfl2SQERh\", \"atlas/file_viewer/scl_oboe_file_bundle_amd/dist/c_edison_cookies_check\": \"static/atlas/file_viewer/scl_oboe_file_bundle_amd/dist/c_edison_cookies_check-vfl0pDuhx\", \"atlas/file_viewer/scl_oboe_file_bundle_amd/dist/c_emoji-mart_data_sets_14_native\": \"static/atlas/file_viewer/scl_oboe_file_bundle_amd/dist/c_emoji-mart_data_sets_14_native-vflIheWQX\", \"atlas/file_viewer/scl_oboe_file_bundle_amd/dist/c_encrypted_folder_admin_console_sharing\": \"static/atlas/file_viewer/scl_oboe_file_bundle_amd/dist/c_encrypted_folder_admin_console_sharing-vflgLRb8x\", \"atlas/file_viewer/scl_oboe_file_bundle_amd/dist/c_encrypted_folder_ekms\": \"static/atlas/file_viewer/scl_oboe_file_bundle_amd/dist/c_encrypted_folder_ekms-vflZx3Ic1\", \"atlas/file_viewer/scl_oboe_file_bundle_amd/dist/c_encrypted_folder_web_client_key_local_storage\": \"static/atlas/file_viewer/scl_oboe_file_bundle_amd/dist/c_encrypted_folder_web_client_key_local_storage-vflp4K6NN\", \"atlas/file_viewer/scl_oboe_file_bundle_amd/dist/c_experiments_helpers\": \"static/atlas/file_viewer/scl_oboe_file_bundle_amd/dist/c_experiments_helpers-vflw0VMIx\", \"atlas/file_viewer/scl_oboe_file_bundle_amd/dist/c_extensions_apis\": \"static/atlas/file_viewer/scl_oboe_file_bundle_amd/dist/c_extensions_apis-vflL-L3Xw\", \"atlas/file_viewer/scl_oboe_file_bundle_amd/dist/c_extensions_apis.after-display\": \"static/atlas/file_viewer/scl_oboe_file_bundle_amd/dist/c_extensions_apis.after-display-vflrNHsdk\", \"atlas/file_viewer/scl_oboe_file_bundle_amd/dist/c_extensions_extensions_utils\": \"static/atlas/file_viewer/scl_oboe_file_bundle_amd/dist/c_extensions_extensions_utils-vflaqjlHO\", \"atlas/file_viewer/scl_oboe_file_bundle_amd/dist/c_extensions_split_share_button.after-display\": \"static/atlas/file_viewer/scl_oboe_file_bundle_amd/dist/c_extensions_split_share_button.after-display-vflko0_BE\", \"atlas/file_viewer/scl_oboe_file_bundle_amd/dist/c_features_download_index\": \"static/atlas/file_viewer/scl_oboe_file_bundle_amd/dist/c_features_download_index-vflzvR7I6\", \"atlas/file_viewer/scl_oboe_file_bundle_amd/dist/c_features_shared-folder-preview-page_index\": \"static/atlas/file_viewer/scl_oboe_file_bundle_amd/dist/c_features_shared-folder-preview-page_index-vflhwWPxA\", \"atlas/file_viewer/scl_oboe_file_bundle_amd/dist/c_file_actions_portable_file_conversion\": \"static/atlas/file_viewer/scl_oboe_file_bundle_amd/dist/c_file_actions_portable_file_conversion-vfl7LtEVF\", \"atlas/file_viewer/scl_oboe_file_bundle_amd/dist/c_file_actions_portable_move\": \"static/atlas/file_viewer/scl_oboe_file_bundle_amd/dist/c_file_actions_portable_move-vflBuOTME\", \"atlas/file_viewer/scl_oboe_file_bundle_amd/dist/c_file_activity_component_file_activity.after-display\": \"static/atlas/file_viewer/scl_oboe_file_bundle_amd/dist/c_file_activity_component_file_activity.after-display-vflLf2bfD\", \"atlas/file_viewer/scl_oboe_file_bundle_amd/dist/c_file_activity_component_index\": \"static/atlas/file_viewer/scl_oboe_file_bundle_amd/dist/c_file_activity_component_index-vfli4bn-o\", \"atlas/file_viewer/scl_oboe_file_bundle_amd/dist/c_file_activity_component_version_history_menu.after-display\": \"static/atlas/file_viewer/scl_oboe_file_bundle_amd/dist/c_file_activity_component_version_history_menu.after-display-vflx9_iW7\", \"atlas/file_viewer/scl_oboe_file_bundle_amd/dist/c_file_imports_gdrive_file_picker\": \"static/atlas/file_viewer/scl_oboe_file_bundle_amd/dist/c_file_imports_gdrive_file_picker-vflPluNNr\", \"atlas/file_viewer/scl_oboe_file_bundle_amd/dist/c_file_imports_gdrive_file_picker2\": \"static/atlas/file_viewer/scl_oboe_file_bundle_amd/dist/c_file_imports_gdrive_file_picker2-vfla2038S\", \"atlas/file_viewer/scl_oboe_file_bundle_amd/dist/c_file_imports_ui_entry\": \"static/atlas/file_viewer/scl_oboe_file_bundle_amd/dist/c_file_imports_ui_entry-vflEwIthm\", \"atlas/file_viewer/scl_oboe_file_bundle_amd/dist/c_file_transfers_async_browse_entry_point_onboarding_modal_async\": \"static/atlas/file_viewer/scl_oboe_file_bundle_amd/dist/c_file_transfers_async_browse_entry_point_onboarding_modal_async-vflzKFmsr\", \"atlas/file_viewer/scl_oboe_file_bundle_amd/dist/c_file_transfers_containers_browse_entry_point_onboarding_modal\": \"static/atlas/file_viewer/scl_oboe_file_bundle_amd/dist/c_file_transfers_containers_browse_entry_point_onboarding_modal-vfl7Jjw2N\", \"atlas/file_viewer/scl_oboe_file_bundle_amd/dist/c_file_viewer_action_plugins_file_actions\": \"static/atlas/file_viewer/scl_oboe_file_bundle_amd/dist/c_file_viewer_action_plugins_file_actions-vflUk-yVk\", \"atlas/file_viewer/scl_oboe_file_bundle_amd/dist/c_file_viewer_collection_viewer\": \"static/atlas/file_viewer/scl_oboe_file_bundle_amd/dist/c_file_viewer_collection_viewer-vflsh_6Za\", \"atlas/file_viewer/scl_oboe_file_bundle_amd/dist/c_file_viewer_comments2_comment_markers\": \"static/atlas/file_viewer/scl_oboe_file_bundle_amd/dist/c_file_viewer_comments2_comment_markers-vflanyK4d\", \"atlas/file_viewer/scl_oboe_file_bundle_amd/dist/c_file_viewer_comments2_meatball_menu\": \"static/atlas/file_viewer/scl_oboe_file_bundle_amd/dist/c_file_viewer_comments2_meatball_menu-vfl5Ub9NX\", \"atlas/file_viewer/scl_oboe_file_bundle_amd/dist/c_file_viewer_comments2_plugin_pane\": \"static/atlas/file_viewer/scl_oboe_file_bundle_amd/dist/c_file_viewer_comments2_plugin_pane-vflJnkuT9\", \"atlas/file_viewer/scl_oboe_file_bundle_amd/dist/c_file_viewer_common_download_utils\": \"static/atlas/file_viewer/scl_oboe_file_bundle_amd/dist/c_file_viewer_common_download_utils-vfl32-sOt\", \"atlas/file_viewer/scl_oboe_file_bundle_amd/dist/c_file_viewer_common_share_helpers.after-display\": \"static/atlas/file_viewer/scl_oboe_file_bundle_amd/dist/c_file_viewer_common_share_helpers.after-display-vflnYeb14\", \"atlas/file_viewer/scl_oboe_file_bundle_amd/dist/c_file_viewer_components_discard-changes-modal\": \"static/atlas/file_viewer/scl_oboe_file_bundle_amd/dist/c_file_viewer_components_discard-changes-modal-vfl6Bhwjz\", \"atlas/file_viewer/scl_oboe_file_bundle_amd/dist/c_file_viewer_components_titlebar_menu_content\": \"static/atlas/file_viewer/scl_oboe_file_bundle_amd/dist/c_file_viewer_components_titlebar_menu_content-vflV87GE_\", \"atlas/file_viewer/scl_oboe_file_bundle_amd/dist/c_file_viewer_mobile_web\": \"static/atlas/file_viewer/scl_oboe_file_bundle_amd/dist/c_file_viewer_mobile_web-vfl7RLBju\", \"atlas/file_viewer/scl_oboe_file_bundle_amd/dist/c_file_viewer_mobile_web_actions\": \"static/atlas/file_viewer/scl_oboe_file_bundle_amd/dist/c_file_viewer_mobile_web_actions-vflYEynw5\", \"atlas/file_viewer/scl_oboe_file_bundle_amd/dist/c_file_viewer_mobile_web_download_app_modal\": \"static/atlas/file_viewer/scl_oboe_file_bundle_amd/dist/c_file_viewer_mobile_web_download_app_modal-vflqGwWbD\", \"atlas/file_viewer/scl_oboe_file_bundle_amd/dist/c_file_viewer_mobile_web_mobile_footer\": \"static/atlas/file_viewer/scl_oboe_file_bundle_amd/dist/c_file_viewer_mobile_web_mobile_footer-vfl6kqwHS\", \"atlas/file_viewer/scl_oboe_file_bundle_amd/dist/c_file_viewer_mobile_web_mobile_header\": \"static/atlas/file_viewer/scl_oboe_file_bundle_amd/dist/c_file_viewer_mobile_web_mobile_header-vflPdI2Lt\", \"atlas/file_viewer/scl_oboe_file_bundle_amd/dist/c_file_viewer_mobile_web_redesign_mobile_action_list\": \"static/atlas/file_viewer/scl_oboe_file_bundle_amd/dist/c_file_viewer_mobile_web_redesign_mobile_action_list-vflQw8bJ_\", \"atlas/file_viewer/scl_oboe_file_bundle_amd/dist/c_file_viewer_mobile_web_version_history_modal\": \"static/atlas/file_viewer/scl_oboe_file_bundle_amd/dist/c_file_viewer_mobile_web_version_history_modal-vfl_C_dAn\", \"atlas/file_viewer/scl_oboe_file_bundle_amd/dist/c_file_viewer_plugin_data_reducer\": \"static/atlas/file_viewer/scl_oboe_file_bundle_amd/dist/c_file_viewer_plugin_data_reducer-vflCs6mSw\", \"atlas/file_viewer/scl_oboe_file_bundle_amd/dist/c_file_viewer_preview_archive\": \"static/atlas/file_viewer/scl_oboe_file_bundle_amd/dist/c_file_viewer_preview_archive-vfltA4xFB\", \"atlas/file_viewer/scl_oboe_file_bundle_amd/dist/c_file_viewer_preview_audio_video_preview_video\": \"static/atlas/file_viewer/scl_oboe_file_bundle_amd/dist/c_file_viewer_preview_audio_video_preview_video-vflOTR2uB\", \"atlas/file_viewer/scl_oboe_file_bundle_amd/dist/c_file_viewer_preview_cloud_doc\": \"static/atlas/file_viewer/scl_oboe_file_bundle_amd/dist/c_file_viewer_preview_cloud_doc-vflNEwdnX\", \"atlas/file_viewer/scl_oboe_file_bundle_amd/dist/c_file_viewer_preview_cloud_doc_preview_deprecated_gdss\": \"static/atlas/file_viewer/scl_oboe_file_bundle_amd/dist/c_file_viewer_preview_cloud_doc_preview_deprecated_gdss-vflLxmFeQ\", \"atlas/file_viewer/scl_oboe_file_bundle_amd/dist/c_file_viewer_preview_doc\": \"static/atlas/file_viewer/scl_oboe_file_bundle_amd/dist/c_file_viewer_preview_doc-vfl1GC6Hr\", \"atlas/file_viewer/scl_oboe_file_bundle_amd/dist/c_file_viewer_preview_error\": \"static/atlas/file_viewer/scl_oboe_file_bundle_amd/dist/c_file_viewer_preview_error-vflRfpy-w\", \"atlas/file_viewer/scl_oboe_file_bundle_amd/dist/c_file_viewer_preview_html\": \"static/atlas/file_viewer/scl_oboe_file_bundle_amd/dist/c_file_viewer_preview_html-vflir9zaV\", \"atlas/file_viewer/scl_oboe_file_bundle_amd/dist/c_file_viewer_preview_image\": \"static/atlas/file_viewer/scl_oboe_file_bundle_amd/dist/c_file_viewer_preview_image-vflm_QtYR\", \"atlas/file_viewer/scl_oboe_file_bundle_amd/dist/c_file_viewer_preview_linkfile\": \"static/atlas/file_viewer/scl_oboe_file_bundle_amd/dist/c_file_viewer_preview_linkfile-vflgJuSew\", \"atlas/file_viewer/scl_oboe_file_bundle_amd/dist/c_file_viewer_preview_linkfile2\": \"static/atlas/file_viewer/scl_oboe_file_bundle_amd/dist/c_file_viewer_preview_linkfile2-vflZNaTrK\", \"atlas/file_viewer/scl_oboe_file_bundle_amd/dist/c_file_viewer_preview_text\": \"static/atlas/file_viewer/scl_oboe_file_bundle_amd/dist/c_file_viewer_preview_text-vflhBu7hM\", \"atlas/file_viewer/scl_oboe_file_bundle_amd/dist/c_file_viewer_preview_tour_sharing_tour\": \"static/atlas/file_viewer/scl_oboe_file_bundle_amd/dist/c_file_viewer_preview_tour_sharing_tour-vflN477SP\", \"atlas/file_viewer/scl_oboe_file_bundle_amd/dist/c_file_viewer_preview_tour_tour\": \"static/atlas/file_viewer/scl_oboe_file_bundle_amd/dist/c_file_viewer_preview_tour_tour-vfl16i7hx\", \"atlas/file_viewer/scl_oboe_file_bundle_amd/dist/c_file_viewer_text_editor_layers\": \"static/atlas/file_viewer/scl_oboe_file_bundle_amd/dist/c_file_viewer_text_editor_layers-vflcRKK23\", \"atlas/file_viewer/scl_oboe_file_bundle_amd/dist/c_file_viewer_ui_header\": \"static/atlas/file_viewer/scl_oboe_file_bundle_amd/dist/c_file_viewer_ui_header-vfl6-mGBy\", \"atlas/file_viewer/scl_oboe_file_bundle_amd/dist/c_file_viewer_video_controls_audio_video_markers\": \"static/atlas/file_viewer/scl_oboe_file_bundle_amd/dist/c_file_viewer_video_controls_audio_video_markers-vfl446nrp\", \"atlas/file_viewer/scl_oboe_file_bundle_amd/dist/c_files_view_constants\": \"static/atlas/file_viewer/scl_oboe_file_bundle_amd/dist/c_files_view_constants-vfludGLBA\", \"atlas/file_viewer/scl_oboe_file_bundle_amd/dist/c_fingerprintjs_fpjs-pro-static_fp\": \"static/atlas/file_viewer/scl_oboe_file_bundle_amd/dist/c_fingerprintjs_fpjs-pro-static_fp-vflEUtF1B\", \"atlas/file_viewer/scl_oboe_file_bundle_amd/dist/c_flows_conversions_conversion_actions\": \"static/atlas/file_viewer/scl_oboe_file_bundle_amd/dist/c_flows_conversions_conversion_actions-vflADS94o\", \"atlas/file_viewer/scl_oboe_file_bundle_amd/dist/c_flows_conversions_convert\": \"static/atlas/file_viewer/scl_oboe_file_bundle_amd/dist/c_flows_conversions_convert-vflkkh5ah\", \"atlas/file_viewer/scl_oboe_file_bundle_amd/dist/c_flows_hooks_workflow_builder_hooks\": \"static/atlas/file_viewer/scl_oboe_file_bundle_amd/dist/c_flows_hooks_workflow_builder_hooks-vflhowrbQ\", \"atlas/file_viewer/scl_oboe_file_bundle_amd/dist/c_flows_redux_actions\": \"static/atlas/file_viewer/scl_oboe_file_bundle_amd/dist/c_flows_redux_actions-vfltb684H\", \"atlas/file_viewer/scl_oboe_file_bundle_amd/dist/c_flows_redux_reducer\": \"static/atlas/file_viewer/scl_oboe_file_bundle_amd/dist/c_flows_redux_reducer-vfluHgx-w\", \"atlas/file_viewer/scl_oboe_file_bundle_amd/dist/c_flows_redux_selectors\": \"static/atlas/file_viewer/scl_oboe_file_bundle_amd/dist/c_flows_redux_selectors-vfl9cvURa\", \"atlas/file_viewer/scl_oboe_file_bundle_amd/dist/c_flows_redux_store\": \"static/atlas/file_viewer/scl_oboe_file_bundle_amd/dist/c_flows_redux_store-vfloK-2mC\", \"atlas/file_viewer/scl_oboe_file_bundle_amd/dist/c_flows_utils_async_modal_launchers\": \"static/atlas/file_viewer/scl_oboe_file_bundle_amd/dist/c_flows_utils_async_modal_launchers-vflGEJYS_\", \"atlas/file_viewer/scl_oboe_file_bundle_amd/dist/c_flows_utils_auto_folder_helpers\": \"static/atlas/file_viewer/scl_oboe_file_bundle_amd/dist/c_flows_utils_auto_folder_helpers-vflxj5K0t\", \"atlas/file_viewer/scl_oboe_file_bundle_amd/dist/c_flows_utils_browse_logger\": \"static/atlas/file_viewer/scl_oboe_file_bundle_amd/dist/c_flows_utils_browse_logger-vfl0dod2I\", \"atlas/file_viewer/scl_oboe_file_bundle_amd/dist/c_flows_utils_notifications\": \"static/atlas/file_viewer/scl_oboe_file_bundle_amd/dist/c_flows_utils_notifications-vflSkrVbZ\", \"atlas/file_viewer/scl_oboe_file_bundle_amd/dist/c_flows_workflow_builder\": \"static/atlas/file_viewer/scl_oboe_file_bundle_amd/dist/c_flows_workflow_builder-vflK_DZ9C\", \"atlas/file_viewer/scl_oboe_file_bundle_amd/dist/c_folder_dialog_folder_picker\": \"static/atlas/file_viewer/scl_oboe_file_bundle_amd/dist/c_folder_dialog_folder_picker-vflQ8wOcw\", \"atlas/file_viewer/scl_oboe_file_bundle_amd/dist/c_folder_dialog_folder_picker_dig\": \"static/atlas/file_viewer/scl_oboe_file_bundle_amd/dist/c_folder_dialog_folder_picker_dig-vflrIbetu\", \"atlas/file_viewer/scl_oboe_file_bundle_amd/dist/c_folder_dialog_move_dialog_modal\": \"static/atlas/file_viewer/scl_oboe_file_bundle_amd/dist/c_folder_dialog_move_dialog_modal-vflqKPSGv\", \"atlas/file_viewer/scl_oboe_file_bundle_amd/dist/c_folder_dialog_save_dialog\": \"static/atlas/file_viewer/scl_oboe_file_bundle_amd/dist/c_folder_dialog_save_dialog-vfl2hwAbd\", \"atlas/file_viewer/scl_oboe_file_bundle_amd/dist/c_form\": \"static/atlas/file_viewer/scl_oboe_file_bundle_amd/dist/c_form-vflN8S3Yw\", \"atlas/file_viewer/scl_oboe_file_bundle_amd/dist/c_growth-components_paid-plan-card_paid_plan_card\": \"static/atlas/file_viewer/scl_oboe_file_bundle_amd/dist/c_growth-components_paid-plan-card_paid_plan_card-vfledCqvC\", \"atlas/file_viewer/scl_oboe_file_bundle_amd/dist/c_growth-components_partial-bold-text_partial_bold_text\": \"static/atlas/file_viewer/scl_oboe_file_bundle_amd/dist/c_growth-components_partial-bold-text_partial_bold_text-vfl3bvu01\", \"atlas/file_viewer/scl_oboe_file_bundle_amd/dist/c_growth-components_plan-comparison-modal_plan_comparison_modal_contents\": \"static/atlas/file_viewer/scl_oboe_file_bundle_amd/dist/c_growth-components_plan-comparison-modal_plan_comparison_modal_contents-vfls_NCtQ\", \"atlas/file_viewer/scl_oboe_file_bundle_amd/dist/c_growth-components_quota-bar_quota_bar\": \"static/atlas/file_viewer/scl_oboe_file_bundle_amd/dist/c_growth-components_quota-bar_quota_bar-vflw_NZJJ\", \"atlas/file_viewer/scl_oboe_file_bundle_amd/dist/c_growth-components_quota-bar_strings\": \"static/atlas/file_viewer/scl_oboe_file_bundle_amd/dist/c_growth-components_quota-bar_strings-vflPiAlSV\", \"atlas/file_viewer/scl_oboe_file_bundle_amd/dist/c_growth_user_action_tracker\": \"static/atlas/file_viewer/scl_oboe_file_bundle_amd/dist/c_growth_user_action_tracker-vfla2NTSk\", \"atlas/file_viewer/scl_oboe_file_bundle_amd/dist/c_hive_schemas_sharing-request_access_user_events\": \"static/atlas/file_viewer/scl_oboe_file_bundle_amd/dist/c_hive_schemas_sharing-request_access_user_events-vfliP2kJZ\", \"atlas/file_viewer/scl_oboe_file_bundle_amd/dist/c_hooks_usePrevious\": \"static/atlas/file_viewer/scl_oboe_file_bundle_amd/dist/c_hooks_usePrevious-vflmM58my\", \"atlas/file_viewer/scl_oboe_file_bundle_amd/dist/c_icon_file_folder_icon\": \"static/atlas/file_viewer/scl_oboe_file_bundle_amd/dist/c_icon_file_folder_icon-vflCymiRQ\", \"atlas/file_viewer/scl_oboe_file_bundle_amd/dist/c_icon_folder_icon\": \"static/atlas/file_viewer/scl_oboe_file_bundle_amd/dist/c_icon_folder_icon-vfloJK4Sr\", \"atlas/file_viewer/scl_oboe_file_bundle_amd/dist/c_icon_shortcuts_icon\": \"static/atlas/file_viewer/scl_oboe_file_bundle_amd/dist/c_icon_shortcuts_icon-vflXT22Df\", \"atlas/file_viewer/scl_oboe_file_bundle_amd/dist/c_icon_templates_actionable_index\": \"static/atlas/file_viewer/scl_oboe_file_bundle_amd/dist/c_icon_templates_actionable_index-vfllv95eZ\", \"atlas/file_viewer/scl_oboe_file_bundle_amd/dist/c_init_data_debug_panel\": \"static/atlas/file_viewer/scl_oboe_file_bundle_amd/dist/c_init_data_debug_panel-vflv2da4I\", \"atlas/file_viewer/scl_oboe_file_bundle_amd/dist/c_init_data_edison\": \"static/atlas/file_viewer/scl_oboe_file_bundle_amd/dist/c_init_data_edison-vflfahnan\", \"atlas/file_viewer/scl_oboe_file_bundle_amd/dist/c_integrations_canvas_upload_to_canvas\": \"static/atlas/file_viewer/scl_oboe_file_bundle_amd/dist/c_integrations_canvas_upload_to_canvas-vflX9uIZh\", \"atlas/file_viewer/scl_oboe_file_bundle_amd/dist/c_integrations_hellosign_deep_integration_launcher\": \"static/atlas/file_viewer/scl_oboe_file_bundle_amd/dist/c_integrations_hellosign_deep_integration_launcher-vflqIuc_7\", \"atlas/file_viewer/scl_oboe_file_bundle_amd/dist/c_integrations_hellosign_deep_integration_util.after-display\": \"static/atlas/file_viewer/scl_oboe_file_bundle_amd/dist/c_integrations_hellosign_deep_integration_util.after-display-vflobUFlm\", \"atlas/file_viewer/scl_oboe_file_bundle_amd/dist/c_integrations_profile_card_popover\": \"static/atlas/file_viewer/scl_oboe_file_bundle_amd/dist/c_integrations_profile_card_popover-vfl4Fl2UP\", \"atlas/file_viewer/scl_oboe_file_bundle_amd/dist/c_invite_email_validation_validate_invite_email\": \"static/atlas/file_viewer/scl_oboe_file_bundle_amd/dist/c_invite_email_validation_validate_invite_email-vflQh4cgq\", \"atlas/file_viewer/scl_oboe_file_bundle_amd/dist/c_invite_modals_invite_confirmation_modal\": \"static/atlas/file_viewer/scl_oboe_file_bundle_amd/dist/c_invite_modals_invite_confirmation_modal-vflqOPBz5\", \"atlas/file_viewer/scl_oboe_file_bundle_amd/dist/c_invite_modals_invite_modal\": \"static/atlas/file_viewer/scl_oboe_file_bundle_amd/dist/c_invite_modals_invite_modal-vflniqZWR\", \"atlas/file_viewer/scl_oboe_file_bundle_amd/dist/c_invite_nav_invite_button_callback.after-display\": \"static/atlas/file_viewer/scl_oboe_file_bundle_amd/dist/c_invite_nav_invite_button_callback.after-display-vflN5nqOs\", \"atlas/file_viewer/scl_oboe_file_bundle_amd/dist/c_invite_pricing_use_invite_pricing\": \"static/atlas/file_viewer/scl_oboe_file_bundle_amd/dist/c_invite_pricing_use_invite_pricing-vfluzA0aa\", \"atlas/file_viewer/scl_oboe_file_bundle_amd/dist/c_invite_send_invites\": \"static/atlas/file_viewer/scl_oboe_file_bundle_amd/dist/c_invite_send_invites-vfl0CiCaj\", \"atlas/file_viewer/scl_oboe_file_bundle_amd/dist/c_layout_error-page_error_page\": \"static/atlas/file_viewer/scl_oboe_file_bundle_amd/dist/c_layout_error-page_error_page-vfl4fUarN\", \"atlas/file_viewer/scl_oboe_file_bundle_amd/dist/c_learning_center_learning_center_learning_center.after-display\": \"static/atlas/file_viewer/scl_oboe_file_bundle_amd/dist/c_learning_center_learning_center_learning_center.after-display-vflH3-xGC\", \"atlas/file_viewer/scl_oboe_file_bundle_amd/dist/c_lib_unknown_route\": \"static/atlas/file_viewer/scl_oboe_file_bundle_amd/dist/c_lib_unknown_route-vflIFUjRD\", \"atlas/file_viewer/scl_oboe_file_bundle_amd/dist/c_lodash\": \"static/atlas/file_viewer/scl_oboe_file_bundle_amd/dist/c_lodash-vflkMAU_H\", \"atlas/file_viewer/scl_oboe_file_bundle_amd/dist/c_lottie-react_index\": \"static/atlas/file_viewer/scl_oboe_file_bundle_amd/dist/c_lottie-react_index-vfln7sBuq\", \"atlas/file_viewer/scl_oboe_file_bundle_amd/dist/c_managed_table_plugins_use_column_collapsing\": \"static/atlas/file_viewer/scl_oboe_file_bundle_amd/dist/c_managed_table_plugins_use_column_collapsing-vflGAdLRB\", \"atlas/file_viewer/scl_oboe_file_bundle_amd/dist/c_memoize-one\": \"static/atlas/file_viewer/scl_oboe_file_bundle_amd/dist/c_memoize-one-vfldhPIFj\", \"atlas/file_viewer/scl_oboe_file_bundle_amd/dist/c_mobile_web_assets_audio_lottie\": \"static/atlas/file_viewer/scl_oboe_file_bundle_amd/dist/c_mobile_web_assets_audio_lottie-vfloQddEN\", \"atlas/file_viewer/scl_oboe_file_bundle_amd/dist/c_mobile_web_assets_catch_all_lottie\": \"static/atlas/file_viewer/scl_oboe_file_bundle_amd/dist/c_mobile_web_assets_catch_all_lottie-vflC_Dzqc\", \"atlas/file_viewer/scl_oboe_file_bundle_amd/dist/c_mobile_web_assets_document_lottie\": \"static/atlas/file_viewer/scl_oboe_file_bundle_amd/dist/c_mobile_web_assets_document_lottie-vflCtF1Pq\", \"atlas/file_viewer/scl_oboe_file_bundle_amd/dist/c_mobile_web_assets_font_lottie\": \"static/atlas/file_viewer/scl_oboe_file_bundle_amd/dist/c_mobile_web_assets_font_lottie-vflM6Cu9J\", \"atlas/file_viewer/scl_oboe_file_bundle_amd/dist/c_mobile_web_assets_image_lottie\": \"static/atlas/file_viewer/scl_oboe_file_bundle_amd/dist/c_mobile_web_assets_image_lottie-vflRuV7uG\", \"atlas/file_viewer/scl_oboe_file_bundle_amd/dist/c_mobile_web_assets_video_lottie\": \"static/atlas/file_viewer/scl_oboe_file_bundle_amd/dist/c_mobile_web_assets_video_lottie-vflKZJVi8\", \"atlas/file_viewer/scl_oboe_file_bundle_amd/dist/c_mobile_web_assets_zip_lottie\": \"static/atlas/file_viewer/scl_oboe_file_bundle_amd/dist/c_mobile_web_assets_zip_lottie-vflrjdrvR\", \"atlas/file_viewer/scl_oboe_file_bundle_amd/dist/c_modals_guest_pass_guest_pass_admin_invite_after_sharing_modal\": \"static/atlas/file_viewer/scl_oboe_file_bundle_amd/dist/c_modals_guest_pass_guest_pass_admin_invite_after_sharing_modal-vflexx1fd\", \"atlas/file_viewer/scl_oboe_file_bundle_amd/dist/c_modals_invite_after_sharing_admin_invite_after_sharing_modal\": \"static/atlas/file_viewer/scl_oboe_file_bundle_amd/dist/c_modals_invite_after_sharing_admin_invite_after_sharing_modal-vflPzHtWm\", \"atlas/file_viewer/scl_oboe_file_bundle_amd/dist/c_modals_invite_after_sharing_invite_after_sharing_shared_modal_components\": \"static/atlas/file_viewer/scl_oboe_file_bundle_amd/dist/c_modals_invite_after_sharing_invite_after_sharing_shared_modal_components-vflDI7skd\", \"atlas/file_viewer/scl_oboe_file_bundle_amd/dist/c_modals_invite_after_sharing_member_invite_after_sharing_modal\": \"static/atlas/file_viewer/scl_oboe_file_bundle_amd/dist/c_modals_invite_after_sharing_member_invite_after_sharing_modal-vflR0uFYW\", \"atlas/file_viewer/scl_oboe_file_bundle_amd/dist/c_modals_welcome_modal\": \"static/atlas/file_viewer/scl_oboe_file_bundle_amd/dist/c_modals_welcome_modal-vflsgt_Ah\", \"atlas/file_viewer/scl_oboe_file_bundle_amd/dist/c_onboarding_survey_components_oa_pulsar_effect\": \"static/atlas/file_viewer/scl_oboe_file_bundle_amd/dist/c_onboarding_survey_components_oa_pulsar_effect-vflNtmc2o\", \"atlas/file_viewer/scl_oboe_file_bundle_amd/dist/c_overquota_overquota_modal_controller\": \"static/atlas/file_viewer/scl_oboe_file_bundle_amd/dist/c_overquota_overquota_modal_controller-vflCWnuCJ\", \"atlas/file_viewer/scl_oboe_file_bundle_amd/dist/c_pap-events_docsend_view_docsend_hub_entry_button\": \"static/atlas/file_viewer/scl_oboe_file_bundle_amd/dist/c_pap-events_docsend_view_docsend_hub_entry_button-vflgEdf0Y\", \"atlas/file_viewer/scl_oboe_file_bundle_amd/dist/c_pap-events_sign_save_signature_doc\": \"static/atlas/file_viewer/scl_oboe_file_bundle_amd/dist/c_pap-events_sign_save_signature_doc-vflW_w8z-\", \"atlas/file_viewer/scl_oboe_file_bundle_amd/dist/c_payments_skus_constants\": \"static/atlas/file_viewer/scl_oboe_file_bundle_amd/dist/c_payments_skus_constants-vfl36T6Rk\", \"atlas/file_viewer/scl_oboe_file_bundle_amd/dist/c_payments_skus_sku_content\": \"static/atlas/file_viewer/scl_oboe_file_bundle_amd/dist/c_payments_skus_sku_content-vflY0zHxA\", \"atlas/file_viewer/scl_oboe_file_bundle_amd/dist/c_payments_skus_subscription_service\": \"static/atlas/file_viewer/scl_oboe_file_bundle_amd/dist/c_payments_skus_subscription_service-vfl_uDw_S\", \"atlas/file_viewer/scl_oboe_file_bundle_amd/dist/c_pdf_editor_plugin_layer.after-display\": \"static/atlas/file_viewer/scl_oboe_file_bundle_amd/dist/c_pdf_editor_plugin_layer.after-display-vflX6U25d\", \"atlas/file_viewer/scl_oboe_file_bundle_amd/dist/c_performance-bookmarklet\": \"static/atlas/file_viewer/scl_oboe_file_bundle_amd/dist/c_performance-bookmarklet-vfldCVIwC\", \"atlas/file_viewer/scl_oboe_file_bundle_amd/dist/c_performance_metrics_route_name_resolver\": \"static/atlas/file_viewer/scl_oboe_file_bundle_amd/dist/c_performance_metrics_route_name_resolver-vflS28lt1\", \"atlas/file_viewer/scl_oboe_file_bundle_amd/dist/c_photo-editor_layout_photo_editor.after-display\": \"static/atlas/file_viewer/scl_oboe_file_bundle_amd/dist/c_photo-editor_layout_photo_editor.after-display-vflAhvJHq\", \"atlas/file_viewer/scl_oboe_file_bundle_amd/dist/c_photo-editor_logging_photo_editor_events_logger\": \"static/atlas/file_viewer/scl_oboe_file_bundle_amd/dist/c_photo-editor_logging_photo_editor_events_logger-vfloTzvsR\", \"atlas/file_viewer/scl_oboe_file_bundle_amd/dist/c_photo_upload_controller\": \"static/atlas/file_viewer/scl_oboe_file_bundle_amd/dist/c_photo_upload_controller-vflSxTOol\", \"atlas/file_viewer/scl_oboe_file_bundle_amd/dist/c_plugin_components_watermarking_layer\": \"static/atlas/file_viewer/scl_oboe_file_bundle_amd/dist/c_plugin_components_watermarking_layer-vflVKzLKH\", \"atlas/file_viewer/scl_oboe_file_bundle_amd/dist/c_plugin_components_watermarking_pane.after-display\": \"static/atlas/file_viewer/scl_oboe_file_bundle_amd/dist/c_plugin_components_watermarking_pane.after-display-vflTdq958\", \"atlas/file_viewer/scl_oboe_file_bundle_amd/dist/c_plugin_components_watermarking_plugin\": \"static/atlas/file_viewer/scl_oboe_file_bundle_amd/dist/c_plugin_components_watermarking_plugin-vfl-7h3_s\", \"atlas/file_viewer/scl_oboe_file_bundle_amd/dist/c_plugin_utils_drawWatermarkOnCanvas\": \"static/atlas/file_viewer/scl_oboe_file_bundle_amd/dist/c_plugin_utils_drawWatermarkOnCanvas-vflcj4grR\", \"atlas/file_viewer/scl_oboe_file_bundle_amd/dist/c_plugin_utils_getImageFromFile\": \"static/atlas/file_viewer/scl_oboe_file_bundle_amd/dist/c_plugin_utils_getImageFromFile-vfl2m7LRl\", \"atlas/file_viewer/scl_oboe_file_bundle_amd/dist/c_portable_rename\": \"static/atlas/file_viewer/scl_oboe_file_bundle_amd/dist/c_portable_rename-vfl5NTGF7\", \"atlas/file_viewer/scl_oboe_file_bundle_amd/dist/c_portable_save_as_copy\": \"static/atlas/file_viewer/scl_oboe_file_bundle_amd/dist/c_portable_save_as_copy-vflMJNJHi\", \"atlas/file_viewer/scl_oboe_file_bundle_amd/dist/c_portable_save_as_copy_save_modal.after-display\": \"static/atlas/file_viewer/scl_oboe_file_bundle_amd/dist/c_portable_save_as_copy_save_modal.after-display-vflLP-a6w\", \"atlas/file_viewer/scl_oboe_file_bundle_amd/dist/c_portable_save_as_copy_snackbars\": \"static/atlas/file_viewer/scl_oboe_file_bundle_amd/dist/c_portable_save_as_copy_snackbars-vflppPoym\", \"atlas/file_viewer/scl_oboe_file_bundle_amd/dist/c_premium_kit_types\": \"static/atlas/file_viewer/scl_oboe_file_bundle_amd/dist/c_premium_kit_types-vflpyI2mz\", \"atlas/file_viewer/scl_oboe_file_bundle_amd/dist/c_preview_audio_video_helper_utils\": \"static/atlas/file_viewer/scl_oboe_file_bundle_amd/dist/c_preview_audio_video_helper_utils-vfltuByxV\", \"atlas/file_viewer/scl_oboe_file_bundle_amd/dist/c_preview_audio_video_video_editing_magic_tools_video\": \"static/atlas/file_viewer/scl_oboe_file_bundle_amd/dist/c_preview_audio_video_video_editing_magic_tools_video-vflwu8OF2\", \"atlas/file_viewer/scl_oboe_file_bundle_amd/dist/c_preview_audio_video_video_editing_video_edit_ui\": \"static/atlas/file_viewer/scl_oboe_file_bundle_amd/dist/c_preview_audio_video_video_editing_video_edit_ui-vflldQyGn\", \"atlas/file_viewer/scl_oboe_file_bundle_amd/dist/c_privacy_consent_load_privacy_consent\": \"static/atlas/file_viewer/scl_oboe_file_bundle_amd/dist/c_privacy_consent_load_privacy_consent-vfln6EwCY\", \"atlas/file_viewer/scl_oboe_file_bundle_amd/dist/c_prompt_ui_button\": \"static/atlas/file_viewer/scl_oboe_file_bundle_amd/dist/c_prompt_ui_button-vfl0nqjQS\", \"atlas/file_viewer/scl_oboe_file_bundle_amd/dist/c_prompt_ui_home_modal\": \"static/atlas/file_viewer/scl_oboe_file_bundle_amd/dist/c_prompt_ui_home_modal-vflyOAIyl\", \"atlas/file_viewer/scl_oboe_file_bundle_amd/dist/c_prompt_ui_image\": \"static/atlas/file_viewer/scl_oboe_file_bundle_amd/dist/c_prompt_ui_image-vfl8rAuhP\", \"atlas/file_viewer/scl_oboe_file_bundle_amd/dist/c_prompt_ui_prompt_location\": \"static/atlas/file_viewer/scl_oboe_file_bundle_amd/dist/c_prompt_ui_prompt_location-vflqGqbao\", \"atlas/file_viewer/scl_oboe_file_bundle_amd/dist/c_prop-types_index\": \"static/atlas/file_viewer/scl_oboe_file_bundle_amd/dist/c_prop-types_index-vflRdeDMA\", \"atlas/file_viewer/scl_oboe_file_bundle_amd/dist/c_proto_storefront_platform_js_init_data_transition_pb\": \"static/atlas/file_viewer/scl_oboe_file_bundle_amd/dist/c_proto_storefront_platform_js_init_data_transition_pb-vflZ-Zc6o\", \"atlas/file_viewer/scl_oboe_file_bundle_amd/dist/c_proto_structured_tags_structured_tags_servicer_pb\": \"static/atlas/file_viewer/scl_oboe_file_bundle_amd/dist/c_proto_structured_tags_structured_tags_servicer_pb-vflUkpvFN\", \"atlas/file_viewer/scl_oboe_file_bundle_amd/dist/c_react-beautiful-dnd\": \"static/atlas/file_viewer/scl_oboe_file_bundle_amd/dist/c_react-beautiful-dnd-vflJW_0yi\", \"atlas/file_viewer/scl_oboe_file_bundle_amd/dist/c_react-dom-next_client\": \"static/atlas/file_viewer/scl_oboe_file_bundle_amd/dist/c_react-dom-next_client-vflxJosvU\", \"atlas/file_viewer/scl_oboe_file_bundle_amd/dist/c_react-use_useEffectOnce\": \"static/atlas/file_viewer/scl_oboe_file_bundle_amd/dist/c_react-use_useEffectOnce-vfllHYSQD\", \"atlas/file_viewer/scl_oboe_file_bundle_amd/dist/c_react-window_index\": \"static/atlas/file_viewer/scl_oboe_file_bundle_amd/dist/c_react-window_index-vflEWGqzb\", \"atlas/file_viewer/scl_oboe_file_bundle_amd/dist/c_react_query_api_helpers_queries_cloud_docs_team_settings\": \"static/atlas/file_viewer/scl_oboe_file_bundle_amd/dist/c_react_query_api_helpers_queries_cloud_docs_team_settings-vfl7mZpVS\", \"atlas/file_viewer/scl_oboe_file_bundle_amd/dist/c_redux_unsupported\": \"static/atlas/file_viewer/scl_oboe_file_bundle_amd/dist/c_redux_unsupported-vflar3_XX\", \"atlas/file_viewer/scl_oboe_file_bundle_amd/dist/c_rfc4648\": \"static/atlas/file_viewer/scl_oboe_file_bundle_amd/dist/c_rfc4648-vflgNSi_O\", \"atlas/file_viewer/scl_oboe_file_bundle_amd/dist/c_security_crypto\": \"static/atlas/file_viewer/scl_oboe_file_bundle_amd/dist/c_security_crypto-vflWY-r-7\", \"atlas/file_viewer/scl_oboe_file_bundle_amd/dist/c_security_legacy_edge_shim\": \"static/atlas/file_viewer/scl_oboe_file_bundle_amd/dist/c_security_legacy_edge_shim-vflJBwaeg\", \"atlas/file_viewer/scl_oboe_file_bundle_amd/dist/c_security_passwords\": \"static/atlas/file_viewer/scl_oboe_file_bundle_amd/dist/c_security_passwords-vfl_cWDeI\", \"atlas/file_viewer/scl_oboe_file_bundle_amd/dist/c_send_and_track_components_send_and_track_banner\": \"static/atlas/file_viewer/scl_oboe_file_bundle_amd/dist/c_send_and_track_components_send_and_track_banner-vfl6Tu4Sy\", \"atlas/file_viewer/scl_oboe_file_bundle_amd/dist/c_sentry_core_hub\": \"static/atlas/file_viewer/scl_oboe_file_bundle_amd/dist/c_sentry_core_hub-vflEVRq7o\", \"atlas/file_viewer/scl_oboe_file_bundle_amd/dist/c_server_side_client_view_bridge\": \"static/atlas/file_viewer/scl_oboe_file_bundle_amd/dist/c_server_side_client_view_bridge-vflcmiqLO\", \"atlas/file_viewer/scl_oboe_file_bundle_amd/dist/c_share_download_ui_actions\": \"static/atlas/file_viewer/scl_oboe_file_bundle_amd/dist/c_share_download_ui_actions-vflCh84Yd\", \"atlas/file_viewer/scl_oboe_file_bundle_amd/dist/c_share_download_ui_api\": \"static/atlas/file_viewer/scl_oboe_file_bundle_amd/dist/c_share_download_ui_api-vflTvu57_\", \"atlas/file_viewer/scl_oboe_file_bundle_amd/dist/c_share_download_ui_logger\": \"static/atlas/file_viewer/scl_oboe_file_bundle_amd/dist/c_share_download_ui_logger-vfl--D3P7\", \"atlas/file_viewer/scl_oboe_file_bundle_amd/dist/c_share_download_ui_post_download_modal\": \"static/atlas/file_viewer/scl_oboe_file_bundle_amd/dist/c_share_download_ui_post_download_modal-vflII0w5i\", \"atlas/file_viewer/scl_oboe_file_bundle_amd/dist/c_share_main_section_invite_shared_members.after-display\": \"static/atlas/file_viewer/scl_oboe_file_bundle_amd/dist/c_share_main_section_invite_shared_members.after-display-vflf2xT0N\", \"atlas/file_viewer/scl_oboe_file_bundle_amd/dist/c_shared-folder-preview-page_actions_on-copy-link.after-display\": \"static/atlas/file_viewer/scl_oboe_file_bundle_amd/dist/c_shared-folder-preview-page_actions_on-copy-link.after-display-vflmvsqH_\", \"atlas/file_viewer/scl_oboe_file_bundle_amd/dist/c_shared-folder-preview-page_actions_on-download.after-display\": \"static/atlas/file_viewer/scl_oboe_file_bundle_amd/dist/c_shared-folder-preview-page_actions_on-download.after-display-vflw11Y1e\", \"atlas/file_viewer/scl_oboe_file_bundle_amd/dist/c_shared-folder-preview-page_actions_on-join-primary-folder.after-display\": \"static/atlas/file_viewer/scl_oboe_file_bundle_amd/dist/c_shared-folder-preview-page_actions_on-join-primary-folder.after-display-vflnhD_0e\", \"atlas/file_viewer/scl_oboe_file_bundle_amd/dist/c_shared_link_folder_app\": \"static/atlas/file_viewer/scl_oboe_file_bundle_amd/dist/c_shared_link_folder_app-vflMG9k1Z\", \"atlas/file_viewer/scl_oboe_file_bundle_amd/dist/c_shared_link_ui_sign_up_welcome_modal\": \"static/atlas/file_viewer/scl_oboe_file_bundle_amd/dist/c_shared_link_ui_sign_up_welcome_modal-vflwnle45\", \"atlas/file_viewer/scl_oboe_file_bundle_amd/dist/c_shared_with_redux_store\": \"static/atlas/file_viewer/scl_oboe_file_bundle_amd/dist/c_shared_with_redux_store-vfleNxC3L\", \"atlas/file_viewer/scl_oboe_file_bundle_amd/dist/c_shareme24_browse_integration_index.after-display\": \"static/atlas/file_viewer/scl_oboe_file_bundle_amd/dist/c_shareme24_browse_integration_index.after-display-vflVR8s99\", \"atlas/file_viewer/scl_oboe_file_bundle_amd/dist/c_sharing_avatar_info\": \"static/atlas/file_viewer/scl_oboe_file_bundle_amd/dist/c_sharing_avatar_info-vflA521b7\", \"atlas/file_viewer/scl_oboe_file_bundle_amd/dist/c_sharing_cdm_new_folder_modal\": \"static/atlas/file_viewer/scl_oboe_file_bundle_amd/dist/c_sharing_cdm_new_folder_modal-vflF2yGzT\", \"atlas/file_viewer/scl_oboe_file_bundle_amd/dist/c_sharing_components_privacy_link_footer\": \"static/atlas/file_viewer/scl_oboe_file_bundle_amd/dist/c_sharing_components_privacy_link_footer-vfl_5-rWk\", \"atlas/file_viewer/scl_oboe_file_bundle_amd/dist/c_sharing_content_manager\": \"static/atlas/file_viewer/scl_oboe_file_bundle_amd/dist/c_sharing_content_manager-vflF8Q8QM\", \"atlas/file_viewer/scl_oboe_file_bundle_amd/dist/c_sharing_invitation_signup_page\": \"static/atlas/file_viewer/scl_oboe_file_bundle_amd/dist/c_sharing_invitation_signup_page-vflXxKSj_\", \"atlas/file_viewer/scl_oboe_file_bundle_amd/dist/c_sharing_no_download_experiment_no_download_modal\": \"static/atlas/file_viewer/scl_oboe_file_bundle_amd/dist/c_sharing_no_download_experiment_no_download_modal-vflNiWs42\", \"atlas/file_viewer/scl_oboe_file_bundle_amd/dist/c_sharing_replay_share_modal\": \"static/atlas/file_viewer/scl_oboe_file_bundle_amd/dist/c_sharing_replay_share_modal-vflpSR_0c\", \"atlas/file_viewer/scl_oboe_file_bundle_amd/dist/c_sharing_share_modal_util\": \"static/atlas/file_viewer/scl_oboe_file_bundle_amd/dist/c_sharing_share_modal_util-vflFtBbTE\", \"atlas/file_viewer/scl_oboe_file_bundle_amd/dist/c_sharing_shared_content_link_mount_folder\": \"static/atlas/file_viewer/scl_oboe_file_bundle_amd/dist/c_sharing_shared_content_link_mount_folder-vflgAC1qA\", \"atlas/file_viewer/scl_oboe_file_bundle_amd/dist/c_signup_signin_unified_susi\": \"static/atlas/file_viewer/scl_oboe_file_bundle_amd/dist/c_signup_signin_unified_susi-vflMCzlYx\", \"atlas/file_viewer/scl_oboe_file_bundle_amd/dist/c_spectrum-content-icon-compatibility_src_file_icon\": \"static/atlas/file_viewer/scl_oboe_file_bundle_amd/dist/c_spectrum-content-icon-compatibility_src_file_icon-vflS_6JOw\", \"atlas/file_viewer/scl_oboe_file_bundle_amd/dist/c_spectrum_button\": \"static/atlas/file_viewer/scl_oboe_file_bundle_amd/dist/c_spectrum_button-vflEK7heF\", \"atlas/file_viewer/scl_oboe_file_bundle_amd/dist/c_spectrum_checkbox\": \"static/atlas/file_viewer/scl_oboe_file_bundle_amd/dist/c_spectrum_checkbox-vflOZSiLa\", \"atlas/file_viewer/scl_oboe_file_bundle_amd/dist/c_spectrum_culled_list\": \"static/atlas/file_viewer/scl_oboe_file_bundle_amd/dist/c_spectrum_culled_list-vfl9HIHpb\", \"atlas/file_viewer/scl_oboe_file_bundle_amd/dist/c_spectrum_dimensions\": \"static/atlas/file_viewer/scl_oboe_file_bundle_amd/dist/c_spectrum_dimensions-vflb5u6by\", \"atlas/file_viewer/scl_oboe_file_bundle_amd/dist/c_spectrum_icon_arrow_index\": \"static/atlas/file_viewer/scl_oboe_file_bundle_amd/dist/c_spectrum_icon_arrow_index-vfluXfp2E\", \"atlas/file_viewer/scl_oboe_file_bundle_amd/dist/c_spectrum_icon_form_index\": \"static/atlas/file_viewer/scl_oboe_file_bundle_amd/dist/c_spectrum_icon_form_index-vflL1xYKs\", \"atlas/file_viewer/scl_oboe_file_bundle_amd/dist/c_spectrum_match\": \"static/atlas/file_viewer/scl_oboe_file_bundle_amd/dist/c_spectrum_match-vfl3r-lIU\", \"atlas/file_viewer/scl_oboe_file_bundle_amd/dist/c_spectrum_media_table_media_cell\": \"static/atlas/file_viewer/scl_oboe_file_bundle_amd/dist/c_spectrum_media_table_media_cell-vfl37dhWB\", \"atlas/file_viewer/scl_oboe_file_bundle_amd/dist/c_spectrum_modal_utility_modal\": \"static/atlas/file_viewer/scl_oboe_file_bundle_amd/dist/c_spectrum_modal_utility_modal-vfl8LbrGX\", \"atlas/file_viewer/scl_oboe_file_bundle_amd/dist/c_spectrum_overflow_button\": \"static/atlas/file_viewer/scl_oboe_file_bundle_amd/dist/c_spectrum_overflow_button-vflTnl5VJ\", \"atlas/file_viewer/scl_oboe_file_bundle_amd/dist/c_spectrum_popover_popover_trigger\": \"static/atlas/file_viewer/scl_oboe_file_bundle_amd/dist/c_spectrum_popover_popover_trigger-vflgQBxk9\", \"atlas/file_viewer/scl_oboe_file_bundle_amd/dist/c_spectrum_tooltip\": \"static/atlas/file_viewer/scl_oboe_file_bundle_amd/dist/c_spectrum_tooltip-vfli00ypn\", \"atlas/file_viewer/scl_oboe_file_bundle_amd/dist/c_src_common_constants\": \"static/atlas/file_viewer/scl_oboe_file_bundle_amd/dist/c_src_common_constants-vflH0yleH\", \"atlas/file_viewer/scl_oboe_file_bundle_amd/dist/c_src_common_helpers\": \"static/atlas/file_viewer/scl_oboe_file_bundle_amd/dist/c_src_common_helpers-vflu24vTn\", \"atlas/file_viewer/scl_oboe_file_bundle_amd/dist/c_src_components_waiting-modal\": \"static/atlas/file_viewer/scl_oboe_file_bundle_amd/dist/c_src_components_waiting-modal-vfloQXVCI\", \"atlas/file_viewer/scl_oboe_file_bundle_amd/dist/c_src_icons_file_icon\": \"static/atlas/file_viewer/scl_oboe_file_bundle_amd/dist/c_src_icons_file_icon-vflaktX0e\", \"atlas/file_viewer/scl_oboe_file_bundle_amd/dist/c_src_sink_index\": \"static/atlas/file_viewer/scl_oboe_file_bundle_amd/dist/c_src_sink_index-vflgfN_ws\", \"atlas/file_viewer/scl_oboe_file_bundle_amd/dist/c_src_table\": \"static/atlas/file_viewer/scl_oboe_file_bundle_amd/dist/c_src_table-vflrAu4qI\", \"atlas/file_viewer/scl_oboe_file_bundle_amd/dist/c_src_utils_initials\": \"static/atlas/file_viewer/scl_oboe_file_bundle_amd/dist/c_src_utils_initials-vfl5Lx09e\", \"atlas/file_viewer/scl_oboe_file_bundle_amd/dist/c_supplemental_pages_claiming_page\": \"static/atlas/file_viewer/scl_oboe_file_bundle_amd/dist/c_supplemental_pages_claiming_page-vflmBaN8H\", \"atlas/file_viewer/scl_oboe_file_bundle_amd/dist/c_supplemental_pages_download_mobile_app\": \"static/atlas/file_viewer/scl_oboe_file_bundle_amd/dist/c_supplemental_pages_download_mobile_app-vflgH-bi_\", \"atlas/file_viewer/scl_oboe_file_bundle_amd/dist/c_supplemental_pages_download_safari\": \"static/atlas/file_viewer/scl_oboe_file_bundle_amd/dist/c_supplemental_pages_download_safari-vflTkYTWE\", \"atlas/file_viewer/scl_oboe_file_bundle_amd/dist/c_supplemental_pages_error_page\": \"static/atlas/file_viewer/scl_oboe_file_bundle_amd/dist/c_supplemental_pages_error_page-vfl53Xe7A\", \"atlas/file_viewer/scl_oboe_file_bundle_amd/dist/c_supplemental_pages_request_access_page\": \"static/atlas/file_viewer/scl_oboe_file_bundle_amd/dist/c_supplemental_pages_request_access_page-vfllbAIpp\", \"atlas/file_viewer/scl_oboe_file_bundle_amd/dist/c_supplemental_pages_verify_email\": \"static/atlas/file_viewer/scl_oboe_file_bundle_amd/dist/c_supplemental_pages_verify_email-vfldmdAxn\", \"atlas/file_viewer/scl_oboe_file_bundle_amd/dist/c_sync_everything_hive_logger\": \"static/atlas/file_viewer/scl_oboe_file_bundle_amd/dist/c_sync_everything_hive_logger-vflpKNq6q\", \"atlas/file_viewer/scl_oboe_file_bundle_amd/dist/c_sync_everything_redux_selectors\": \"static/atlas/file_viewer/scl_oboe_file_bundle_amd/dist/c_sync_everything_redux_selectors-vflhep5h_\", \"atlas/file_viewer/scl_oboe_file_bundle_amd/dist/c_sync_everything_types\": \"static/atlas/file_viewer/scl_oboe_file_bundle_amd/dist/c_sync_everything_types-vflaaHevT\", \"atlas/file_viewer/scl_oboe_file_bundle_amd/dist/c_tabs_whats_new_contents_helpers\": \"static/atlas/file_viewer/scl_oboe_file_bundle_amd/dist/c_tabs_whats_new_contents_helpers-vfl0KF7Xi\", \"atlas/file_viewer/scl_oboe_file_bundle_amd/dist/c_tagging_components_tags_search\": \"static/atlas/file_viewer/scl_oboe_file_bundle_amd/dist/c_tagging_components_tags_search-vflCw77RS\", \"atlas/file_viewer/scl_oboe_file_bundle_amd/dist/c_tagging_logger\": \"static/atlas/file_viewer/scl_oboe_file_bundle_amd/dist/c_tagging_logger-vflSvtrNy\", \"atlas/file_viewer/scl_oboe_file_bundle_amd/dist/c_team_creation_lottie_assets_collaboration_lottie\": \"static/atlas/file_viewer/scl_oboe_file_bundle_amd/dist/c_team_creation_lottie_assets_collaboration_lottie-vfl1A_gp_\", \"atlas/file_viewer/scl_oboe_file_bundle_amd/dist/c_teams_freemium_utils\": \"static/atlas/file_viewer/scl_oboe_file_bundle_amd/dist/c_teams_freemium_utils-vfl6BASmL\", \"atlas/file_viewer/scl_oboe_file_bundle_amd/dist/c_teams_idle_timeout_pagelet.after-display\": \"static/atlas/file_viewer/scl_oboe_file_bundle_amd/dist/c_teams_idle_timeout_pagelet.after-display-vflTKChYM\", \"atlas/file_viewer/scl_oboe_file_bundle_amd/dist/c_teams_members_data_util\": \"static/atlas/file_viewer/scl_oboe_file_bundle_amd/dist/c_teams_members_data_util-vflxiWOHZ\", \"atlas/file_viewer/scl_oboe_file_bundle_amd/dist/c_teams_modals_locked_state_feature_blocking_modal\": \"static/atlas/file_viewer/scl_oboe_file_bundle_amd/dist/c_teams_modals_locked_state_feature_blocking_modal-vflFX1s3U\", \"atlas/file_viewer/scl_oboe_file_bundle_amd/dist/c_teams_team_creation_free_team_create_button\": \"static/atlas/file_viewer/scl_oboe_file_bundle_amd/dist/c_teams_team_creation_free_team_create_button-vflgwBniJ\", \"atlas/file_viewer/scl_oboe_file_bundle_amd/dist/c_time_pref_hooks\": \"static/atlas/file_viewer/scl_oboe_file_bundle_amd/dist/c_time_pref_hooks-vflFJ_DT0\", \"atlas/file_viewer/scl_oboe_file_bundle_amd/dist/c_title_bar_base\": \"static/atlas/file_viewer/scl_oboe_file_bundle_amd/dist/c_title_bar_base-vflZWKvje\", \"atlas/file_viewer/scl_oboe_file_bundle_amd/dist/c_title_bar_dropdowns_titlebar_edit_dropdown\": \"static/atlas/file_viewer/scl_oboe_file_bundle_amd/dist/c_title_bar_dropdowns_titlebar_edit_dropdown-vflrCxApe\", \"atlas/file_viewer/scl_oboe_file_bundle_amd/dist/c_title_bar_dropdowns_titlebar_file_dropdown.after-display\": \"static/atlas/file_viewer/scl_oboe_file_bundle_amd/dist/c_title_bar_dropdowns_titlebar_file_dropdown.after-display-vfln9hj1B\", \"atlas/file_viewer/scl_oboe_file_bundle_amd/dist/c_title_bar_dropdowns_titlebar_help_dropdown.after-display\": \"static/atlas/file_viewer/scl_oboe_file_bundle_amd/dist/c_title_bar_dropdowns_titlebar_help_dropdown.after-display-vflMj0mIq\", \"atlas/file_viewer/scl_oboe_file_bundle_amd/dist/c_title_bar_dropdowns_titlebar_view_dropdown.after-display\": \"static/atlas/file_viewer/scl_oboe_file_bundle_amd/dist/c_title_bar_dropdowns_titlebar_view_dropdown.after-display-vflcBB3zT\", \"atlas/file_viewer/scl_oboe_file_bundle_amd/dist/c_transcript_blade_components_transcript_blade_content\": \"static/atlas/file_viewer/scl_oboe_file_bundle_amd/dist/c_transcript_blade_components_transcript_blade_content-vflZgoMZB\", \"atlas/file_viewer/scl_oboe_file_bundle_amd/dist/c_trash_actions\": \"static/atlas/file_viewer/scl_oboe_file_bundle_amd/dist/c_trash_actions-vflLdaetW\", \"atlas/file_viewer/scl_oboe_file_bundle_amd/dist/c_trash_trash_modal_util\": \"static/atlas/file_viewer/scl_oboe_file_bundle_amd/dist/c_trash_trash_modal_util-vflmrF6H6\", \"atlas/file_viewer/scl_oboe_file_bundle_amd/dist/c_trial-cards_trial-comparison-card\": \"static/atlas/file_viewer/scl_oboe_file_bundle_amd/dist/c_trial-cards_trial-comparison-card-vflIwONt4\", \"atlas/file_viewer/scl_oboe_file_bundle_amd/dist/c_trial-cards_trial-comparison-card_types\": \"static/atlas/file_viewer/scl_oboe_file_bundle_amd/dist/c_trial-cards_trial-comparison-card_types-vflPF6hVz\", \"atlas/file_viewer/scl_oboe_file_bundle_amd/dist/c_trial-cards_trial-plan-card\": \"static/atlas/file_viewer/scl_oboe_file_bundle_amd/dist/c_trial-cards_trial-plan-card-vflSCSMXh\", \"atlas/file_viewer/scl_oboe_file_bundle_amd/dist/c_ui_async_file_modal_controller\": \"static/atlas/file_viewer/scl_oboe_file_bundle_amd/dist/c_ui_async_file_modal_controller-vflH1XyZY\", \"atlas/file_viewer/scl_oboe_file_bundle_amd/dist/c_ui_bubble_dropdown_v2\": \"static/atlas/file_viewer/scl_oboe_file_bundle_amd/dist/c_ui_bubble_dropdown_v2-vflhTp9gY\", \"atlas/file_viewer/scl_oboe_file_bundle_amd/dist/c_ui_copy_to_dropbox_copy_to_dropbox_helper\": \"static/atlas/file_viewer/scl_oboe_file_bundle_amd/dist/c_ui_copy_to_dropbox_copy_to_dropbox_helper-vflrEYoE-\", \"atlas/file_viewer/scl_oboe_file_bundle_amd/dist/c_ui_data_prefetchUtils\": \"static/atlas/file_viewer/scl_oboe_file_bundle_amd/dist/c_ui_data_prefetchUtils-vflX-BP-9\", \"atlas/file_viewer/scl_oboe_file_bundle_amd/dist/c_ui_file_modal_controller\": \"static/atlas/file_viewer/scl_oboe_file_bundle_amd/dist/c_ui_file_modal_controller-vflml27sy\", \"atlas/file_viewer/scl_oboe_file_bundle_amd/dist/c_ui_file_modals\": \"static/atlas/file_viewer/scl_oboe_file_bundle_amd/dist/c_ui_file_modals-vflG0oJCp\", \"atlas/file_viewer/scl_oboe_file_bundle_amd/dist/c_ui_file_path_breadcrumb\": \"static/atlas/file_viewer/scl_oboe_file_bundle_amd/dist/c_ui_file_path_breadcrumb-vfl_3ANfV\", \"atlas/file_viewer/scl_oboe_file_bundle_amd/dist/c_ui_flag\": \"static/atlas/file_viewer/scl_oboe_file_bundle_amd/dist/c_ui_flag-vflFJUcl7\", \"atlas/file_viewer/scl_oboe_file_bundle_amd/dist/c_ui_image\": \"static/atlas/file_viewer/scl_oboe_file_bundle_amd/dist/c_ui_image-vflmPxX5O\", \"atlas/file_viewer/scl_oboe_file_bundle_amd/dist/c_ui_locale_selector_modal\": \"static/atlas/file_viewer/scl_oboe_file_bundle_amd/dist/c_ui_locale_selector_modal-vfl-5TCQ_\", \"atlas/file_viewer/scl_oboe_file_bundle_amd/dist/c_ui_modal_dig\": \"static/atlas/file_viewer/scl_oboe_file_bundle_amd/dist/c_ui_modal_dig-vflOmYInn\", \"atlas/file_viewer/scl_oboe_file_bundle_amd/dist/c_ui_overlay\": \"static/atlas/file_viewer/scl_oboe_file_bundle_amd/dist/c_ui_overlay-vflp_vJ95\", \"atlas/file_viewer/scl_oboe_file_bundle_amd/dist/c_ui_sprite\": \"static/atlas/file_viewer/scl_oboe_file_bundle_amd/dist/c_ui_sprite-vfl9nVlkX\", \"atlas/file_viewer/scl_oboe_file_bundle_amd/dist/c_ui_sprite_div\": \"static/atlas/file_viewer/scl_oboe_file_bundle_amd/dist/c_ui_sprite_div-vflT5yCJz\", \"atlas/file_viewer/scl_oboe_file_bundle_amd/dist/c_ui_title_bubble\": \"static/atlas/file_viewer/scl_oboe_file_bundle_amd/dist/c_ui_title_bubble-vfl9tmLyu\", \"atlas/file_viewer/scl_oboe_file_bundle_amd/dist/c_ui_tooltip\": \"static/atlas/file_viewer/scl_oboe_file_bundle_amd/dist/c_ui_tooltip-vflQeMmHa\", \"atlas/file_viewer/scl_oboe_file_bundle_amd/dist/c_ui_tree\": \"static/atlas/file_viewer/scl_oboe_file_bundle_amd/dist/c_ui_tree-vflgxZWoB\", \"atlas/file_viewer/scl_oboe_file_bundle_amd/dist/c_ui_trials_types\": \"static/atlas/file_viewer/scl_oboe_file_bundle_amd/dist/c_ui_trials_types-vflk_F7jL\", \"atlas/file_viewer/scl_oboe_file_bundle_amd/dist/c_unified_susi_register_password_validator\": \"static/atlas/file_viewer/scl_oboe_file_bundle_amd/dist/c_unified_susi_register_password_validator-vflFi3iGs\", \"atlas/file_viewer/scl_oboe_file_bundle_amd/dist/c_upload_kit_lib_types\": \"static/atlas/file_viewer/scl_oboe_file_bundle_amd/dist/c_upload_kit_lib_types-vflLfaNPh\", \"atlas/file_viewer/scl_oboe_file_bundle_amd/dist/c_upload_kit_scheduler_types\": \"static/atlas/file_viewer/scl_oboe_file_bundle_amd/dist/c_upload_kit_scheduler_types-vflpFkvde\", \"atlas/file_viewer/scl_oboe_file_bundle_amd/dist/c_upload_kit_uploader_controller\": \"static/atlas/file_viewer/scl_oboe_file_bundle_amd/dist/c_upload_kit_uploader_controller-vflIIRdGz\", \"atlas/file_viewer/scl_oboe_file_bundle_amd/dist/c_user_education_react_user_education_pulsar\": \"static/atlas/file_viewer/scl_oboe_file_bundle_amd/dist/c_user_education_react_user_education_pulsar-vflXY8eb0\", \"atlas/file_viewer/scl_oboe_file_bundle_amd/dist/c_user_metadata_api\": \"static/atlas/file_viewer/scl_oboe_file_bundle_amd/dist/c_user_metadata_api-vfl3u3BvU\", \"atlas/file_viewer/scl_oboe_file_bundle_amd/dist/c_user_notifications_dropdown\": \"static/atlas/file_viewer/scl_oboe_file_bundle_amd/dist/c_user_notifications_dropdown-vflyXJWLA\", \"atlas/file_viewer/scl_oboe_file_bundle_amd/dist/c_user_notifications_dropdown_bluenote_row.after-display\": \"static/atlas/file_viewer/scl_oboe_file_bundle_amd/dist/c_user_notifications_dropdown_bluenote_row.after-display-vfl4V1U8u\", \"atlas/file_viewer/scl_oboe_file_bundle_amd/dist/c_user_notifications_group_actions\": \"static/atlas/file_viewer/scl_oboe_file_bundle_amd/dist/c_user_notifications_group_actions-vflNl_xt_\", \"atlas/file_viewer/scl_oboe_file_bundle_amd/dist/c_user_notifications_sharing_actions\": \"static/atlas/file_viewer/scl_oboe_file_bundle_amd/dist/c_user_notifications_sharing_actions-vfl9HBGJR\", \"atlas/file_viewer/scl_oboe_file_bundle_amd/dist/c_utility_nav_items_account_menu\": \"static/atlas/file_viewer/scl_oboe_file_bundle_amd/dist/c_utility_nav_items_account_menu-vflyu73sE\", \"atlas/file_viewer/scl_oboe_file_bundle_amd/dist/c_utils_dsx_dsx-react\": \"static/atlas/file_viewer/scl_oboe_file_bundle_amd/dist/c_utils_dsx_dsx-react-vfltmRiZ8\", \"atlas/file_viewer/scl_oboe_file_bundle_amd/dist/c_ux_analytics_styles_devtools\": \"static/atlas/file_viewer/scl_oboe_file_bundle_amd/dist/c_ux_analytics_styles_devtools-vflC8kYgR\", \"atlas/file_viewer/scl_oboe_file_bundle_amd/dist/c_ux_analytics_ux_variants\": \"static/atlas/file_viewer/scl_oboe_file_bundle_amd/dist/c_ux_analytics_ux_variants-vfl6QMq5G\", \"atlas/file_viewer/scl_oboe_file_bundle_amd/dist/c_uxa_pagelet\": \"static/atlas/file_viewer/scl_oboe_file_bundle_amd/dist/c_uxa_pagelet-vflOO4yDC\", \"atlas/file_viewer/scl_oboe_file_bundle_amd/dist/c_views_copy_link_mini_modal\": \"static/atlas/file_viewer/scl_oboe_file_bundle_amd/dist/c_views_copy_link_mini_modal-vflYQvyZC\", \"atlas/file_viewer/scl_oboe_file_bundle_amd/dist/c_views_copy_link_mini_modal_copy_link_mini_modal.after-display\": \"static/atlas/file_viewer/scl_oboe_file_bundle_amd/dist/c_views_copy_link_mini_modal_copy_link_mini_modal.after-display-vfl1IgOos\", \"atlas/file_viewer/scl_oboe_file_bundle_amd/dist/c_web_modal_activity_logger\": \"static/atlas/file_viewer/scl_oboe_file_bundle_amd/dist/c_web_modal_activity_logger-vflyyRI_k\", \"atlas/file_viewer/scl_oboe_file_bundle_amd/dist/c_workflow_builder_workflow_actions_action_ui_config\": \"static/atlas/file_viewer/scl_oboe_file_bundle_amd/dist/c_workflow_builder_workflow_actions_action_ui_config-vflM-y5aW\", \"atlas/file_viewer/scl_oboe_file_bundle_amd/dist/c_zxcvbn_main\": \"static/atlas/file_viewer/scl_oboe_file_bundle_amd/dist/c_zxcvbn_main-vfl5orb41\", \"atlas/file_viewer/scl_oboe_file_bundle_amd/dist/e_core_exception\": \"static/atlas/file_viewer/scl_oboe_file_bundle_amd/dist/e_core_exception-vflZRNZsE\", \"atlas/file_viewer/scl_oboe_file_bundle_amd/dist/e_core_exception_reporter\": \"static/atlas/file_viewer/scl_oboe_file_bundle_amd/dist/e_core_exception_reporter-vfl_1VPJb\", \"atlas/file_viewer/scl_oboe_file_bundle_amd/dist/e_data_modules_stormcrow\": \"static/atlas/file_viewer/scl_oboe_file_bundle_amd/dist/e_data_modules_stormcrow-vflPoGyaM\", \"atlas/file_viewer/scl_oboe_file_bundle_amd/dist/e_edison\": \"static/atlas/file_viewer/scl_oboe_file_bundle_amd/dist/e_edison-vfli18mcS\", \"atlas/file_viewer/scl_oboe_file_bundle_amd/dist/e_edison_edison_react_page\": \"static/atlas/file_viewer/scl_oboe_file_bundle_amd/dist/e_edison_edison_react_page-vflZu602U\", \"atlas/file_viewer/scl_oboe_file_bundle_amd/dist/e_edison_init_edison_page\": \"static/atlas/file_viewer/scl_oboe_file_bundle_amd/dist/e_edison_init_edison_page-vflPlbutH\", \"atlas/file_viewer/scl_oboe_file_bundle_amd/dist/e_file_viewer_static_scl_page_file\": \"static/atlas/file_viewer/scl_oboe_file_bundle_amd/dist/e_file_viewer_static_scl_page_file-vfl0v7GYp\", \"atlas/file_viewer/scl_oboe_file_bundle_amd/dist/react\": \"static/atlas/file_viewer/scl_oboe_file_bundle_amd/dist/react-vflYWmbcM\", \"atlas/file_viewer/scl_oboe_file_bundle_amd/dist/react-dom\": \"static/atlas/file_viewer/scl_oboe_file_bundle_amd/dist/react-dom-vflI7_n6Z\", \"atlas/file_viewer/scl_oboe_file_bundle_amd/dist/react-dom-next\": \"static/atlas/file_viewer/scl_oboe_file_bundle_amd/dist/react-dom-next-vflZBQXkh\", \"atlas/file_viewer/scl_oboe_file_bundle_amd/dist/react-next\": \"static/atlas/file_viewer/scl_oboe_file_bundle_amd/dist/react-next-vfl2G3Nv-\", \"json_loader!metaserver/static/js/langpack/icu-da_DK.json\": \"static/metaserver/static/js/langpack/icu-da_DK-vflmi6VPe.json\", \"json_loader!metaserver/static/js/langpack/icu-de.json\": \"static/metaserver/static/js/langpack/icu-de-vflHc4EVr.json\", \"json_loader!metaserver/static/js/langpack/icu-en.json\": \"static/metaserver/static/js/langpack/icu-en-vflmZFLky.json\", \"json_loader!metaserver/static/js/langpack/icu-en_GB.json\": \"static/metaserver/static/js/langpack/icu-en_GB-vflj5aUe6.json\", \"json_loader!metaserver/static/js/langpack/icu-es.json\": \"static/metaserver/static/js/langpack/icu-es-vflAqPD-p.json\", \"json_loader!metaserver/static/js/langpack/icu-es_ES.json\": \"static/metaserver/static/js/langpack/icu-es_ES-vflGemkaI.json\", \"json_loader!metaserver/static/js/langpack/icu-fr.json\": \"static/metaserver/static/js/langpack/icu-fr-vfla7gAH9.json\", \"json_loader!metaserver/static/js/langpack/icu-fr_CA.json\": \"static/metaserver/static/js/langpack/icu-fr_CA-vflUC4E4X.json\", \"json_loader!metaserver/static/js/langpack/icu-id.json\": \"static/metaserver/static/js/langpack/icu-id-vfl4seDT0.json\", \"json_loader!metaserver/static/js/langpack/icu-it.json\": \"static/metaserver/static/js/langpack/icu-it-vflavxlS8.json\", \"json_loader!metaserver/static/js/langpack/icu-ja.json\": \"static/metaserver/static/js/langpack/icu-ja-vflI2Py6S.json\", \"json_loader!metaserver/static/js/langpack/icu-ko.json\": \"static/metaserver/static/js/langpack/icu-ko-vflrCyqru.json\", \"json_loader!metaserver/static/js/langpack/icu-ms.json\": \"static/metaserver/static/js/langpack/icu-ms-vflD5kRBC.json\", \"json_loader!metaserver/static/js/langpack/icu-nb_NO.json\": \"static/metaserver/static/js/langpack/icu-nb_NO-vflIfvQI8.json\", \"json_loader!metaserver/static/js/langpack/icu-nl_NL.json\": \"static/metaserver/static/js/langpack/icu-nl_NL-vflP-9Xoo.json\", \"json_loader!metaserver/static/js/langpack/icu-pl.json\": \"static/metaserver/static/js/langpack/icu-pl-vflYC9gDU.json\", \"json_loader!metaserver/static/js/langpack/icu-pt_BR.json\": \"static/metaserver/static/js/langpack/icu-pt_BR-vflMmuYvd.json\", \"json_loader!metaserver/static/js/langpack/icu-ru.json\": \"static/metaserver/static/js/langpack/icu-ru-vflvj0_Yv.json\", \"json_loader!metaserver/static/js/langpack/icu-sv_SE.json\": \"static/metaserver/static/js/langpack/icu-sv_SE-vflTDnxLR.json\", \"json_loader!metaserver/static/js/langpack/icu-th_TH.json\": \"static/metaserver/static/js/langpack/icu-th_TH-vflQ-911-.json\", \"json_loader!metaserver/static/js/langpack/icu-uk_UA.json\": \"static/metaserver/static/js/langpack/icu-uk_UA-vflLkQs2D.json\", \"json_loader!metaserver/static/js/langpack/icu-xx_AC.json\": \"static/metaserver/static/js/langpack/icu-xx_AC-vflJ2iMkr.json\", \"json_loader!metaserver/static/js/langpack/icu-xx_AE.json\": \"static/metaserver/static/js/langpack/icu-xx_AE-vfloJjp0u.json\", \"json_loader!metaserver/static/js/langpack/icu-xx_HA.json\": \"static/metaserver/static/js/langpack/icu-xx_HA-vflt-L_Gt.json\", \"json_loader!metaserver/static/js/langpack/icu-xx_LS.json\": \"static/metaserver/static/js/langpack/icu-xx_LS-vfl8jrEi4.json\", \"json_loader!metaserver/static/js/langpack/icu-xx_RL.json\": \"static/metaserver/static/js/langpack/icu-xx_RL-vflO6-hY1.json\", \"json_loader!metaserver/static/js/langpack/icu-zh_CN.json\": \"static/metaserver/static/js/langpack/icu-zh_CN-vfleQ-Og1.json\", \"json_loader!metaserver/static/js/langpack/icu-zh_TW.json\": \"static/metaserver/static/js/langpack/icu-zh_TW-vfl2asX6i.json\"}, \"bundles\": {}, \"map\": {\"*\": {\"metaserver/static/js/langpack\": \"json_loader!metaserver/static/js/langpack/icu-en.json\", \"atlas/file_viewer/static/scl_page_file\": \"atlas/file_viewer/scl_oboe_file_bundle_amd/dist/e_file_viewer_static_scl_page_file\", \"metaserver/static/js/core/exception\": \"atlas/file_viewer/scl_oboe_file_bundle_amd/dist/e_core_exception\", \"metaserver/static/js/core/exception_reporter\": \"atlas/file_viewer/scl_oboe_file_bundle_amd/dist/e_core_exception_reporter\", \"js/edison/edison\": \"atlas/file_viewer/scl_oboe_file_bundle_amd/dist/e_edison\", \"js/data_modules/stormcrow\": \"atlas/file_viewer/scl_oboe_file_bundle_amd/dist/e_data_modules_stormcrow\", \"metaserver/static/js/edison/init_edison_page\": \"atlas/file_viewer/scl_oboe_file_bundle_amd/dist/e_edison_init_edison_page\", \"js/edison/edison_react_page\": \"atlas/file_viewer/scl_oboe_file_bundle_amd/dist/e_edison_edison_react_page\", \"react\": \"atlas/file_viewer/scl_oboe_file_bundle_amd/dist/react\", \"react-dom\": \"atlas/file_viewer/scl_oboe_file_bundle_amd/dist/react-dom\", \"react-next\": \"atlas/file_viewer/scl_oboe_file_bundle_amd/dist/react-next\", \"react-dom-next\": \"atlas/file_viewer/scl_oboe_file_bundle_amd/dist/react-dom-next\", \"metaserver/static/js/modules/constants/contacts\": \"data_module!metaserver/static/js/modules/constants/contacts\", \"metaserver/static/js/modules/constants/file_viewer_configuration\": \"data_module!metaserver/static/js/modules/constants/file_viewer_configuration\", \"metaserver/static/js/modules/constants/file_viewer_feature_experiments\": \"data_module!metaserver/static/js/modules/constants/file_viewer_feature_experiments\", \"metaserver/static/js/modules/constants/locales\": \"data_module!metaserver/static/js/modules/constants/locales\", \"metaserver/static/js/modules/constants/pdf_editing\": \"data_module!metaserver/static/js/modules/constants/pdf_editing\", \"metaserver/static/js/modules/constants/search\": \"data_module!metaserver/static/js/modules/constants/search\", \"metaserver/static/js/modules/constants/sharing\": \"data_module!metaserver/static/js/modules/constants/sharing\", \"metaserver/static/js/modules/constants/teams\": \"data_module!metaserver/static/js/modules/constants/teams\", \"metaserver/static/js/modules/constants/viewer\": \"data_module!metaserver/static/js/modules/constants/viewer\", \"metaserver/static/js/modules/constants/web_experience_constants\": \"data_module!metaserver/static/js/modules/constants/web_experience_constants\"}, \"metaserver/static/js/core/exception_info\": {\"metaserver/static/js/langpack\": \"json_loader!metaserver/static/js/langpack/icu-en.json\", \"atlas/file_viewer/static/scl_page_file\": \"atlas/file_viewer/scl_oboe_file_bundle_amd/dist/e_file_viewer_static_scl_page_file\", \"metaserver/static/js/core/exception\": \"atlas/file_viewer/scl_oboe_file_bundle_amd/dist/e_core_exception\", \"metaserver/static/js/core/exception_reporter\": \"atlas/file_viewer/scl_oboe_file_bundle_amd/dist/e_core_exception_reporter\", \"js/edison/edison\": \"atlas/file_viewer/scl_oboe_file_bundle_amd/dist/e_edison\", \"js/data_modules/stormcrow\": \"atlas/file_viewer/scl_oboe_file_bundle_amd/dist/e_data_modules_stormcrow\", \"metaserver/static/js/edison/init_edison_page\": \"atlas/file_viewer/scl_oboe_file_bundle_amd/dist/e_edison_init_edison_page\", \"js/edison/edison_react_page\": \"atlas/file_viewer/scl_oboe_file_bundle_amd/dist/e_edison_edison_react_page\", \"react\": \"atlas/file_viewer/scl_oboe_file_bundle_amd/dist/react\", \"react-dom\": \"atlas/file_viewer/scl_oboe_file_bundle_amd/dist/react-dom\", \"react-next\": \"atlas/file_viewer/scl_oboe_file_bundle_amd/dist/react-next\", \"react-dom-next\": \"atlas/file_viewer/scl_oboe_file_bundle_amd/dist/react-dom-next\", \"metaserver/static/js/modules/constants/contacts\": \"unreadable_jsconst_loader!metaserver/static/js/modules/constants/contacts\", \"metaserver/static/js/modules/constants/file_viewer_configuration\": \"unreadable_jsconst_loader!metaserver/static/js/modules/constants/file_viewer_configuration\", \"metaserver/static/js/modules/constants/file_viewer_feature_experiments\": \"unreadable_jsconst_loader!metaserver/static/js/modules/constants/file_viewer_feature_experiments\", \"metaserver/static/js/modules/constants/locales\": \"unreadable_jsconst_loader!metaserver/static/js/modules/constants/locales\", \"metaserver/static/js/modules/constants/pdf_editing\": \"unreadable_jsconst_loader!metaserver/static/js/modules/constants/pdf_editing\", \"metaserver/static/js/modules/constants/search\": \"unreadable_jsconst_loader!metaserver/static/js/modules/constants/search\", \"metaserver/static/js/modules/constants/sharing\": \"unreadable_jsconst_loader!metaserver/static/js/modules/constants/sharing\", \"metaserver/static/js/modules/constants/teams\": \"unreadable_jsconst_loader!metaserver/static/js/modules/constants/teams\", \"metaserver/static/js/modules/constants/viewer\": \"unreadable_jsconst_loader!metaserver/static/js/modules/constants/viewer\", \"metaserver/static/js/modules/constants/web_experience_constants\": \"unreadable_jsconst_loader!metaserver/static/js/modules/constants/web_experience_constants\"}}, \"shim\": {}, \"nodeIdCompat\": true};\n",
            "window.addRequireLoadCallback(function() {\n",
            "    window.configureRequire(requireConfig, {\n",
            "        sentryOptions: {\"release\":\"f8eba95efabbbeec6056f947afc10dc2adf40dfe\",\"environment\":\"prod\",\"tags\":{\"edison_atlasservlet\":\"file_viewer\",\"edison_page_name\":\"scl_oboe_file\",\"browser_id\":\"75358599016251452970217489507856817617\"}},\n",
            "        requireFallbackBaseUrl: \"https://www.dropboxstatic.com/\",\n",
            "        langpack: {locale: \"en\"},\n",
            "        useReactNext: false ,\n",
            "        exceptionExtras: {\"page_repo_rev\":\"f8eba95efabbbeec6056f947afc10dc2adf40dfe\",\"yaps_deployment\":\"prod\",\"yaps_project\":\"edison_atlasservlet.file_viewer-edison\",\"page_locale\":\"en\",\"page_load_timestamp\":1719388858},\n",
            "        exceptionTags: [\"is_edison\",\"browser-id:75358599016251452970217489507856817617\",\"edison_page_name:scl_oboe_file\",\"edison_atlasservlet:file_viewer\",\"edison_atlasservlet:file_viewer:prod\"],\n",
            "        initDataBase64: \"EiBlOGQ5MWZiYjllMTE0MGZjYTE5NzY5Y2EwMmQzOGQ5MRi6le+zBiJnaHR0cHM6Ly93d3cuZHJvcGJveC5jb20vc2NsL2ZpL280dDZjcTVnMTZqZWx6MXYwejJsai9tb2JpbGVfY2xlYW5lZC5jc3Y/cmxrZXk9ZHc5ZGlkN3RzNDF4NGl3bWtmZ3oxcWx0MjpKCiY3NTM1ODU5OTAxNjI1MTQ1Mjk3MDIxNzQ4OTUwNzg1NjgxNzYxNxIgMzhiMTg5Y2EyZGE4ZGQ5ODkyODA0ZDM2ODg5NjFkZDFCJmVkaXNvbl9hdGxhc3NlcnZsZXQuZmlsZV92aWV3ZXItZWRpc29uSgRwcm9kUg1zY2xfb2JvZV9maWxlWgJlbmIoZjhlYmE5NWVmYWJiYmVlYzYwNTZmOTQ3YWZjMTBkYzJhZGY0MGRmZWpQCiF4LWRyb3Bib3gtY2xpZW50LXlhcHMtYXR0cmlidXRpb24SK2VkaXNvbl9hdGxhc3NlcnZsZXQuZmlsZV92aWV3ZXItZWRpc29uOnByb2RyBAoAEgB6E3NoYXJlZF9jb250ZW50X2xpbmuCAShzaGFyZWRfY29udGVudF9saW5rX3ZpZXdfZmlsZV9hbmRfZm9sZGVykgFYCiZhdGxhcy9maWxlX3ZpZXdlci9zdGF0aWMvc2NsX3BhZ2VfZmlsZRIoMzhkNjgxZDUzZjY1MGQ0NDVkNTUyMzUwOWZlZTVhMWZjNjgzY2ZiYRoEcHJvZA==\"\n",
            "    }, []);\n",
            "    var start = performance.now();\n",
            "    window.require([\"metaserver/static/js/edison/init_edison_page\"], function(mod) {\n",
            "        window.EDISON_METRICS_INIT_PAGE_MODULE_LOAD_TIME = performance.now() - start;\n",
            "        mod.initPage(\"EgtmaWxlX3ZpZXdlchoNc2NsX29ib2VfZmlsZTIwL3NjbC9maS9vNHQ2Y3E1ZzE2amVsejF2MHoybGovbW9iaWxlX2NsZWFuZWQuY3N2ShNzaGFyZWRfY29udGVudF9saW5rUihzaGFyZWRfY29udGVudF9saW5rX3ZpZXdfZmlsZV9hbmRfZm9sZGVyYihmOGViYTk1ZWZhYmJiZWVjNjA1NmY5NDdhZmMxMGRjMmFkZjQwZGZlaigzOGQ2ODFkNTNmNjUwZDQ0NWQ1NTIzNTA5ZmVlNWExZmM2ODNjZmJhcAF6BHByb2SyAQkvZHdzMi9ycGPKASZhdGxhcy9maWxlX3ZpZXdlci9zdGF0aWMvc2NsX3BhZ2VfZmlsZeIBZ2h0dHBzOi8vd3d3LmRyb3Bib3guY29tL3NjbC9maS9vNHQ2Y3E1ZzE2amVsejF2MHoybGovbW9iaWxlX2NsZWFuZWQuY3N2P3Jsa2V5PWR3OWRpZDd0czQxeDRpd21rZmd6MXFsdDLwAQGIAgGQAgGgAgGyAiAzOGIxODljYTJkYThkZDk4OTI4MDRkMzY4ODk2MWRkMQ==\");\n",
            "    });\n",
            "});\n",
            "</script><script nonce=\"fs8456E9a314SEKKzhdMq0JB7pc=\">window.addRequireLoadCallback(function() {\n",
            "\n",
            "  window.require(\n",
            "    [\"js/edison/edison\", \"js/edison/edison_react_page\", \"atlas/file_viewer/static/scl_page_file\"],\n",
            "    function(edisonModule, edisonReactPageModule, mod) {\n",
            "      edisonReactPageModule.render(mod, false , \"\", false );\n",
            "    }\n",
            "  );\n",
            "});\n",
            "</script><script nonce=\"fs8456E9a314SEKKzhdMq0JB7pc=\">window.addRequireLoadCallback(function() {\n",
            "    window.require([\"js/data_modules/stormcrow\"], function (module) {\n",
            "        module.Stormcrow.markServerSideLoadAssignmentsStarted([\"CiYKJHZpc2hfb29iX2Rvd25sb2FkX2V4Y2x1ZGVfcGFpZF91c2Vycw==\",\"CiEKH3Zpc2hfb29iX2l0ZXJhdGVfb25fYmFzaWNfdXNlcnM=\",\"ChkKF3NtMjRfcHJvZ3Jlc3NpdmVfaW5iYW5k\",\"ChgKFmRyYWdfYW5kX2Ryb3BfcmVkZXNpZ24=\",\"ChEKD3Rtcl90bGNwX3Byb21wdA==\",\"CiAKHnByZXZpZXdzX2V4cF9pbmxpbmVfYXV0aF9tb2RhbA==\",\"ChUKE2VkaXRvcl9zaWduX21lbnVfdjI=\",\"CiAKHnNhdmVkX3ZpZXdfcmVzcG9uc2l2ZV9sZWZ0X25hdg==\",\"ChkKF2NvbW1lbnRzXzIwMjRfcTJfcmV2YW1w\",\"ChwKGnNoYXJlZF9mb2xkZXJfcHJldmlld19wZXJm\",\"CiMKIXNlbGZfc2lnbl9kZWZhdWx0X3RvX2ZpZWxkc19wYW5lbA==\",\"CiIKIHVwbG9hZF93ZWJfbWF4X2JhdGNoX2FwcGVuZF9zaXpl\",\"Ch8KHWNoZWNrb3V0X2RlZmVyX2NvbnNlbnRfYmFubmVy\",\"Ch4KHHBkZl9lZGl0aW5nX2ZyZWVmb3JtX2RyYXdpbmc=\",\"CicKJXByZXZpZXdzX21vYmlsZV93ZWJfcmVkZXNpZ25fZmFjZXBpbGU=\",\"CisKKXByZXZpZXdzX2V4cF9kaXNhYmxlX2ltbWVkaWF0ZV9zdXNpX21vZGFs\",\"ChwKGnBkZl9lZGl0aW5nX3pvb21fZ3JpZF92aWV3\",\"Ch4KHHNoYXJpbmdfYWR2YW5jZWRfY2xtbV91cHNlbGw=\",\"CjIKMGFkbWluX3NpZ25lZF9pbl9hc191c2VyX2RlYXNzdW1lX2Jhbm5lcl9yZWRlc2lnbg==\",\"CiMKIXBkZl9lZGl0aW5nX2NvcHlfcGFzdGVfYW5ub3RhdGlvbg==\",\"Ch0KG3BkZl9lZGl0aW5nX3NpZ25hdHVyZV9maWVsZA==\",\"ChsKGXByZXZpZXdzX2V4cF9wcmV3YXJtX3VybHM=\",\"CiAKHnByb19zaGFyaW5nX3ByZXNlbnRhdGlvbl9saW5rcw==\",\"Cj0KO2FjZV9kb250X2RlZmF1bHRfZXZlcnlvbmVfb25fdG9wX2xldmVsX3RlYW1fZm9sZGVyX2NyZWF0aW9u\",\"ChsKGWZpbGVfdHJhbnNmZXJzX2FwcF9hY3Rpb24=\",\"ChcKFXBkZl9lZGl0aW5nX2hpZ2hsaWdodA==\",\"ChcKFWlkeF9haV9jb250cm9sX2NlbnRlcg==\",\"ChoKGG1vbmV4X3Byb2plY3RfZG9vcm1hbl9tMg==\",\"CgwKCnNhdmVkX3ZpZXc=\",\"ChkKF2NvbW1lbnRzXzIwMjRfcmVhY3Rpb25z\",\"ChMKEWRpZ19mZWF0dXJlX2xldmVs\",\"CiQKInByZXZpZXdzX2V4cF9leGNsdWRlX3ByZXZpZXdfcHJvcHM=\",\"ChsKGXNtMjRfaW52aXRlX2FmdGVyX3NoYXJpbmc=\",\"ChUKE3BnX3doYXRzX25ld191cGRhdGU=\",\"ChwKGnByZXZpZXdzX2V4cF90ZXh0X3ByZXZpZXdz\",\"ChoKGHBzX2luZnJhX2xvYWRfZnVuY2FwdGNoYQ==\",\"CiUKI3VwbG9hZF93ZWJfcGFyYWxsZWxfYXBwZW5kX3JlcXVlc3Rz\",\"ChoKGHByZXZpZXdzX3RyYW5zY3JpcHRfZWRpdA==\",\"CiAKHmNvbW1lbnRzXzIwMjRfcGl4ZWxfY29tbWVudGluZw==\"]);\n",
            "    });\n",
            "});\n",
            "</script><script nonce=\"fs8456E9a314SEKKzhdMq0JB7pc=\">window.addRequireLoadCallback(function() {\n",
            "    window.require([\"js/edison/edison\"], function (edisonModule) {\n",
            "        if (edisonModule.Edison.markServerSidePrefetchStarted) {\n",
            "            edisonModule.Edison.markServerSidePrefetchStarted([\"EsUCCipmaWxlX3ZpZXdlcl9lZGlzb24uRmlsZVZpZXdlckVkaXNvblNlcnZpY2USI1NoYXJlZENvbnRlbnRMaW5rUmVzb2x1dGlvblByZWZldGNoGtUBEtIBUmdodHRwczovL3d3dy5kcm9wYm94LmNvbS9zY2wvZmkvbzR0NmNxNWcxNmplbHoxdjB6MmxqL21vYmlsZV9jbGVhbmVkLmNzdj9ybGtleT1kdzlkaWQ3dHM0MXg0aXdta2ZnejFxbHQyWmdodHRwczovL3d3dy5kcm9wYm94LmNvbS9zY2wvZmkvbzR0NmNxNWcxNmplbHoxdjB6MmxqL21vYmlsZV9jbGVhbmVkLmNzdj9ybGtleT1kdzlkaWQ3dHM0MXg0aXdta2ZnejFxbHQyKgtmaWxlX3ZpZXdlcjINc2NsX29ib2VfZmlsZQ==\",\"Eq4CCiN3ZWJfcGxhdGZvcm0uV2ViUGxhdGZvcm1FZGlzb25GZXRjaBITRWRpc29uRGV2VG9vbHNGZXRjaBrVARLSAVJnaHR0cHM6Ly93d3cuZHJvcGJveC5jb20vc2NsL2ZpL280dDZjcTVnMTZqZWx6MXYwejJsai9tb2JpbGVfY2xlYW5lZC5jc3Y/cmxrZXk9ZHc5ZGlkN3RzNDF4NGl3bWtmZ3oxcWx0MlpnaHR0cHM6Ly93d3cuZHJvcGJveC5jb20vc2NsL2ZpL280dDZjcTVnMTZqZWx6MXYwejJsai9tb2JpbGVfY2xlYW5lZC5jc3Y/cmxrZXk9ZHc5ZGlkN3RzNDF4NGl3bWtmZ3oxcWx0MioLZmlsZV92aWV3ZXIyDXNjbF9vYm9lX2ZpbGU=\",\"Eq8CCiljb250YWN0cy5Db250YWN0c0NvbnN0YW50c1ByZWZldGNoU2VydmljZRIORmV0Y2hDb25zdGFudHMa1QES0gFSZ2h0dHBzOi8vd3d3LmRyb3Bib3guY29tL3NjbC9maS9vNHQ2Y3E1ZzE2amVsejF2MHoybGovbW9iaWxlX2NsZWFuZWQuY3N2P3Jsa2V5PWR3OWRpZDd0czQxeDRpd21rZmd6MXFsdDJaZ2h0dHBzOi8vd3d3LmRyb3Bib3guY29tL3NjbC9maS9vNHQ2Y3E1ZzE2amVsejF2MHoybGovbW9iaWxlX2NsZWFuZWQuY3N2P3Jsa2V5PWR3OWRpZDd0czQxeDRpd21rZmd6MXFsdDIqC2ZpbGVfdmlld2VyMg1zY2xfb2JvZV9maWxl\",\"Eq4CCiVzaWdudXBfc2lnbmluLk1hZ2ljTGlua0VkaXNvblByZWZldGNoEhFHb29nbGVPbmVUYXBGZXRjaBrVARLSAVJnaHR0cHM6Ly93d3cuZHJvcGJveC5jb20vc2NsL2ZpL280dDZjcTVnMTZqZWx6MXYwejJsai9tb2JpbGVfY2xlYW5lZC5jc3Y/cmxrZXk9ZHc5ZGlkN3RzNDF4NGl3bWtmZ3oxcWx0MlpnaHR0cHM6Ly93d3cuZHJvcGJveC5jb20vc2NsL2ZpL280dDZjcTVnMTZqZWx6MXYwejJsai9tb2JpbGVfY2xlYW5lZC5jc3Y/cmxrZXk9ZHc5ZGlkN3RzNDF4NGl3bWtmZ3oxcWx0MioLZmlsZV92aWV3ZXIyDXNjbF9vYm9lX2ZpbGU=\",\"Ep4CChhsb2NhbGVqcy5Mb2NhbGVKU1NlcnZpY2USDkZldGNoQ29uc3RhbnRzGtUBEtIBUmdodHRwczovL3d3dy5kcm9wYm94LmNvbS9zY2wvZmkvbzR0NmNxNWcxNmplbHoxdjB6MmxqL21vYmlsZV9jbGVhbmVkLmNzdj9ybGtleT1kdzlkaWQ3dHM0MXg0aXdta2ZnejFxbHQyWmdodHRwczovL3d3dy5kcm9wYm94LmNvbS9zY2wvZmkvbzR0NmNxNWcxNmplbHoxdjB6MmxqL21vYmlsZV9jbGVhbmVkLmNzdj9ybGtleT1kdzlkaWQ3dHM0MXg0aXdta2ZnejFxbHQyKgtmaWxlX3ZpZXdlcjINc2NsX29ib2VfZmlsZQ==\",\"EqsCCiVhYnVzZS5Mb2dpbkFuZFJlZ2lzdGVyUHJlZmV0Y2hTZXJ2aWNlEg5GZXRjaENvbnN0YW50cxrVARLSAVJnaHR0cHM6Ly93d3cuZHJvcGJveC5jb20vc2NsL2ZpL280dDZjcTVnMTZqZWx6MXYwejJsai9tb2JpbGVfY2xlYW5lZC5jc3Y/cmxrZXk9ZHc5ZGlkN3RzNDF4NGl3bWtmZ3oxcWx0MlpnaHR0cHM6Ly93d3cuZHJvcGJveC5jb20vc2NsL2ZpL280dDZjcTVnMTZqZWx6MXYwejJsai9tb2JpbGVfY2xlYW5lZC5jc3Y/cmxrZXk9ZHc5ZGlkN3RzNDF4NGl3bWtmZ3oxcWx0MioLZmlsZV92aWV3ZXIyDXNjbF9vYm9lX2ZpbGU=\",\"EqECChl0aW1lX3ByZWYuVGltZVByZWZTZXJ2aWNlEhBUaW1lUHJlZlByZWZldGNoGtUBEtIBUmdodHRwczovL3d3dy5kcm9wYm94LmNvbS9zY2wvZmkvbzR0NmNxNWcxNmplbHoxdjB6MmxqL21vYmlsZV9jbGVhbmVkLmNzdj9ybGtleT1kdzlkaWQ3dHM0MXg0aXdta2ZnejFxbHQyWmdodHRwczovL3d3dy5kcm9wYm94LmNvbS9zY2wvZmkvbzR0NmNxNWcxNmplbHoxdjB6MmxqL21vYmlsZV9jbGVhbmVkLmNzdj9ybGtleT1kdzlkaWQ3dHM0MXg0aXdta2ZnejFxbHQyKgtmaWxlX3ZpZXdlcjINc2NsX29ib2VfZmlsZQ==\",\"EqgCCiJmaW5nZXJwcmludGpzLkZpbmdlclByaW50SlNTZXJ2aWNlEg5GZXRjaENvbnN0YW50cxrVARLSAVJnaHR0cHM6Ly93d3cuZHJvcGJveC5jb20vc2NsL2ZpL280dDZjcTVnMTZqZWx6MXYwejJsai9tb2JpbGVfY2xlYW5lZC5jc3Y/cmxrZXk9ZHc5ZGlkN3RzNDF4NGl3bWtmZ3oxcWx0MlpnaHR0cHM6Ly93d3cuZHJvcGJveC5jb20vc2NsL2ZpL280dDZjcTVnMTZqZWx6MXYwejJsai9tb2JpbGVfY2xlYW5lZC5jc3Y/cmxrZXk9ZHc5ZGlkN3RzNDF4NGl3bWtmZ3oxcWx0MioLZmlsZV92aWV3ZXIyDXNjbF9vYm9lX2ZpbGU=\",\"Eq8CCixzdXBlcl9hZG1pbl9hbmRfZGVwbG95bWVudC5FZGlzb25JZGxlVGltZW91dBILSWRsZVRpbWVvdXQa1QES0gFSZ2h0dHBzOi8vd3d3LmRyb3Bib3guY29tL3NjbC9maS9vNHQ2Y3E1ZzE2amVsejF2MHoybGovbW9iaWxlX2NsZWFuZWQuY3N2P3Jsa2V5PWR3OWRpZDd0czQxeDRpd21rZmd6MXFsdDJaZ2h0dHBzOi8vd3d3LmRyb3Bib3guY29tL3NjbC9maS9vNHQ2Y3E1ZzE2amVsejF2MHoybGovbW9iaWxlX2NsZWFuZWQuY3N2P3Jsa2V5PWR3OWRpZDd0czQxeDRpd21rZmd6MXFsdDIqC2ZpbGVfdmlld2VyMg1zY2xfb2JvZV9maWxl\",\"EqICChxwaXRob3MuRWRpc29uUHJlZmV0Y2hTZXJ2aWNlEg5QaXRob3NQcmVmZXRjaBrVARLSAVJnaHR0cHM6Ly93d3cuZHJvcGJveC5jb20vc2NsL2ZpL280dDZjcTVnMTZqZWx6MXYwejJsai9tb2JpbGVfY2xlYW5lZC5jc3Y/cmxrZXk9ZHc5ZGlkN3RzNDF4NGl3bWtmZ3oxcWx0MlpnaHR0cHM6Ly93d3cuZHJvcGJveC5jb20vc2NsL2ZpL280dDZjcTVnMTZqZWx6MXYwejJsai9tb2JpbGVfY2xlYW5lZC5jc3Y/cmxrZXk9ZHc5ZGlkN3RzNDF4NGl3bWtmZ3oxcWx0MioLZmlsZV92aWV3ZXIyDXNjbF9vYm9lX2ZpbGU=\",\"Es0CCjpwcml2YWN5X2NvbnNlbnRfZWRpc29uLlByaXZhY3lDb25zZW50RWRpc29uUHJlZmV0Y2hTZXJ2aWNlEhtQcml2YWN5Q29uc2VudFByb3BzUHJlZmV0Y2ga1QES0gFSZ2h0dHBzOi8vd3d3LmRyb3Bib3guY29tL3NjbC9maS9vNHQ2Y3E1ZzE2amVsejF2MHoybGovbW9iaWxlX2NsZWFuZWQuY3N2P3Jsa2V5PWR3OWRpZDd0czQxeDRpd21rZmd6MXFsdDJaZ2h0dHBzOi8vd3d3LmRyb3Bib3guY29tL3NjbC9maS9vNHQ2Y3E1ZzE2amVsejF2MHoybGovbW9iaWxlX2NsZWFuZWQuY3N2P3Jsa2V5PWR3OWRpZDd0czQxeDRpd21rZmd6MXFsdDIqC2ZpbGVfdmlld2VyMg1zY2xfb2JvZV9maWxl\",\"ErgCCit1c2VyX3N1cnZleS5FZGlzb25Vc2VyU3VydmV5UHJlZmV0Y2hTZXJ2aWNlEhVFZGlzb25Vc2VyU3VydmV5RmV0Y2ga1QES0gFSZ2h0dHBzOi8vd3d3LmRyb3Bib3guY29tL3NjbC9maS9vNHQ2Y3E1ZzE2amVsejF2MHoybGovbW9iaWxlX2NsZWFuZWQuY3N2P3Jsa2V5PWR3OWRpZDd0czQxeDRpd21rZmd6MXFsdDJaZ2h0dHBzOi8vd3d3LmRyb3Bib3guY29tL3NjbC9maS9vNHQ2Y3E1ZzE2amVsejF2MHoybGovbW9iaWxlX2NsZWFuZWQuY3N2P3Jsa2V5PWR3OWRpZDd0czQxeDRpd21rZmd6MXFsdDIqC2ZpbGVfdmlld2VyMg1zY2xfb2JvZV9maWxl\",\"Eq4CCiZ1eF9hbmFseXRpY3MuVXhBbmFseXRpY3NFZGlzb25TZXJ2aWNlchIQVXhBbmFseXRpY3NGZXRjaBrVARLSAVJnaHR0cHM6Ly93d3cuZHJvcGJveC5jb20vc2NsL2ZpL280dDZjcTVnMTZqZWx6MXYwejJsai9tb2JpbGVfY2xlYW5lZC5jc3Y/cmxrZXk9ZHc5ZGlkN3RzNDF4NGl3bWtmZ3oxcWx0MlpnaHR0cHM6Ly93d3cuZHJvcGJveC5jb20vc2NsL2ZpL280dDZjcTVnMTZqZWx6MXYwejJsai9tb2JpbGVfY2xlYW5lZC5jc3Y/cmxrZXk9ZHc5ZGlkN3RzNDF4NGl3bWtmZ3oxcWx0MioLZmlsZV92aWV3ZXIyDXNjbF9vYm9lX2ZpbGU=\"]);\n",
            "        }\n",
            "    });\n",
            "});\n",
            "</script><script nonce=\"fs8456E9a314SEKKzhdMq0JB7pc=\">window.addRequireLoadCallback(function() {\n",
            "    window.require([\"js/edison/edison\"], function (edisonModule) {\n",
            "        edisonModule.Edison.registerStreamedDataModule(\"metaserver/static/js/modules/constants/pdf_editing\", \"json\", \"{\\\"STORMCROW_VERSION_UPGRADING\\\": \\\"OFF\\\", \\\"STORMCROW_SELF_SIGN_VARIANT\\\": \\\"ON\\\", \\\"STORMCROW_SAVED_SIGNATURES_VARIANT\\\": \\\"OFF\\\", \\\"STORMCROW_TEXT_EDITING_VARIANT\\\": \\\"UPSELL\\\", \\\"STORMCROW_FORM_BUILDING_VARIANT\\\": \\\"ON\\\", \\\"STORMCROW_EDITING_UNFURL_ACTIONS\\\": \\\"OFF\\\", \\\"STORMCROW_ZOOM_INTEGRATION_DEPRECATION_VARIANT\\\": \\\"OFF\\\", \\\"STORMCROW_LOGGED_OUT_EDITOR_VARIANT\\\": \\\"ON\\\"}\");\n",
            "    });\n",
            "});\n",
            "</script><script nonce=\"fs8456E9a314SEKKzhdMq0JB7pc=\">window.addRequireLoadCallback(function() {\n",
            "    window.require([\"js/edison/edison\"], function (edisonModule) {\n",
            "        edisonModule.Edison.registerStreamedDataModule(\"metaserver/static/js/modules/constants/viewer\", \"json\", \"{\\\"DEFAULT_ROOT_NAME\\\": \\\"Dropbox\\\", \\\"PERSONAL_ROLE_STRING\\\": \\\"Personal\\\", \\\"_viewer_properties\\\": {\\\"_user_data\\\": [], \\\"is_team_assume_user_session\\\": false, \\\"is_assume_user_session\\\": false}, \\\"prompt_ha_hiding\\\": true, \\\"LOCALE\\\": \\\"US\\\"}\");\n",
            "    });\n",
            "});\n",
            "</script><script nonce=\"fs8456E9a314SEKKzhdMq0JB7pc=\">window.addRequireLoadCallback(function() {\n",
            "    window.require([\"js/edison/edison\"], function (edisonModule) {\n",
            "        edisonModule.Edison.registerStreamedPrefetch(\"EqsCCiVhYnVzZS5Mb2dpbkFuZFJlZ2lzdGVyUHJlZmV0Y2hTZXJ2aWNlEg5GZXRjaENvbnN0YW50cxrVARLSAVJnaHR0cHM6Ly93d3cuZHJvcGJveC5jb20vc2NsL2ZpL280dDZjcTVnMTZqZWx6MXYwejJsai9tb2JpbGVfY2xlYW5lZC5jc3Y/cmxrZXk9ZHc5ZGlkN3RzNDF4NGl3bWtmZ3oxcWx0MlpnaHR0cHM6Ly93d3cuZHJvcGJveC5jb20vc2NsL2ZpL280dDZjcTVnMTZqZWx6MXYwejJsai9tb2JpbGVfY2xlYW5lZC5jc3Y/cmxrZXk9ZHc5ZGlkN3RzNDF4NGl3bWtmZ3oxcWx0MioLZmlsZV92aWV3ZXIyDXNjbF9vYm9lX2ZpbGU=\", \"Ci5BZFdnUDJFVFJEdkJrZFBpcXhfQ3hPY0EyNzYtWlJpYW1vYmJhRUs0Q2tETmlREiQ0MTk4OTlGQS03RkFGLTVDMUQtQzAyNy1CQzM0OTYzRTNBNEYaJDY4Q0VDRTVELUYzNjAtODY1My1DQTgwLTNDRjk5MzUzREREMiIkOEFGRkFBMzUtMDIxNy00RUY5LTgzQzgtQzYyQ0Y5RUJDRkIz\",  false );\n",
            "    });\n",
            "});\n",
            "</script><script nonce=\"fs8456E9a314SEKKzhdMq0JB7pc=\">window.addRequireLoadCallback(function() {\n",
            "    window.require([\"js/edison/edison\"], function (edisonModule) {\n",
            "        edisonModule.Edison.registerStreamedPrefetch(\"EqICChxwaXRob3MuRWRpc29uUHJlZmV0Y2hTZXJ2aWNlEg5QaXRob3NQcmVmZXRjaBrVARLSAVJnaHR0cHM6Ly93d3cuZHJvcGJveC5jb20vc2NsL2ZpL280dDZjcTVnMTZqZWx6MXYwejJsai9tb2JpbGVfY2xlYW5lZC5jc3Y/cmxrZXk9ZHc5ZGlkN3RzNDF4NGl3bWtmZ3oxcWx0MlpnaHR0cHM6Ly93d3cuZHJvcGJveC5jb20vc2NsL2ZpL280dDZjcTVnMTZqZWx6MXYwejJsai9tb2JpbGVfY2xlYW5lZC5jc3Y/cmxrZXk9ZHc5ZGlkN3RzNDF4NGl3bWtmZ3oxcWx0MioLZmlsZV92aWV3ZXIyDXNjbF9vYm9lX2ZpbGU=\", \"CAE=\",  false );\n",
            "    });\n",
            "});\n",
            "</script><script nonce=\"fs8456E9a314SEKKzhdMq0JB7pc=\">window.addRequireLoadCallback(function() {\n",
            "    window.require([\"js/edison/edison\"], function (edisonModule) {\n",
            "        edisonModule.Edison.registerStreamedPrefetch(\"Eq8CCiljb250YWN0cy5Db250YWN0c0NvbnN0YW50c1ByZWZldGNoU2VydmljZRIORmV0Y2hDb25zdGFudHMa1QES0gFSZ2h0dHBzOi8vd3d3LmRyb3Bib3guY29tL3NjbC9maS9vNHQ2Y3E1ZzE2amVsejF2MHoybGovbW9iaWxlX2NsZWFuZWQuY3N2P3Jsa2V5PWR3OWRpZDd0czQxeDRpd21rZmd6MXFsdDJaZ2h0dHBzOi8vd3d3LmRyb3Bib3guY29tL3NjbC9maS9vNHQ2Y3E1ZzE2amVsejF2MHoybGovbW9iaWxlX2NsZWFuZWQuY3N2P3Jsa2V5PWR3OWRpZDd0czQxeDRpd21rZmd6MXFsdDIqC2ZpbGVfdmlld2VyMg1zY2xfb2JvZV9maWxl\", \"\",  false );\n",
            "    });\n",
            "});\n",
            "</script><script nonce=\"fs8456E9a314SEKKzhdMq0JB7pc=\">window.addRequireLoadCallback(function() {\n",
            "    window.require([\"js/edison/edison\"], function (edisonModule) {\n",
            "        edisonModule.Edison.registerStreamedPrefetch(\"EqECChl0aW1lX3ByZWYuVGltZVByZWZTZXJ2aWNlEhBUaW1lUHJlZlByZWZldGNoGtUBEtIBUmdodHRwczovL3d3dy5kcm9wYm94LmNvbS9zY2wvZmkvbzR0NmNxNWcxNmplbHoxdjB6MmxqL21vYmlsZV9jbGVhbmVkLmNzdj9ybGtleT1kdzlkaWQ3dHM0MXg0aXdta2ZnejFxbHQyWmdodHRwczovL3d3dy5kcm9wYm94LmNvbS9zY2wvZmkvbzR0NmNxNWcxNmplbHoxdjB6MmxqL21vYmlsZV9jbGVhbmVkLmNzdj9ybGtleT1kdzlkaWQ3dHM0MXg0aXdta2ZnejFxbHQyKgtmaWxlX3ZpZXdlcjINc2NsX29ib2VfZmlsZQ==\", \"Cg9NL2QveXl5eSBoOm1tIGEiCE0vZC95eXl5KgZoOm1tIGE=\",  false );\n",
            "    });\n",
            "});\n",
            "</script><script nonce=\"fs8456E9a314SEKKzhdMq0JB7pc=\">window.addRequireLoadCallback(function() {\n",
            "    window.require([\"js/edison/edison\"], function (edisonModule) {\n",
            "        edisonModule.Edison.registerStreamedPrefetch(\"ErgCCit1c2VyX3N1cnZleS5FZGlzb25Vc2VyU3VydmV5UHJlZmV0Y2hTZXJ2aWNlEhVFZGlzb25Vc2VyU3VydmV5RmV0Y2ga1QES0gFSZ2h0dHBzOi8vd3d3LmRyb3Bib3guY29tL3NjbC9maS9vNHQ2Y3E1ZzE2amVsejF2MHoybGovbW9iaWxlX2NsZWFuZWQuY3N2P3Jsa2V5PWR3OWRpZDd0czQxeDRpd21rZmd6MXFsdDJaZ2h0dHBzOi8vd3d3LmRyb3Bib3guY29tL3NjbC9maS9vNHQ2Y3E1ZzE2amVsejF2MHoybGovbW9iaWxlX2NsZWFuZWQuY3N2P3Jsa2V5PWR3OWRpZDd0czQxeDRpd21rZmd6MXFsdDIqC2ZpbGVfdmlld2VyMg1zY2xfb2JvZV9maWxl\", \"\",  false );\n",
            "    });\n",
            "});\n",
            "</script><script nonce=\"fs8456E9a314SEKKzhdMq0JB7pc=\">window.addRequireLoadCallback(function() {\n",
            "    window.require([\"js/edison/edison\"], function (edisonModule) {\n",
            "        edisonModule.Edison.registerStreamedPrefetch(\"Es0CCjpwcml2YWN5X2NvbnNlbnRfZWRpc29uLlByaXZhY3lDb25zZW50RWRpc29uUHJlZmV0Y2hTZXJ2aWNlEhtQcml2YWN5Q29uc2VudFByb3BzUHJlZmV0Y2ga1QES0gFSZ2h0dHBzOi8vd3d3LmRyb3Bib3guY29tL3NjbC9maS9vNHQ2Y3E1ZzE2amVsejF2MHoybGovbW9iaWxlX2NsZWFuZWQuY3N2P3Jsa2V5PWR3OWRpZDd0czQxeDRpd21rZmd6MXFsdDJaZ2h0dHBzOi8vd3d3LmRyb3Bib3guY29tL3NjbC9maS9vNHQ2Y3E1ZzE2amVsejF2MHoybGovbW9iaWxlX2NsZWFuZWQuY3N2P3Jsa2V5PWR3OWRpZDd0czQxeDRpd21rZmd6MXFsdDIqC2ZpbGVfdmlld2VyMg1zY2xfb2JvZV9maWxl\", \"ChNjb25zZW50LmRyb3Bib3guY29tEgJVUxgBKAEwAQ==\",  false );\n",
            "    });\n",
            "});\n",
            "</script><script nonce=\"fs8456E9a314SEKKzhdMq0JB7pc=\">window.addRequireLoadCallback(function() {\n",
            "    window.require([\"js/edison/edison\"], function (edisonModule) {\n",
            "        edisonModule.Edison.registerStreamedPrefetch(\"Eq4CCiZ1eF9hbmFseXRpY3MuVXhBbmFseXRpY3NFZGlzb25TZXJ2aWNlchIQVXhBbmFseXRpY3NGZXRjaBrVARLSAVJnaHR0cHM6Ly93d3cuZHJvcGJveC5jb20vc2NsL2ZpL280dDZjcTVnMTZqZWx6MXYwejJsai9tb2JpbGVfY2xlYW5lZC5jc3Y/cmxrZXk9ZHc5ZGlkN3RzNDF4NGl3bWtmZ3oxcWx0MlpnaHR0cHM6Ly93d3cuZHJvcGJveC5jb20vc2NsL2ZpL280dDZjcTVnMTZqZWx6MXYwejJsai9tb2JpbGVfY2xlYW5lZC5jc3Y/cmxrZXk9ZHc5ZGlkN3RzNDF4NGl3bWtmZ3oxcWx0MioLZmlsZV92aWV3ZXIyDXNjbF9vYm9lX2ZpbGU=\", \"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\",  false );\n",
            "    });\n",
            "});\n",
            "</script><script nonce=\"fs8456E9a314SEKKzhdMq0JB7pc=\">window.addRequireLoadCallback(function() {\n",
            "    window.require([\"js/edison/edison\"], function (edisonModule) {\n",
            "        edisonModule.Edison.registerStreamedPrefetch(\"Eq4CCiVzaWdudXBfc2lnbmluLk1hZ2ljTGlua0VkaXNvblByZWZldGNoEhFHb29nbGVPbmVUYXBGZXRjaBrVARLSAVJnaHR0cHM6Ly93d3cuZHJvcGJveC5jb20vc2NsL2ZpL280dDZjcTVnMTZqZWx6MXYwejJsai9tb2JpbGVfY2xlYW5lZC5jc3Y/cmxrZXk9ZHc5ZGlkN3RzNDF4NGl3bWtmZ3oxcWx0MlpnaHR0cHM6Ly93d3cuZHJvcGJveC5jb20vc2NsL2ZpL280dDZjcTVnMTZqZWx6MXYwejJsai9tb2JpbGVfY2xlYW5lZC5jc3Y/cmxrZXk9ZHc5ZGlkN3RzNDF4NGl3bWtmZ3oxcWx0MioLZmlsZV92aWV3ZXIyDXNjbF9vYm9lX2ZpbGU=\", \"Cic4MDE2Njg3MjY4MTUuYXBwcy5nb29nbGV1c2VyY29udGVudC5jb20aJGltcGxpY2l0X3Rvc193aXRoX3NlcnZpY2VzX2FncmVlbWVudA==\",  false );\n",
            "    });\n",
            "});\n",
            "</script><script nonce=\"fs8456E9a314SEKKzhdMq0JB7pc=\">window.addRequireLoadCallback(function() {\n",
            "    window.require([\"js/edison/edison\"], function (edisonModule) {\n",
            "        edisonModule.Edison.registerStreamedPrefetch(\"Eq8CCixzdXBlcl9hZG1pbl9hbmRfZGVwbG95bWVudC5FZGlzb25JZGxlVGltZW91dBILSWRsZVRpbWVvdXQa1QES0gFSZ2h0dHBzOi8vd3d3LmRyb3Bib3guY29tL3NjbC9maS9vNHQ2Y3E1ZzE2amVsejF2MHoybGovbW9iaWxlX2NsZWFuZWQuY3N2P3Jsa2V5PWR3OWRpZDd0czQxeDRpd21rZmd6MXFsdDJaZ2h0dHBzOi8vd3d3LmRyb3Bib3guY29tL3NjbC9maS9vNHQ2Y3E1ZzE2amVsejF2MHoybGovbW9iaWxlX2NsZWFuZWQuY3N2P3Jsa2V5PWR3OWRpZDd0czQxeDRpd21rZmd6MXFsdDIqC2ZpbGVfdmlld2VyMg1zY2xfb2JvZV9maWxl\", \"\",  false );\n",
            "    });\n",
            "});\n",
            "</script><script nonce=\"fs8456E9a314SEKKzhdMq0JB7pc=\">window.addRequireLoadCallback(function() {\n",
            "    window.require([\"js/data_modules/stormcrow\"], function (module) {\n",
            "        module.Stormcrow.registerAssignment(\"CiYKJHZpc2hfb29iX2Rvd25sb2FkX2V4Y2x1ZGVfcGFpZF91c2Vycw==\", \"CiR2aXNoX29vYl9kb3dubG9hZF9leGNsdWRlX3BhaWRfdXNlcnMSA09GRhoAIj0IAhI5RmVhdHVyZSB2aXNoX29vYl9kb3dubG9hZF9leGNsdWRlX3BhaWRfdXNlcnMgbm90IGVuYWJsZWQu\");\n",
            "    });\n",
            "});\n",
            "</script><script nonce=\"fs8456E9a314SEKKzhdMq0JB7pc=\">window.addRequireLoadCallback(function() {\n",
            "    window.require([\"js/data_modules/stormcrow\"], function (module) {\n",
            "        module.Stormcrow.registerAssignment(\"CiEKH3Zpc2hfb29iX2l0ZXJhdGVfb25fYmFzaWNfdXNlcnM=\", \"Ch92aXNoX29vYl9pdGVyYXRlX29uX2Jhc2ljX3VzZXJzEgdDT05UUk9MGpICChQKBnJhbmRvbRIKMjczNTYwMTEwOQouCgpyZXF1ZXN0X2lkEiBlOGQ5MWZiYjllMTE0MGZjYTE5NzY5Y2EwMmQzOGQ5MQoSCgd2YXJpYW50EgdDT05UUk9MCg8KC2N1c3RvbV90ZXh0EgAKEwoNcG9wdWxhdGlvbl9pZBICMzAKLwoMZmVhdHVyZV9uYW1lEh92aXNoX29vYl9pdGVyYXRlX29uX2Jhc2ljX3VzZXJzChsKFWtleV9kYXRhX2ZpZWxkX3ZhbHVlcxICe30KDAoGdmlld2VyEgItMQo0CgpzZXNzaW9uX2lkEiY3NTM1ODU5OTAxNjI1MTQ1Mjk3MDIxNzQ4OTUwNzg1NjgxNzYxNw==\");\n",
            "    });\n",
            "});\n",
            "</script><script nonce=\"fs8456E9a314SEKKzhdMq0JB7pc=\">window.addRequireLoadCallback(function() {\n",
            "    window.require([\"js/data_modules/stormcrow\"], function (module) {\n",
            "        module.Stormcrow.registerAssignment(\"ChkKF3NtMjRfcHJvZ3Jlc3NpdmVfaW5iYW5k\", \"ChdzbTI0X3Byb2dyZXNzaXZlX2luYmFuZBIDT0ZGGgAiGggIEhZNaXNzaW5nIHNlbGVjdG9yIHVzZXIuIhoICBIWTWlzc2luZyBzZWxlY3RvciB1c2VyLiIYCAYSFEVtcHR5IHNlbGVjdG9yIHRlYW0uIhoICBIWTWlzc2luZyBzZWxlY3RvciB0ZWFtLiIaCAgSFk1pc3Npbmcgc2VsZWN0b3IgdXNlci4iGggIEhZNaXNzaW5nIHNlbGVjdG9yIHVzZXIu\");\n",
            "    });\n",
            "});\n",
            "</script><script nonce=\"fs8456E9a314SEKKzhdMq0JB7pc=\">window.addRequireLoadCallback(function() {\n",
            "    window.require([\"js/edison/edison\"], function (edisonModule) {\n",
            "        edisonModule.Edison.registerStreamedPrefetch(\"Ep4CChhsb2NhbGVqcy5Mb2NhbGVKU1NlcnZpY2USDkZldGNoQ29uc3RhbnRzGtUBEtIBUmdodHRwczovL3d3dy5kcm9wYm94LmNvbS9zY2wvZmkvbzR0NmNxNWcxNmplbHoxdjB6MmxqL21vYmlsZV9jbGVhbmVkLmNzdj9ybGtleT1kdzlkaWQ3dHM0MXg0aXdta2ZnejFxbHQyWmdodHRwczovL3d3dy5kcm9wYm94LmNvbS9zY2wvZmkvbzR0NmNxNWcxNmplbHoxdjB6MmxqL21vYmlsZV9jbGVhbmVkLmNzdj9ybGtleT1kdzlkaWQ3dHM0MXg0aXdta2ZnejFxbHQyKgtmaWxlX3ZpZXdlcjINc2NsX29ib2VfZmlsZQ==\", \"ChYKAmlkEhBCYWhhc2EgSW5kb25lc2lhChUKAm1zEg9CYWhhc2EgTWFsYXlzaWEKDgoFZGFfREsSBURhbnNrCg0KAmRlEgdEZXV0c2NoCiEKBWVuX0dCEhhFbmdsaXNoIChVbml0ZWQgS2luZ2RvbSkKHQoCZW4SF0VuZ2xpc2ggKFVuaXRlZCBTdGF0ZXMpChsKBWVzX0VTEhJFc3Bhw7FvbCAoRXNwYcOxYSkKHwoCZXMSGUVzcGHDsW9sIChMYXRpbm9hbcOpcmljYSkKGwoFZnJfQ0ESEkZyYW7Dp2FpcyAoQ2FuYWRhKQoYCgJmchISRnJhbsOnYWlzIChGcmFuY2UpCg4KAml0EghJdGFsaWFubwoTCgVubF9OTBIKTmVkZXJsYW5kcwoYCgVuYl9OTxIPTm9yc2sgKGJva23DpWwpCgwKAnBsEgZQb2xza2kKHAoFcHRfQlISE1BvcnR1Z3XDqnMgKEJyYXNpbCkKEwoCcnUSDVDRg9GB0YHQutC40LkKEAoFc3ZfU0USB1N2ZW5za2EKHQoFdWtfVUESFNCj0LrRgNCw0ZfQvdGB0YzQutCwChIKBXRoX1RIEgnguYTguJfguKIKGwoFemhfQ04SEuS4reaWh++8iOeugOS9k++8iQobCgV6aF9UVxIS5Lit5paH77yI57mB6auU77yJCg8KAmphEgnml6XmnKzoqp4KDwoCa28SCe2VnOq1reyWtBIWCgJpZBIQQmFoYXNhIEluZG9uZXNpYRIVCgJtcxIPQmFoYXNhIE1hbGF5c2lhEg4KBWRhX0RLEgVEYW5zaxINCgJkZRIHRGV1dHNjaBIhCgVlbl9HQhIYRW5nbGlzaCAoVW5pdGVkIEtpbmdkb20pEh0KAmVuEhdFbmdsaXNoIChVbml0ZWQgU3RhdGVzKRIbCgVlc19FUxISRXNwYcOxb2wgKEVzcGHDsWEpEh8KAmVzEhlFc3Bhw7FvbCAoTGF0aW5vYW3DqXJpY2EpEhsKBWZyX0NBEhJGcmFuw6dhaXMgKENhbmFkYSkSGAoCZnISEkZyYW7Dp2FpcyAoRnJhbmNlKRIOCgJpdBIISXRhbGlhbm8SEwoFbmxfTkwSCk5lZGVybGFuZHMSGAoFbmJfTk8SD05vcnNrIChib2ttw6VsKRIMCgJwbBIGUG9sc2tpEhwKBXB0X0JSEhNQb3J0dWd1w6pzIChCcmFzaWwpEhMKAnJ1Eg1Q0YPRgdGB0LrQuNC5EhAKBXN2X1NFEgdTdmVuc2thEh0KBXVrX1VBEhTQo9C60YDQsNGX0L3RgdGM0LrQsBISCgV0aF9USBIJ4LmE4LiX4LiiEhsKBXpoX0NOEhLkuK3mlofvvIjnroDkvZPvvIkSGwoFemhfVFcSEuS4reaWh++8iOe5gemrlO+8iRIPCgJqYRIJ5pel5pys6KqeEg8KAmtvEgntlZzqta3slrQ=\",  false );\n",
            "    });\n",
            "});\n",
            "</script><script nonce=\"fs8456E9a314SEKKzhdMq0JB7pc=\">window.addRequireLoadCallback(function() {\n",
            "    window.require([\"js/edison/edison\"], function (edisonModule) {\n",
            "        edisonModule.Edison.registerStreamedDataModule(\"metaserver/static/js/modules/constants/contacts\", \"json\", \"{\\\"MERGE_SEARCH_ALLOWED\\\": {}}\");\n",
            "    });\n",
            "});\n",
            "</script><script nonce=\"fs8456E9a314SEKKzhdMq0JB7pc=\">window.addRequireLoadCallback(function() {\n",
            "    window.require([\"js/edison/edison\"], function (edisonModule) {\n",
            "        edisonModule.Edison.registerStreamedDataModule(\"metaserver/static/js/modules/constants/teams\", \"json\", \"{\\\"SHOW_CREATE_TEAM_MODAL_AFTER_SHARING\\\": false, \\\"TMR_GA_FEATURE_GG_TMR_MIGRATION_ONBOARDING\\\": \\\"V1\\\", \\\"TMR_STREAMLINE_FOLDER_CREATION\\\": \\\"OFF\\\", \\\"PAPER_PROMPT_EXP_V1\\\": \\\"PAPER_PROMPT_EXP_V1\\\", \\\"PAPER_PROMPT_EXP_V2\\\": \\\"PAPER_PROMPT_EXP_V2\\\", \\\"PAPER_PROMPT_EXP_V3\\\": \\\"PAPER_PROMPT_EXP_V3\\\", \\\"PAPER_LOPS_EXP_BANNER\\\": \\\"PAPER_LOPS_EXP_BANNER\\\", \\\"PAPER_LOPS_EXP_MODAL\\\": \\\"PAPER_LOPS_EXP_MODAL\\\", \\\"PAPER_LANDING\\\": \\\"paper_landing\\\", \\\"PAPER_SIGN_UP_FOR_TEAM_V2\\\": \\\"TEAMS_PAPER_V2\\\"}\");\n",
            "    });\n",
            "});\n",
            "</script><script nonce=\"fs8456E9a314SEKKzhdMq0JB7pc=\">window.addRequireLoadCallback(function() {\n",
            "    window.require([\"js/edison/edison\"], function (edisonModule) {\n",
            "        edisonModule.Edison.registerStreamedDataModule(\"metaserver/static/js/modules/constants/web_experience_constants\", \"json\", \"{\\\"CONTENT_TILES\\\": \\\"OFF\\\", \\\"DEFAULT_DRAG_AND_DROP\\\": \\\"OFF\\\", \\\"CONTENT_TILES_SEARCH\\\": \\\"OFF\\\", \\\"SAVED_VIEW\\\": \\\"OFF\\\", \\\"DIG_FEATURE_LEVEL\\\": \\\"OFF\\\", \\\"LEFT_NAV_QUERY_LIST_SECTION\\\": \\\"OFF\\\", \\\"BROWSE_WITH_FACETS\\\": \\\"OFF\\\", \\\"THEME_PROVIDER_THEME\\\": \\\"VIS2023\\\", \\\"BROWSE_DEFAULT_GRID_VIEW\\\": \\\"OFF\\\", \\\"FOLDER_CREATE_WITHOUT_REDIRECT\\\": \\\"OFF\\\", \\\"QUICK_VIEW_RELATED_FILES\\\": \\\"OFF\\\", \\\"BROWSE_CONTENT_SUGGESTIONS_VARIANT\\\": \\\"OFF\\\", \\\"CONTENT_TILES_INTERACTIVITY_VIDEO\\\": \\\"OFF\\\", \\\"CONTENT_TILES_INTERACTIVITY_FOLDER\\\": \\\"OFF\\\", \\\"CONTENT_TILES_INTERACTIVITY_PDF\\\": \\\"OFF\\\", \\\"CONTENT_TILES_DELAY_INTERACTIVITY\\\": \\\"OFF\\\", \\\"CONTENT_TILES_STREAMING_ENDPOINT\\\": \\\"OFF\\\", \\\"SECTION_COMPONENT_BROWSE\\\": \\\"OFF\\\", \\\"FOLDER_LEVEL_FILTER\\\": \\\"OFF\\\", \\\"WEB_REDESIGN_GLOBAL_HEADER\\\": \\\"OFF\\\", \\\"BROWSE_FILE_VIEW_REFACTOR\\\": \\\"OFF\\\", \\\"QUICK_VIEW_BROWSE\\\": \\\"OFF\\\", \\\"ACTIONS_OVERFLOW_MENU_PERF\\\": \\\"OFF\\\", \\\"CONTENT_TILES_INTERACTIVITY_STREAMING_ONLY\\\": \\\"OFF\\\", \\\"QUICK_VIEW_FOLDER_VIEW\\\": \\\"OFF\\\", \\\"QUICK_VIEW_FOLDER_VIEW_SEARCH\\\": \\\"OFF\\\", \\\"INTELLIGENCE_APRIL_2024_HOLDOUT_CONTROL\\\": \\\"OFF\\\", \\\"IS_ADMIN_CONSOLE_OVERHAUL_ENABLED\\\": false, \\\"CONTENT_TILES_TRAILING_TRUNCATION\\\": \\\"OFF\\\"}\");\n",
            "    });\n",
            "});\n",
            "</script><script nonce=\"fs8456E9a314SEKKzhdMq0JB7pc=\">window.addRequireLoadCallback(function() {\n",
            "    window.require([\"js/data_modules/stormcrow\"], function (module) {\n",
            "        module.Stormcrow.registerAssignment(\"ChgKFmRyYWdfYW5kX2Ryb3BfcmVkZXNpZ24=\", \"ChZkcmFnX2FuZF9kcm9wX3JlZGVzaWduEgNPRkYaACIaCAgSFk1pc3Npbmcgc2VsZWN0b3IgdGVhbS4=\");\n",
            "    });\n",
            "});\n",
            "</script><script nonce=\"fs8456E9a314SEKKzhdMq0JB7pc=\">window.addRequireLoadCallback(function() {\n",
            "    window.require([\"js/data_modules/stormcrow\"], function (module) {\n",
            "        module.Stormcrow.registerAssignment(\"ChEKD3Rtcl90bGNwX3Byb21wdA==\", \"Cg90bXJfdGxjcF9wcm9tcHQSA09GRhoAIhoICBIWTWlzc2luZyBzZWxlY3RvciB1c2VyLiIaCAgSFk1pc3Npbmcgc2VsZWN0b3IgdGVhbS4=\");\n",
            "    });\n",
            "});\n",
            "</script><script nonce=\"fs8456E9a314SEKKzhdMq0JB7pc=\">window.addRequireLoadCallback(function() {\n",
            "    window.require([\"js/data_modules/stormcrow\"], function (module) {\n",
            "        module.Stormcrow.registerAssignment(\"CiAKHnByZXZpZXdzX2V4cF9pbmxpbmVfYXV0aF9tb2RhbA==\", \"Ch5wcmV2aWV3c19leHBfaW5saW5lX2F1dGhfbW9kYWwSA09GRhqMAgoOCgd2YXJpYW50EgNPRkYKLgoMZmVhdHVyZV9uYW1lEh5wcmV2aWV3c19leHBfaW5saW5lX2F1dGhfbW9kYWwKEwoNcG9wdWxhdGlvbl9pZBICMzAKGwoVa2V5X2RhdGFfZmllbGRfdmFsdWVzEgJ7fQoTCgZyYW5kb20SCTQyMjU0NDU3NwouCgpyZXF1ZXN0X2lkEiBlOGQ5MWZiYjllMTE0MGZjYTE5NzY5Y2EwMmQzOGQ5MQoMCgZ2aWV3ZXISAi0xCjQKCnNlc3Npb25faWQSJjc1MzU4NTk5MDE2MjUxNDUyOTcwMjE3NDg5NTA3ODU2ODE3NjE3Cg8KC2N1c3RvbV90ZXh0EgA=\");\n",
            "    });\n",
            "});\n",
            "</script><script nonce=\"fs8456E9a314SEKKzhdMq0JB7pc=\">window.addRequireLoadCallback(function() {\n",
            "    window.require([\"js/data_modules/stormcrow\"], function (module) {\n",
            "        module.Stormcrow.registerAssignment(\"ChUKE2VkaXRvcl9zaWduX21lbnVfdjI=\", \"ChNlZGl0b3Jfc2lnbl9tZW51X3YyEgNPRkYaACIaCAgSFk1pc3Npbmcgc2VsZWN0b3IgdXNlci4=\");\n",
            "    });\n",
            "});\n",
            "</script><script nonce=\"fs8456E9a314SEKKzhdMq0JB7pc=\">window.addRequireLoadCallback(function() {\n",
            "    window.require([\"js/data_modules/stormcrow\"], function (module) {\n",
            "        module.Stormcrow.registerAssignment(\"CiAKHnNhdmVkX3ZpZXdfcmVzcG9uc2l2ZV9sZWZ0X25hdg==\", \"Ch5zYXZlZF92aWV3X3Jlc3BvbnNpdmVfbGVmdF9uYXYSA09GRhoAIhoICBIWTWlzc2luZyBzZWxlY3RvciB1c2VyLiIaCAgSFk1pc3Npbmcgc2VsZWN0b3IgdXNlci4iGggIEhZNaXNzaW5nIHNlbGVjdG9yIHVzZXIuIhoICBIWTWlzc2luZyBzZWxlY3RvciB1c2VyLg==\");\n",
            "    });\n",
            "});\n",
            "</script><script nonce=\"fs8456E9a314SEKKzhdMq0JB7pc=\">window.addRequireLoadCallback(function() {\n",
            "    window.require([\"js/data_modules/stormcrow\"], function (module) {\n",
            "        module.Stormcrow.registerAssignment(\"ChkKF2NvbW1lbnRzXzIwMjRfcTJfcmV2YW1w\", \"Chdjb21tZW50c18yMDI0X3EyX3JldmFtcBIDT0ZGGgAiGggIEhZNaXNzaW5nIHNlbGVjdG9yIHVzZXIuIhoICBIWTWlzc2luZyBzZWxlY3RvciB0ZWFtLiIaCAgSFk1pc3Npbmcgc2VsZWN0b3IgdGVhbS4iGggIEhZNaXNzaW5nIHNlbGVjdG9yIHVzZXIu\");\n",
            "    });\n",
            "});\n",
            "</script><script nonce=\"fs8456E9a314SEKKzhdMq0JB7pc=\">window.addRequireLoadCallback(function() {\n",
            "    window.require([\"js/data_modules/stormcrow\"], function (module) {\n",
            "        module.Stormcrow.registerAssignment(\"ChwKGnNoYXJlZF9mb2xkZXJfcHJldmlld19wZXJm\", \"ChpzaGFyZWRfZm9sZGVyX3ByZXZpZXdfcGVyZhICT04aACIaCAgSFk1pc3Npbmcgc2VsZWN0b3IgdXNlci4iHggIEhpNaXNzaW5nIHNlbGVjdG9yIGlkZW50aXR5LiIaCAgSFk1pc3Npbmcgc2VsZWN0b3IgdXNlci4iGggIEhZNaXNzaW5nIHNlbGVjdG9yIHVzZXIuIhoICBIWTWlzc2luZyBzZWxlY3RvciB1c2VyLiIYCAYSFEVtcHR5IHNlbGVjdG9yIHRlYW0uIhoICBIWTWlzc2luZyBzZWxlY3RvciB0ZWFtLg==\");\n",
            "    });\n",
            "});\n",
            "</script><script nonce=\"fs8456E9a314SEKKzhdMq0JB7pc=\">window.addRequireLoadCallback(function() {\n",
            "    window.require([\"js/data_modules/stormcrow\"], function (module) {\n",
            "        module.Stormcrow.registerAssignment(\"CiMKIXNlbGZfc2lnbl9kZWZhdWx0X3RvX2ZpZWxkc19wYW5lbA==\", \"CiFzZWxmX3NpZ25fZGVmYXVsdF90b19maWVsZHNfcGFuZWwSA09GRhr6AQouCgpyZXF1ZXN0X2lkEiBlOGQ5MWZiYjllMTE0MGZjYTE5NzY5Y2EwMmQzOGQ5MQo0CgpzZXNzaW9uX2lkEiY3NTM1ODU5OTAxNjI1MTQ1Mjk3MDIxNzQ4OTUwNzg1NjgxNzYxNwoxCgxmZWF0dXJlX25hbWUSIXNlbGZfc2lnbl9kZWZhdWx0X3RvX2ZpZWxkc19wYW5lbAobChVrZXlfZGF0YV9maWVsZF92YWx1ZXMSAnt9Cg8KC2N1c3RvbV90ZXh0EgAKEwoGcmFuZG9tEgk4OTUxMjY4MzEKDAoGdmlld2VyEgItMQoOCgd2YXJpYW50EgNPRkY=\");\n",
            "    });\n",
            "});\n",
            "</script><script nonce=\"fs8456E9a314SEKKzhdMq0JB7pc=\">window.addRequireLoadCallback(function() {\n",
            "    window.require([\"js/data_modules/stormcrow\"], function (module) {\n",
            "        module.Stormcrow.registerAssignment(\"CiIKIHVwbG9hZF93ZWJfbWF4X2JhdGNoX2FwcGVuZF9zaXpl\", \"CiB1cGxvYWRfd2ViX21heF9iYXRjaF9hcHBlbmRfc2l6ZRIDT0ZGGgAiGggIEhZNaXNzaW5nIHNlbGVjdG9yIHVzZXIuIhoICBIWTWlzc2luZyBzZWxlY3RvciB0ZWFtLiIaCAgSFk1pc3Npbmcgc2VsZWN0b3IgdXNlci4iGggIEhZNaXNzaW5nIHNlbGVjdG9yIHVzZXIu\");\n",
            "    });\n",
            "});\n",
            "</script><script nonce=\"fs8456E9a314SEKKzhdMq0JB7pc=\">window.addRequireLoadCallback(function() {\n",
            "    window.require([\"js/data_modules/stormcrow\"], function (module) {\n",
            "        module.Stormcrow.registerAssignment(\"Ch8KHWNoZWNrb3V0X2RlZmVyX2NvbnNlbnRfYmFubmVy\", \"Ch1jaGVja291dF9kZWZlcl9jb25zZW50X2Jhbm5lchICT04ajAIKLgoKcmVxdWVzdF9pZBIgZThkOTFmYmI5ZTExNDBmY2ExOTc2OWNhMDJkMzhkOTEKDAoGdmlld2VyEgItMQoUCg1wb3B1bGF0aW9uX2lkEgMyODcKLQoMZmVhdHVyZV9uYW1lEh1jaGVja291dF9kZWZlcl9jb25zZW50X2Jhbm5lcgoPCgtjdXN0b21fdGV4dBIACjQKCnNlc3Npb25faWQSJjc1MzU4NTk5MDE2MjUxNDUyOTcwMjE3NDg5NTA3ODU2ODE3NjE3ChsKFWtleV9kYXRhX2ZpZWxkX3ZhbHVlcxICe30KDQoHdmFyaWFudBICT04KFAoGcmFuZG9tEgozODE0NTc4MTEw\");\n",
            "    });\n",
            "});\n",
            "</script><script nonce=\"fs8456E9a314SEKKzhdMq0JB7pc=\">window.addRequireLoadCallback(function() {\n",
            "    window.require([\"js/data_modules/stormcrow\"], function (module) {\n",
            "        module.Stormcrow.registerAssignment(\"Ch4KHHBkZl9lZGl0aW5nX2ZyZWVmb3JtX2RyYXdpbmc=\", \"ChxwZGZfZWRpdGluZ19mcmVlZm9ybV9kcmF3aW5nEgJPThoAIhoICBIWTWlzc2luZyBzZWxlY3RvciB1c2VyLiIaCAgSFk1pc3Npbmcgc2VsZWN0b3IgdXNlci4iGggIEhZNaXNzaW5nIHNlbGVjdG9yIHVzZXIu\");\n",
            "    });\n",
            "});\n",
            "</script><script nonce=\"fs8456E9a314SEKKzhdMq0JB7pc=\">window.addRequireLoadCallback(function() {\n",
            "    window.require([\"js/data_modules/stormcrow\"], function (module) {\n",
            "        module.Stormcrow.registerAssignment(\"CicKJXByZXZpZXdzX21vYmlsZV93ZWJfcmVkZXNpZ25fZmFjZXBpbGU=\", \"CiVwcmV2aWV3c19tb2JpbGVfd2ViX3JlZGVzaWduX2ZhY2VwaWxlEgJPThoAIhoICBIWTWlzc2luZyBzZWxlY3RvciB1c2VyLiIeCAgSGk1pc3Npbmcgc2VsZWN0b3IgaWRlbnRpdHkuIhoICBIWTWlzc2luZyBzZWxlY3RvciB1c2VyLg==\");\n",
            "    });\n",
            "});\n",
            "</script><script nonce=\"fs8456E9a314SEKKzhdMq0JB7pc=\">window.addRequireLoadCallback(function() {\n",
            "    window.require([\"js/data_modules/stormcrow\"], function (module) {\n",
            "        module.Stormcrow.registerAssignment(\"CisKKXByZXZpZXdzX2V4cF9kaXNhYmxlX2ltbWVkaWF0ZV9zdXNpX21vZGFs\", \"CilwcmV2aWV3c19leHBfZGlzYWJsZV9pbW1lZGlhdGVfc3VzaV9tb2RhbBICT04alwIKOQoMZmVhdHVyZV9uYW1lEilwcmV2aWV3c19leHBfZGlzYWJsZV9pbW1lZGlhdGVfc3VzaV9tb2RhbAoNCgd2YXJpYW50EgJPTgoUCgZyYW5kb20SCjI3MTQ4MzM5MzkKDwoLY3VzdG9tX3RleHQSAAobChVrZXlfZGF0YV9maWVsZF92YWx1ZXMSAnt9ChMKDXBvcHVsYXRpb25faWQSAjMwCgwKBnZpZXdlchICLTEKLgoKcmVxdWVzdF9pZBIgZThkOTFmYmI5ZTExNDBmY2ExOTc2OWNhMDJkMzhkOTEKNAoKc2Vzc2lvbl9pZBImNzUzNTg1OTkwMTYyNTE0NTI5NzAyMTc0ODk1MDc4NTY4MTc2MTc=\");\n",
            "    });\n",
            "});\n",
            "</script><script nonce=\"fs8456E9a314SEKKzhdMq0JB7pc=\">window.addRequireLoadCallback(function() {\n",
            "    window.require([\"js/data_modules/stormcrow\"], function (module) {\n",
            "        module.Stormcrow.registerAssignment(\"ChwKGnBkZl9lZGl0aW5nX3pvb21fZ3JpZF92aWV3\", \"ChpwZGZfZWRpdGluZ196b29tX2dyaWRfdmlldxIDT0ZGGgAiGggIEhZNaXNzaW5nIHNlbGVjdG9yIHVzZXIu\");\n",
            "    });\n",
            "});\n",
            "</script><script nonce=\"fs8456E9a314SEKKzhdMq0JB7pc=\">window.addRequireLoadCallback(function() {\n",
            "    window.require([\"js/data_modules/stormcrow\"], function (module) {\n",
            "        module.Stormcrow.registerAssignment(\"Ch4KHHNoYXJpbmdfYWR2YW5jZWRfY2xtbV91cHNlbGw=\", \"ChxzaGFyaW5nX2FkdmFuY2VkX2NsbW1fdXBzZWxsEgNPRkYaACIaCAgSFk1pc3Npbmcgc2VsZWN0b3IgdXNlci4=\");\n",
            "    });\n",
            "});\n",
            "</script><script nonce=\"fs8456E9a314SEKKzhdMq0JB7pc=\">window.addRequireLoadCallback(function() {\n",
            "    window.require([\"js/data_modules/stormcrow\"], function (module) {\n",
            "        module.Stormcrow.registerAssignment(\"CjIKMGFkbWluX3NpZ25lZF9pbl9hc191c2VyX2RlYXNzdW1lX2Jhbm5lcl9yZWRlc2lnbg==\", \"CjBhZG1pbl9zaWduZWRfaW5fYXNfdXNlcl9kZWFzc3VtZV9iYW5uZXJfcmVkZXNpZ24SA09GRhoAIhoICBIWTWlzc2luZyBzZWxlY3RvciB0ZWFtLiIaCAgSFk1pc3Npbmcgc2VsZWN0b3IgdXNlci4=\");\n",
            "    });\n",
            "});\n",
            "</script><script nonce=\"fs8456E9a314SEKKzhdMq0JB7pc=\">window.addRequireLoadCallback(function() {\n",
            "    window.require([\"js/data_modules/stormcrow\"], function (module) {\n",
            "        module.Stormcrow.registerAssignment(\"CiMKIXBkZl9lZGl0aW5nX2NvcHlfcGFzdGVfYW5ub3RhdGlvbg==\", \"CiFwZGZfZWRpdGluZ19jb3B5X3Bhc3RlX2Fubm90YXRpb24SA09GRhoAIhoICBIWTWlzc2luZyBzZWxlY3RvciB1c2VyLiIaCAgSFk1pc3Npbmcgc2VsZWN0b3IgdXNlci4iGggIEhZNaXNzaW5nIHNlbGVjdG9yIHVzZXIu\");\n",
            "    });\n",
            "});\n",
            "</script><script nonce=\"fs8456E9a314SEKKzhdMq0JB7pc=\">window.addRequireLoadCallback(function() {\n",
            "    window.require([\"js/data_modules/stormcrow\"], function (module) {\n",
            "        module.Stormcrow.registerAssignment(\"Ch0KG3BkZl9lZGl0aW5nX3NpZ25hdHVyZV9maWVsZA==\", \"ChtwZGZfZWRpdGluZ19zaWduYXR1cmVfZmllbGQSA09GRhoAIhoICBIWTWlzc2luZyBzZWxlY3RvciB1c2VyLiIaCAgSFk1pc3Npbmcgc2VsZWN0b3IgdXNlci4iGggIEhZNaXNzaW5nIHNlbGVjdG9yIHVzZXIu\");\n",
            "    });\n",
            "});\n",
            "</script><script nonce=\"fs8456E9a314SEKKzhdMq0JB7pc=\">window.addRequireLoadCallback(function() {\n",
            "    window.require([\"js/data_modules/stormcrow\"], function (module) {\n",
            "        module.Stormcrow.registerAssignment(\"ChsKGXByZXZpZXdzX2V4cF9wcmV3YXJtX3VybHM=\", \"ChlwcmV2aWV3c19leHBfcHJld2FybV91cmxzEgdDT05UUk9MGgAiHggIEhpNaXNzaW5nIHNlbGVjdG9yIGlkZW50aXR5LiIaCAgSFk1pc3Npbmcgc2VsZWN0b3IgdXNlci4=\");\n",
            "    });\n",
            "});\n",
            "</script><script nonce=\"fs8456E9a314SEKKzhdMq0JB7pc=\">window.addRequireLoadCallback(function() {\n",
            "    window.require([\"js/data_modules/stormcrow\"], function (module) {\n",
            "        module.Stormcrow.registerAssignment(\"CiAKHnByb19zaGFyaW5nX3ByZXNlbnRhdGlvbl9saW5rcw==\", \"Ch5wcm9fc2hhcmluZ19wcmVzZW50YXRpb25fbGlua3MSA09GRhoAIhoICBIWTWlzc2luZyBzZWxlY3RvciB1c2VyLiIaCAgSFk1pc3Npbmcgc2VsZWN0b3IgdXNlci4iGAgGEhRFbXB0eSBzZWxlY3RvciB0ZWFtLiIaCAgSFk1pc3Npbmcgc2VsZWN0b3IgdGVhbS4iGggIEhZNaXNzaW5nIHNlbGVjdG9yIHRlYW0uIhoICBIWTWlzc2luZyBzZWxlY3RvciB1c2VyLiIaCAgSFk1pc3Npbmcgc2VsZWN0b3IgdXNlci4iGggIEhZNaXNzaW5nIHNlbGVjdG9yIHVzZXIu\");\n",
            "    });\n",
            "});\n",
            "</script><script nonce=\"fs8456E9a314SEKKzhdMq0JB7pc=\">window.addRequireLoadCallback(function() {\n",
            "    window.require([\"js/data_modules/stormcrow\"], function (module) {\n",
            "        module.Stormcrow.registerAssignment(\"Cj0KO2FjZV9kb250X2RlZmF1bHRfZXZlcnlvbmVfb25fdG9wX2xldmVsX3RlYW1fZm9sZGVyX2NyZWF0aW9u\", \"CjthY2VfZG9udF9kZWZhdWx0X2V2ZXJ5b25lX29uX3RvcF9sZXZlbF90ZWFtX2ZvbGRlcl9jcmVhdGlvbhIDT0ZGGgAiVAgCElBGZWF0dXJlIGFjZV9kb250X2RlZmF1bHRfZXZlcnlvbmVfb25fdG9wX2xldmVsX3RlYW1fZm9sZGVyX2NyZWF0aW9uIG5vdCBlbmFibGVkLg==\");\n",
            "    });\n",
            "});\n",
            "</script><script nonce=\"fs8456E9a314SEKKzhdMq0JB7pc=\">window.addRequireLoadCallback(function() {\n",
            "    window.require([\"js/data_modules/stormcrow\"], function (module) {\n",
            "        module.Stormcrow.registerAssignment(\"ChsKGWZpbGVfdHJhbnNmZXJzX2FwcF9hY3Rpb24=\", \"ChlmaWxlX3RyYW5zZmVyc19hcHBfYWN0aW9uEgJPThoAIhoICBIWTWlzc2luZyBzZWxlY3RvciB1c2VyLg==\");\n",
            "    });\n",
            "});\n",
            "</script><script nonce=\"fs8456E9a314SEKKzhdMq0JB7pc=\">window.addRequireLoadCallback(function() {\n",
            "    window.require([\"js/data_modules/stormcrow\"], function (module) {\n",
            "        module.Stormcrow.registerAssignment(\"ChcKFXBkZl9lZGl0aW5nX2hpZ2hsaWdodA==\", \"ChVwZGZfZWRpdGluZ19oaWdobGlnaHQSAk9OGgAiGggIEhZNaXNzaW5nIHNlbGVjdG9yIHVzZXIuIhoICBIWTWlzc2luZyBzZWxlY3RvciB1c2VyLiIaCAgSFk1pc3Npbmcgc2VsZWN0b3IgdXNlci4=\");\n",
            "    });\n",
            "});\n",
            "</script><script nonce=\"fs8456E9a314SEKKzhdMq0JB7pc=\">window.addRequireLoadCallback(function() {\n",
            "    window.require([\"js/data_modules/stormcrow\"], function (module) {\n",
            "        module.Stormcrow.registerAssignment(\"ChcKFWlkeF9haV9jb250cm9sX2NlbnRlcg==\", \"ChVpZHhfYWlfY29udHJvbF9jZW50ZXISA09GRhoAIhoICBIWTWlzc2luZyBzZWxlY3RvciB1c2VyLiIaCAgSFk1pc3Npbmcgc2VsZWN0b3IgdXNlci4iGggIEhZNaXNzaW5nIHNlbGVjdG9yIHVzZXIuIhoICBIWTWlzc2luZyBzZWxlY3RvciB1c2VyLg==\");\n",
            "    });\n",
            "});\n",
            "</script><script nonce=\"fs8456E9a314SEKKzhdMq0JB7pc=\">window.addRequireLoadCallback(function() {\n",
            "    window.require([\"js/data_modules/stormcrow\"], function (module) {\n",
            "        module.Stormcrow.registerAssignment(\"ChoKGG1vbmV4X3Byb2plY3RfZG9vcm1hbl9tMg==\", \"Chhtb25leF9wcm9qZWN0X2Rvb3JtYW5fbTISA09GRhoAIhoICBIWTWlzc2luZyBzZWxlY3RvciB1c2VyLg==\");\n",
            "    });\n",
            "});\n",
            "</script><script nonce=\"fs8456E9a314SEKKzhdMq0JB7pc=\">window.addRequireLoadCallback(function() {\n",
            "    window.require([\"js/data_modules/stormcrow\"], function (module) {\n",
            "        module.Stormcrow.registerAssignment(\"CgwKCnNhdmVkX3ZpZXc=\", \"CgpzYXZlZF92aWV3EgNPRkYaACIaCAgSFk1pc3Npbmcgc2VsZWN0b3IgdXNlci4iGggIEhZNaXNzaW5nIHNlbGVjdG9yIHVzZXIuIhoICBIWTWlzc2luZyBzZWxlY3RvciB1c2VyLiIaCAgSFk1pc3Npbmcgc2VsZWN0b3IgdXNlci4iGggIEhZNaXNzaW5nIHNlbGVjdG9yIHVzZXIuIhoICBIWTWlzc2luZyBzZWxlY3RvciB1c2VyLiIaCAgSFk1pc3Npbmcgc2VsZWN0b3IgdXNlci4iGggIEhZNaXNzaW5nIHNlbGVjdG9yIHRlYW0uIhoICBIWTWlzc2luZyBzZWxlY3RvciB0ZWFtLiIaCAgSFk1pc3Npbmcgc2VsZWN0b3IgdXNlci4=\");\n",
            "    });\n",
            "});\n",
            "</script><script nonce=\"fs8456E9a314SEKKzhdMq0JB7pc=\">window.addRequireLoadCallback(function() {\n",
            "    window.require([\"js/data_modules/stormcrow\"], function (module) {\n",
            "        module.Stormcrow.registerAssignment(\"ChkKF2NvbW1lbnRzXzIwMjRfcmVhY3Rpb25z\", \"Chdjb21tZW50c18yMDI0X3JlYWN0aW9ucxICT04aACIaCAgSFk1pc3Npbmcgc2VsZWN0b3IgdXNlci4iGggIEhZNaXNzaW5nIHNlbGVjdG9yIHVzZXIuIhoICBIWTWlzc2luZyBzZWxlY3RvciB0ZWFtLiIaCAgSFk1pc3Npbmcgc2VsZWN0b3IgdGVhbS4iGggIEhZNaXNzaW5nIHNlbGVjdG9yIHVzZXIuIhoICBIWTWlzc2luZyBzZWxlY3RvciB1c2VyLg==\");\n",
            "    });\n",
            "});\n",
            "</script><script nonce=\"fs8456E9a314SEKKzhdMq0JB7pc=\">window.addRequireLoadCallback(function() {\n",
            "    window.require([\"js/data_modules/stormcrow\"], function (module) {\n",
            "        module.Stormcrow.registerAssignment(\"ChMKEWRpZ19mZWF0dXJlX2xldmVs\", \"ChFkaWdfZmVhdHVyZV9sZXZlbBIDT0ZGGgAiHggIEhpNaXNzaW5nIHNlbGVjdG9yIGlkZW50aXR5LiIaCAgSFk1pc3Npbmcgc2VsZWN0b3IgdXNlci4=\");\n",
            "    });\n",
            "});\n",
            "</script><script nonce=\"fs8456E9a314SEKKzhdMq0JB7pc=\">window.addRequireLoadCallback(function() {\n",
            "    window.require([\"js/data_modules/stormcrow\"], function (module) {\n",
            "        module.Stormcrow.registerAssignment(\"CiQKInByZXZpZXdzX2V4cF9leGNsdWRlX3ByZXZpZXdfcHJvcHM=\", \"CiJwcmV2aWV3c19leHBfZXhjbHVkZV9wcmV2aWV3X3Byb3BzEgNPRkYaACIaCAgSFk1pc3Npbmcgc2VsZWN0b3IgdXNlci4=\");\n",
            "    });\n",
            "});\n",
            "</script><script nonce=\"fs8456E9a314SEKKzhdMq0JB7pc=\">window.addRequireLoadCallback(function() {\n",
            "    window.require([\"js/data_modules/stormcrow\"], function (module) {\n",
            "        module.Stormcrow.registerAssignment(\"ChsKGXNtMjRfaW52aXRlX2FmdGVyX3NoYXJpbmc=\", \"ChlzbTI0X2ludml0ZV9hZnRlcl9zaGFyaW5nEgNPRkYaACIaCAgSFk1pc3Npbmcgc2VsZWN0b3IgdXNlci4iGggIEhZNaXNzaW5nIHNlbGVjdG9yIHVzZXIu\");\n",
            "    });\n",
            "});\n",
            "</script><script nonce=\"fs8456E9a314SEKKzhdMq0JB7pc=\">window.addRequireLoadCallback(function() {\n",
            "    window.require([\"js/data_modules/stormcrow\"], function (module) {\n",
            "        module.Stormcrow.registerAssignment(\"ChUKE3BnX3doYXRzX25ld191cGRhdGU=\", \"ChNwZ193aGF0c19uZXdfdXBkYXRlEhJSRUxFQVNFXzIwMjRfMDRfMjQaACIaCAgSFk1pc3Npbmcgc2VsZWN0b3IgdXNlci4=\");\n",
            "    });\n",
            "});\n",
            "</script><script nonce=\"fs8456E9a314SEKKzhdMq0JB7pc=\">window.addRequireLoadCallback(function() {\n",
            "    window.require([\"js/data_modules/stormcrow\"], function (module) {\n",
            "        module.Stormcrow.registerAssignment(\"ChwKGnByZXZpZXdzX2V4cF90ZXh0X3ByZXZpZXdz\", \"ChpwcmV2aWV3c19leHBfdGV4dF9wcmV2aWV3cxIDT0ZGGgAiMwgCEi9GZWF0dXJlIHByZXZpZXdzX2V4cF90ZXh0X3ByZXZpZXdzIG5vdCBlbmFibGVkLg==\");\n",
            "    });\n",
            "});\n",
            "</script><script nonce=\"fs8456E9a314SEKKzhdMq0JB7pc=\">window.addRequireLoadCallback(function() {\n",
            "    window.require([\"js/data_modules/stormcrow\"], function (module) {\n",
            "        module.Stormcrow.registerAssignment(\"ChoKGHBzX2luZnJhX2xvYWRfZnVuY2FwdGNoYQ==\", \"Chhwc19pbmZyYV9sb2FkX2Z1bmNhcHRjaGESAk9OGoYCCjQKCnNlc3Npb25faWQSJjc1MzU4NTk5MDE2MjUxNDUyOTcwMjE3NDg5NTA3ODU2ODE3NjE3Ci4KCnJlcXVlc3RfaWQSIGU4ZDkxZmJiOWUxMTQwZmNhMTk3NjljYTAyZDM4ZDkxChsKFWtleV9kYXRhX2ZpZWxkX3ZhbHVlcxICe30KDQoHdmFyaWFudBICT04KDAoGdmlld2VyEgItMQoPCgtjdXN0b21fdGV4dBIAChQKBnJhbmRvbRIKMTYwMjQ0NTk5NAoTCg1wb3B1bGF0aW9uX2lkEgIzMAooCgxmZWF0dXJlX25hbWUSGHBzX2luZnJhX2xvYWRfZnVuY2FwdGNoYQ==\");\n",
            "    });\n",
            "});\n",
            "</script><script nonce=\"fs8456E9a314SEKKzhdMq0JB7pc=\">window.addRequireLoadCallback(function() {\n",
            "    window.require([\"js/data_modules/stormcrow\"], function (module) {\n",
            "        module.Stormcrow.registerAssignment(\"CiUKI3VwbG9hZF93ZWJfcGFyYWxsZWxfYXBwZW5kX3JlcXVlc3Rz\", \"CiN1cGxvYWRfd2ViX3BhcmFsbGVsX2FwcGVuZF9yZXF1ZXN0cxIDT0ZGGgAiGggIEhZNaXNzaW5nIHNlbGVjdG9yIHVzZXIu\");\n",
            "    });\n",
            "});\n",
            "</script><script nonce=\"fs8456E9a314SEKKzhdMq0JB7pc=\">window.addRequireLoadCallback(function() {\n",
            "    window.require([\"js/data_modules/stormcrow\"], function (module) {\n",
            "        module.Stormcrow.registerAssignment(\"ChoKGHByZXZpZXdzX3RyYW5zY3JpcHRfZWRpdA==\", \"ChhwcmV2aWV3c190cmFuc2NyaXB0X2VkaXQSA09GRhoAIhoICBIWTWlzc2luZyBzZWxlY3RvciB1c2VyLg==\");\n",
            "    });\n",
            "});\n",
            "</script><script nonce=\"fs8456E9a314SEKKzhdMq0JB7pc=\">window.addRequireLoadCallback(function() {\n",
            "    window.require([\"js/data_modules/stormcrow\"], function (module) {\n",
            "        module.Stormcrow.registerAssignment(\"CiAKHmNvbW1lbnRzXzIwMjRfcGl4ZWxfY29tbWVudGluZw==\", \"Ch5jb21tZW50c18yMDI0X3BpeGVsX2NvbW1lbnRpbmcSA09GRhoAIhoICBIWTWlzc2luZyBzZWxlY3RvciB1c2VyLiIaCAgSFk1pc3Npbmcgc2VsZWN0b3IgdXNlci4iGggIEhZNaXNzaW5nIHNlbGVjdG9yIHRlYW0uIhoICBIWTWlzc2luZyBzZWxlY3RvciB0ZWFtLiIaCAgSFk1pc3Npbmcgc2VsZWN0b3IgdXNlci4iGggIEhZNaXNzaW5nIHNlbGVjdG9yIHVzZXIu\");\n",
            "    });\n",
            "});\n",
            "</script><script nonce=\"fs8456E9a314SEKKzhdMq0JB7pc=\">window.addRequireLoadCallback(function() {\n",
            "    window.require([\"js/edison/edison\"], function (edisonModule) {\n",
            "        edisonModule.Edison.registerStreamedPrefetch(\"Eq4CCiN3ZWJfcGxhdGZvcm0uV2ViUGxhdGZvcm1FZGlzb25GZXRjaBITRWRpc29uRGV2VG9vbHNGZXRjaBrVARLSAVJnaHR0cHM6Ly93d3cuZHJvcGJveC5jb20vc2NsL2ZpL280dDZjcTVnMTZqZWx6MXYwejJsai9tb2JpbGVfY2xlYW5lZC5jc3Y/cmxrZXk9ZHc5ZGlkN3RzNDF4NGl3bWtmZ3oxcWx0MlpnaHR0cHM6Ly93d3cuZHJvcGJveC5jb20vc2NsL2ZpL280dDZjcTVnMTZqZWx6MXYwejJsai9tb2JpbGVfY2xlYW5lZC5jc3Y/cmxrZXk9ZHc5ZGlkN3RzNDF4NGl3bWtmZ3oxcWx0MioLZmlsZV92aWV3ZXIyDXNjbF9vYm9lX2ZpbGU=\", \"IhAxNzE5Mzg4ODU4MTMzNjE0\",  false );\n",
            "    });\n",
            "});\n",
            "</script><script nonce=\"fs8456E9a314SEKKzhdMq0JB7pc=\">window.addRequireLoadCallback(function() {\n",
            "    window.require([\"js/data_modules/stormcrow\"], function (module) {\n",
            "        module.Stormcrow.doneStreaming();\n",
            "    });\n",
            "});\n",
            "</script><script nonce=\"fs8456E9a314SEKKzhdMq0JB7pc=\">window.addRequireLoadCallback(function() {\n",
            "    window.require([\"js/edison/edison\"], function (edisonModule) {\n",
            "        edisonModule.Edison.registerStreamedDataModule(\"metaserver/static/js/modules/constants/file_viewer_configuration\", \"json\", \"{\\\"proto\\\": \\\"\\\"}\");\n",
            "    });\n",
            "});\n",
            "</script><script nonce=\"fs8456E9a314SEKKzhdMq0JB7pc=\">window.addRequireLoadCallback(function() {\n",
            "    window.require([\"js/edison/edison\"], function (edisonModule) {\n",
            "        edisonModule.Edison.registerStreamedDataModule(\"metaserver/static/js/modules/constants/search\", \"json\", \"{\\\"SEARCH_EXPERIMENT_ZERO_STATE_DROPDOWN_VARIANT\\\": \\\"OFF\\\", \\\"SEARCH_WEB_REDESIGN_2023_VARIANT\\\": \\\"OFF\\\", \\\"SEARCH_ALPHA_NATURAL_LANGUAGE_SEARCH_VARIANT\\\": \\\"OFF\\\", \\\"SEARCH_WEB_AI_CONTROL_CENTER_VARIANT\\\": \\\"OFF\\\", \\\"SEARCH_WEB_AI_EARLY_ADOPTER_ENABLED\\\": false, \\\"HTTP3_SUPPORT_ENABLED\\\": false}\");\n",
            "    });\n",
            "});\n",
            "</script><script nonce=\"fs8456E9a314SEKKzhdMq0JB7pc=\">window.addRequireLoadCallback(function() {\n",
            "    window.require([\"js/edison/edison\"], function (edisonModule) {\n",
            "        edisonModule.Edison.registerStreamedPrefetch(\"EsUCCipmaWxlX3ZpZXdlcl9lZGlzb24uRmlsZVZpZXdlckVkaXNvblNlcnZpY2USI1NoYXJlZENvbnRlbnRMaW5rUmVzb2x1dGlvblByZWZldGNoGtUBEtIBUmdodHRwczovL3d3dy5kcm9wYm94LmNvbS9zY2wvZmkvbzR0NmNxNWcxNmplbHoxdjB6MmxqL21vYmlsZV9jbGVhbmVkLmNzdj9ybGtleT1kdzlkaWQ3dHM0MXg0aXdta2ZnejFxbHQyWmdodHRwczovL3d3dy5kcm9wYm94LmNvbS9zY2wvZmkvbzR0NmNxNWcxNmplbHoxdjB6MmxqL21vYmlsZV9jbGVhbmVkLmNzdj9ybGtleT1kdzlkaWQ3dHM0MXg0aXdta2ZnejFxbHQyKgtmaWxlX3ZpZXdlcjINc2NsX29ib2VfZmlsZQ==\", \"GgIIAzIrRHJvcGJveCAtIEZpbGUgRGVsZXRlZCAtIFNpbXBsaWZ5IHlvdXIgbGlmZXITc2hhcmVkX2xpbmtfZGVsZXRlZA==\",  false );\n",
            "    });\n",
            "});\n",
            "</script><script nonce=\"fs8456E9a314SEKKzhdMq0JB7pc=\">window.addRequireLoadCallback(function() {\n",
            "    window.require([\"js/edison/edison\"], function (edisonModule) {\n",
            "        edisonModule.Edison.registerStreamedDataModule(\"metaserver/static/js/modules/constants/file_viewer_feature_experiments\", \"json\", \"{\\\"proto\\\": \\\"igICT066AgNPRkayAwNPRkbiBQNPRkb6BQNPRkaoBgGyBgNPRkbSBgJWMdoGA09GRuIGA09GRuoGA09GRvIGA09GRvoGA09GRpIHA09GRsIHA09GRtoHA09GRoIIA09GRpoIA09GRqoIA09GRroIA09GRsIIA09GRvoIA09GRpIJA09GRqIJAlYzygkCVjHQCQHyCQNPRkaCCgNPRkaKCgNPRkaSCgNPRkaaCgNPRkayCgJWMboKA09GRsIKA09GRsoKAlYx2goCT07iCgNPRkbyCgNPRkb6CgNPRkaCCwNPRkY=\\\"}\");\n",
            "    });\n",
            "});\n",
            "</script><script nonce=\"fs8456E9a314SEKKzhdMq0JB7pc=\">window.addRequireLoadCallback(function() {\n",
            "    window.require([\"js/edison/edison\"], function (edisonModule) {\n",
            "        edisonModule.Edison.registerStreamedDataModule(\"metaserver/static/js/modules/constants/locales\", \"json\", \"{\\\"LIST_OF_LOCALES_WITH_INTERNAL\\\": [{\\\"localeCode\\\": \\\"id\\\", \\\"localeName\\\": \\\"Bahasa Indonesia\\\", \\\"decorator\\\": \\\"\\\"}, {\\\"localeCode\\\": \\\"ms\\\", \\\"localeName\\\": \\\"Bahasa Malaysia\\\", \\\"decorator\\\": \\\"\\\"}, {\\\"localeCode\\\": \\\"da_DK\\\", \\\"localeName\\\": \\\"Dansk\\\", \\\"decorator\\\": \\\"\\\"}, {\\\"localeCode\\\": \\\"de\\\", \\\"localeName\\\": \\\"Deutsch\\\", \\\"decorator\\\": \\\"\\\"}, {\\\"localeCode\\\": \\\"en_GB\\\", \\\"localeName\\\": \\\"English (United Kingdom)\\\", \\\"decorator\\\": \\\"\\\"}, {\\\"localeCode\\\": \\\"en\\\", \\\"localeName\\\": \\\"English (United States)\\\", \\\"decorator\\\": \\\"\\\"}, {\\\"localeCode\\\": \\\"es_ES\\\", \\\"localeName\\\": \\\"Espa\\\\u00f1ol (Espa\\\\u00f1a)\\\", \\\"decorator\\\": \\\"\\\"}, {\\\"localeCode\\\": \\\"es\\\", \\\"localeName\\\": \\\"Espa\\\\u00f1ol (Latinoam\\\\u00e9rica)\\\", \\\"decorator\\\": \\\"\\\"}, {\\\"localeCode\\\": \\\"fr_CA\\\", \\\"localeName\\\": \\\"Fran\\\\u00e7ais (Canada)\\\", \\\"decorator\\\": \\\"\\\"}, {\\\"localeCode\\\": \\\"fr\\\", \\\"localeName\\\": \\\"Fran\\\\u00e7ais (France)\\\", \\\"decorator\\\": \\\"\\\"}, {\\\"localeCode\\\": \\\"it\\\", \\\"localeName\\\": \\\"Italiano\\\", \\\"decorator\\\": \\\"\\\"}, {\\\"localeCode\\\": \\\"nl_NL\\\", \\\"localeName\\\": \\\"Nederlands\\\", \\\"decorator\\\": \\\"\\\"}, {\\\"localeCode\\\": \\\"nb_NO\\\", \\\"localeName\\\": \\\"Norsk (bokm\\\\u00e5l)\\\", \\\"decorator\\\": \\\"\\\"}, {\\\"localeCode\\\": \\\"pl\\\", \\\"localeName\\\": \\\"Polski\\\", \\\"decorator\\\": \\\"\\\"}, {\\\"localeCode\\\": \\\"pt_BR\\\", \\\"localeName\\\": \\\"Portugu\\\\u00eas (Brasil)\\\", \\\"decorator\\\": \\\"\\\"}, {\\\"localeCode\\\": \\\"ru\\\", \\\"localeName\\\": \\\"P\\\\u0443\\\\u0441\\\\u0441\\\\u043a\\\\u0438\\\\u0439\\\", \\\"decorator\\\": \\\"\\\"}, {\\\"localeCode\\\": \\\"sv_SE\\\", \\\"localeName\\\": \\\"Svenska\\\", \\\"decorator\\\": \\\"\\\"}, {\\\"localeCode\\\": \\\"uk_UA\\\", \\\"localeName\\\": \\\"\\\\u0423\\\\u043a\\\\u0440\\\\u0430\\\\u0457\\\\u043d\\\\u0441\\\\u044c\\\\u043a\\\\u0430\\\", \\\"decorator\\\": \\\"\\\"}, {\\\"localeCode\\\": \\\"th_TH\\\", \\\"localeName\\\": \\\"\\\\u0e44\\\\u0e17\\\\u0e22\\\", \\\"decorator\\\": \\\"\\\"}, {\\\"localeCode\\\": \\\"zh_CN\\\", \\\"localeName\\\": \\\"\\\\u4e2d\\\\u6587\\\\uff08\\\\u7b80\\\\u4f53\\\\uff09\\\", \\\"decorator\\\": \\\"\\\"}, {\\\"localeCode\\\": \\\"zh_TW\\\", \\\"localeName\\\": \\\"\\\\u4e2d\\\\u6587\\\\uff08\\\\u7e41\\\\u9ad4\\\\uff09\\\", \\\"decorator\\\": \\\"\\\"}, {\\\"localeCode\\\": \\\"ja\\\", \\\"localeName\\\": \\\"\\\\u65e5\\\\u672c\\\\u8a9e\\\", \\\"decorator\\\": \\\"\\\"}, {\\\"localeCode\\\": \\\"ko\\\", \\\"localeName\\\": \\\"\\\\ud55c\\\\uad6d\\\\uc5b4\\\", \\\"decorator\\\": \\\"\\\"}], \\\"LIST_OF_LOCALES_WITHOUT_INTERNAL\\\": [{\\\"localeCode\\\": \\\"id\\\", \\\"localeName\\\": \\\"Bahasa Indonesia\\\", \\\"decorator\\\": \\\"\\\"}, {\\\"localeCode\\\": \\\"ms\\\", \\\"localeName\\\": \\\"Bahasa Malaysia\\\", \\\"decorator\\\": \\\"\\\"}, {\\\"localeCode\\\": \\\"da_DK\\\", \\\"localeName\\\": \\\"Dansk\\\", \\\"decorator\\\": \\\"\\\"}, {\\\"localeCode\\\": \\\"de\\\", \\\"localeName\\\": \\\"Deutsch\\\", \\\"decorator\\\": \\\"\\\"}, {\\\"localeCode\\\": \\\"en_GB\\\", \\\"localeName\\\": \\\"English (United Kingdom)\\\", \\\"decorator\\\": \\\"\\\"}, {\\\"localeCode\\\": \\\"en\\\", \\\"localeName\\\": \\\"English (United States)\\\", \\\"decorator\\\": \\\"\\\"}, {\\\"localeCode\\\": \\\"es_ES\\\", \\\"localeName\\\": \\\"Espa\\\\u00f1ol (Espa\\\\u00f1a)\\\", \\\"decorator\\\": \\\"\\\"}, {\\\"localeCode\\\": \\\"es\\\", \\\"localeName\\\": \\\"Espa\\\\u00f1ol (Latinoam\\\\u00e9rica)\\\", \\\"decorator\\\": \\\"\\\"}, {\\\"localeCode\\\": \\\"fr_CA\\\", \\\"localeName\\\": \\\"Fran\\\\u00e7ais (Canada)\\\", \\\"decorator\\\": \\\"\\\"}, {\\\"localeCode\\\": \\\"fr\\\", \\\"localeName\\\": \\\"Fran\\\\u00e7ais (France)\\\", \\\"decorator\\\": \\\"\\\"}, {\\\"localeCode\\\": \\\"it\\\", \\\"localeName\\\": \\\"Italiano\\\", \\\"decorator\\\": \\\"\\\"}, {\\\"localeCode\\\": \\\"nl_NL\\\", \\\"localeName\\\": \\\"Nederlands\\\", \\\"decorator\\\": \\\"\\\"}, {\\\"localeCode\\\": \\\"nb_NO\\\", \\\"localeName\\\": \\\"Norsk (bokm\\\\u00e5l)\\\", \\\"decorator\\\": \\\"\\\"}, {\\\"localeCode\\\": \\\"pl\\\", \\\"localeName\\\": \\\"Polski\\\", \\\"decorator\\\": \\\"\\\"}, {\\\"localeCode\\\": \\\"pt_BR\\\", \\\"localeName\\\": \\\"Portugu\\\\u00eas (Brasil)\\\", \\\"decorator\\\": \\\"\\\"}, {\\\"localeCode\\\": \\\"ru\\\", \\\"localeName\\\": \\\"P\\\\u0443\\\\u0441\\\\u0441\\\\u043a\\\\u0438\\\\u0439\\\", \\\"decorator\\\": \\\"\\\"}, {\\\"localeCode\\\": \\\"sv_SE\\\", \\\"localeName\\\": \\\"Svenska\\\", \\\"decorator\\\": \\\"\\\"}, {\\\"localeCode\\\": \\\"uk_UA\\\", \\\"localeName\\\": \\\"\\\\u0423\\\\u043a\\\\u0440\\\\u0430\\\\u0457\\\\u043d\\\\u0441\\\\u044c\\\\u043a\\\\u0430\\\", \\\"decorator\\\": \\\"\\\"}, {\\\"localeCode\\\": \\\"th_TH\\\", \\\"localeName\\\": \\\"\\\\u0e44\\\\u0e17\\\\u0e22\\\", \\\"decorator\\\": \\\"\\\"}, {\\\"localeCode\\\": \\\"zh_CN\\\", \\\"localeName\\\": \\\"\\\\u4e2d\\\\u6587\\\\uff08\\\\u7b80\\\\u4f53\\\\uff09\\\", \\\"decorator\\\": \\\"\\\"}, {\\\"localeCode\\\": \\\"zh_TW\\\", \\\"localeName\\\": \\\"\\\\u4e2d\\\\u6587\\\\uff08\\\\u7e41\\\\u9ad4\\\\uff09\\\", \\\"decorator\\\": \\\"\\\"}, {\\\"localeCode\\\": \\\"ja\\\", \\\"localeName\\\": \\\"\\\\u65e5\\\\u672c\\\\u8a9e\\\", \\\"decorator\\\": \\\"\\\"}, {\\\"localeCode\\\": \\\"ko\\\", \\\"localeName\\\": \\\"\\\\ud55c\\\\uad6d\\\\uc5b4\\\", \\\"decorator\\\": \\\"\\\"}]}\");\n",
            "    });\n",
            "});\n",
            "</script><script nonce=\"fs8456E9a314SEKKzhdMq0JB7pc=\">window.addRequireLoadCallback(function() {\n",
            "    window.require([\"js/edison/edison\"], function (edisonModule) {\n",
            "        edisonModule.Edison.registerStreamedDataModule(\"metaserver/static/js/modules/constants/sharing\", \"json\", \"{\\\"GOLDEN_GATE\\\": {\\\"HAS_CONTENT_MANAGER_AND_SUPER_ADMIN\\\": {}, \\\"HAS_CONTENT_MANAGER_CDM\\\": {}, \\\"HAS_CONTENT_MANAGER_CDM_IN_TSD\\\": {}, \\\"HAS_NEW_OWNERSHIP_MODEL\\\": {}, \\\"CAN_RESTORE_FOLDERS_IN_CM\\\": {}, \\\"SHARING_TOTAL_LIMIT\\\": 1000}, \\\"SHARING_EXPERIMENTS\\\": {\\\"FIX_MAX_ACCOUNT_BATCH_SIZE\\\": false, \\\"SHARED_LINK_ATTRIBUTION_TRACKING\\\": \\\"ON\\\", \\\"NOTIFY_ON_FOLDER_CREATION_VARIANT\\\": {}}, \\\"SHARING_MODAL\\\": {\\\"SHOW_UPGRADE_TO_BIZ_BANNER\\\": {}}, \\\"TRUELINK\\\": {\\\"TRUELINK_BROWSE_LINK_ICON\\\": {}, \\\"NO_COMMENT_ENABLED\\\": {}}, \\\"ShareTibActionOriginType\\\": {\\\"BROWSE_FILE_ROW\\\": 1, \\\"FILE_ROW_SHARE_MENU\\\": 2, \\\"PREVIEW_PAGE\\\": 3, \\\"NOTIFICATION_WEB\\\": 4, \\\"RECENTS\\\": 5, \\\"SHARE\\\": 6, \\\"GRANT_ACCESS\\\": 8, \\\"DESKTOP_CLIENT\\\": 9, \\\"WIZARD\\\": 10, \\\"OFFICE_INTEGRATION\\\": 11, \\\"LEGACY_BROWSE\\\": 12, \\\"SHARE_LINK_MODAL\\\": 13, \\\"BROWSE_SHARED_FOLDER_BANNER\\\": 14, \\\"BROWSE_GLOBAL_ACTIONS\\\": 15, \\\"EVENTS_PAGE\\\": 16, \\\"BROWSE_FILE_ACTIONS\\\": 17, \\\"CONTENT_MANAGER\\\": 18, \\\"PARENT_FOLDER_MODAL\\\": 19, \\\"OUT_OF_QUOTA_MODAL\\\": 20, \\\"LINKS_PAGE\\\": 21, \\\"PREVIEW_PAGE_FACEPILE\\\": 22, \\\"BROWSE_FACEPILE\\\": 23, \\\"SHARE_PAGE_FROM_EMAIL\\\": 24, \\\"SHARE_PAGE_FROM_NOTIFICATION_WEB\\\": 25, \\\"COPY_SCL_LINK_MODAL\\\": 26, \\\"BROWSE_NEW_FOLDER_MODAL\\\": 27, \\\"STARRED\\\": 28, \\\"AUTO_MOUNT\\\": 29, \\\"BROWSE_FILE_ROW_BUTTON\\\": 30, \\\"BROWSE_FILE_ROW_OVERFLOW_MENU\\\": 31, \\\"EXTERNAL_SHARING_PAGE\\\": 32, \\\"SHARE_TO_UPLOAD\\\": 35, \\\"COPY_LINK_FROM_UPLOAD_MODAL\\\": 36, \\\"SHARING_PREVIEW_PAGE\\\": 37, \\\"SHARE_PAGE_INLINE\\\": 38, \\\"POST_DOWNLOAD_MODAL\\\": 40, \\\"FILE_REQUESTS\\\": 42, \\\"BROWSE_COPY_ACTION\\\": 43, \\\"BROWSE_MOVE_ACTION\\\": 44, \\\"FROM_EMAIL\\\": 45, \\\"REQUEST_ACCESS_MODAL\\\": 46, \\\"CREATE_SHARED_FOLDER_MODAL\\\": 47, \\\"DEFAULT_SHARING_SETTINGS_TAB\\\": 48, \\\"SAVE_TO_DROPBOX\\\": 49, \\\"PREVIEW_PAGE_FILE_ROW_OVERFLOW_MENU\\\": 50, \\\"PREVIEW_PAGE_FILE_ROW_BUTTON\\\": 51, \\\"JOIN_FOLDER_BUTTON\\\": 52, \\\"PREVIEW_PAGE_GRID_SINGLE_FILE_ACTION\\\": 53, \\\"PREVIEW_PAGE_TITLEBAR\\\": 54, \\\"BROWSE_SHARE_ACTION_FILE_CHOOSER\\\": 55, \\\"QUICK_VIEW_BROWSE\\\": 56, \\\"QUICK_VIEW_SEARCH\\\": 57, \\\"BROWSE_CONTENT_TILE\\\": 58, \\\"SEARCH_CONTENT_TILE\\\": 59, \\\"SUGGESTIONS_CONTENT_TILE\\\": 60, \\\"BROWSE_CONTENT_TILE_BUTTON\\\": 61, \\\"SEARCH_CONTENT_TILE_BUTTON\\\": 62, \\\"HARMONY\\\": 101, \\\"NOTIFICATION_CLIENT\\\": 102, \\\"NATIVE_SHARE_CLIENT\\\": 103, \\\"FILESYSTEM\\\": 104, \\\"NOTIFICATION_MOBILE\\\": 201, \\\"WEB_MOBILE\\\": 202, \\\"IN_APP\\\": 210, \\\"EMAIL\\\": 301, \\\"GMAIL_PLUGIN\\\": 302, \\\"OUTLOOK_ADDIN\\\": 303, \\\"PAPER_INTEGRATION\\\": 401, \\\"GOOGLE_DSS\\\": 501, \\\"TRELLO_FILE_VIEWER\\\": 601, \\\"SHARING_SDK_SANDBOX\\\": 700, \\\"SHARING_SDK_PAPER\\\": 701, \\\"SHARING_SDK_DESKTOP\\\": 702, \\\"CONTROLLED_ACCESS_SU_BANNER\\\": 803, \\\"QUICK_REACT\\\": 810, \\\"COLLECTIONS\\\": 903, \\\"SIGN_UP_WELCOME_MODAL\\\": 1000, \\\"FLEXIBLE_SHARING_ENTRYPOINT\\\": 1050, \\\"SIMPLE_COPY_LINK_FILE_PREVIEW\\\": 1100, \\\"DOWNLOAD_BUTTON\\\": 1101, \\\"ACTION_CONTINUATION\\\": 1102, \\\"SIMPLE_COPY_LINK_FOLDER_PREVIEW\\\": 1103, \\\"LEFT_NAV_ONBOARDING_CHECKLIST\\\": 1104, \\\"UPLOAD_DRAWER\\\": 1105, \\\"PREVIEW_AUTO_SAVE\\\": 1106, \\\"COPY_LINK_MINI_MODAL\\\": 1107, \\\"ONBOARDING_SHARE_SLIDE\\\": 1108, \\\"BROWSE_FILE_ACTIONS_BUTTON\\\": 1109, \\\"RELATED_FILES\\\": 1110, \\\"QUICK_VIEW_BROWSE_CONTENT_TILE\\\": 1111, \\\"QUICK_VIEW_SEARCH_CONTENT_TILE\\\": 1112, \\\"BRANDED_SHARING\\\": 1113}}\");\n",
            "    });\n",
            "});\n",
            "</script><script nonce=\"fs8456E9a314SEKKzhdMq0JB7pc=\">window.addRequireLoadCallback(function() {\n",
            "    window.require([\"js/edison/edison\"], function (edisonModule) {\n",
            "        edisonModule.Edison.registerStreamedPrefetch(\"EqgCCiJmaW5nZXJwcmludGpzLkZpbmdlclByaW50SlNTZXJ2aWNlEg5GZXRjaENvbnN0YW50cxrVARLSAVJnaHR0cHM6Ly93d3cuZHJvcGJveC5jb20vc2NsL2ZpL280dDZjcTVnMTZqZWx6MXYwejJsai9tb2JpbGVfY2xlYW5lZC5jc3Y/cmxrZXk9ZHc5ZGlkN3RzNDF4NGl3bWtmZ3oxcWx0MlpnaHR0cHM6Ly93d3cuZHJvcGJveC5jb20vc2NsL2ZpL280dDZjcTVnMTZqZWx6MXYwejJsai9tb2JpbGVfY2xlYW5lZC5jc3Y/cmxrZXk9ZHc5ZGlkN3RzNDF4NGl3bWtmZ3oxcWx0MioLZmlsZV92aWV3ZXIyDXNjbF9vYm9lX2ZpbGU=\", \"ChRoU3JnVkVqczNhbXhMb2xvY1ExOBABGgJ1cw==\",  false );\n",
            "    });\n",
            "});\n",
            "</script><script nonce=\"fs8456E9a314SEKKzhdMq0JB7pc=\">window.addRequireLoadCallback(function() {\n",
            "    window.require([\"js/edison/edison\"], function (edisonModule) {\n",
            "        edisonModule.Edison.doneStreaming();\n",
            "    });\n",
            "});\n",
            "</script><script nonce=\"fs8456E9a314SEKKzhdMq0JB7pc=\" async src=\"/page_success/end?edison_page_name=scl_oboe_file&amp;path=%2Fscl%2Ffi%2Fo4t6cq5g16jelz1v0z2lj%2Fmobile_cleaned.csv&amp;request_id=e8d91fbb9e1140fca19769ca02d38d91&amp;time=1719388858\" crossorigin=\"anonymous\"></script>\n",
            "</body></html><!--status=200-->\n"
          ]
        }
      ]
    },
    {
      "cell_type": "code",
      "source": [
        "!echo 'Hello'>my_first_file_output.txt"
      ],
      "metadata": {
        "id": "XE--mFLylsHI"
      },
      "execution_count": null,
      "outputs": []
    },
    {
      "cell_type": "code",
      "source": [
        "\n",
        "with open('my_first_file_output.txt','w') as file:\n",
        "    file.write(\"Hello world from python code\")\n"
      ],
      "metadata": {
        "id": "Ys6u2TCtlFVa"
      },
      "execution_count": null,
      "outputs": []
    },
    {
      "cell_type": "code",
      "source": [
        "!cat my_first_file_output.txt"
      ],
      "metadata": {
        "colab": {
          "base_uri": "https://localhost:8080/"
        },
        "id": "Pd98neY0mb5e",
        "outputId": "bf5b1ae3-bce3-4875-acc8-0d5d3c61d6f9"
      },
      "execution_count": null,
      "outputs": [
        {
          "output_type": "stream",
          "name": "stdout",
          "text": [
            "Hello world from python code"
          ]
        }
      ]
    },
    {
      "cell_type": "code",
      "source": [],
      "metadata": {
        "id": "J_w9NPejmi68"
      },
      "execution_count": null,
      "outputs": []
    },
    {
      "cell_type": "markdown",
      "source": [
        "#Python classes"
      ],
      "metadata": {
        "id": "sLGy8Cz3m6og"
      }
    },
    {
      "cell_type": "code",
      "source": [
        "class MobilePhone:\n",
        "  \"\"\"\n",
        "  This class represents a mobile phone\n",
        "  \"\"\"\n",
        "  def __init__(self,name,is_android=False,screen_size=4.3):\n",
        "    self.name=name\n",
        "    self.is_android=is_android\n",
        "    self.screen_size=screen_size\n",
        "    self.rating=-1;\n",
        "\n",
        "  def has_rating(self):\n",
        "      return self.rating>-1\n",
        "\n"
      ],
      "metadata": {
        "id": "8NmAQoJfm9cR"
      },
      "execution_count": null,
      "outputs": []
    },
    {
      "cell_type": "code",
      "source": [
        "new_phone=MobilePhone('i phone 5s')"
      ],
      "metadata": {
        "id": "aB-77PfPnAKZ"
      },
      "execution_count": null,
      "outputs": []
    },
    {
      "cell_type": "code",
      "source": [
        "type(new_phone)"
      ],
      "metadata": {
        "colab": {
          "base_uri": "https://localhost:8080/",
          "height": 103
        },
        "id": "Q9f8UDGSnEC6",
        "outputId": "56e6fd3f-a282-4cf8-9dd7-3f327872ba88"
      },
      "execution_count": null,
      "outputs": [
        {
          "output_type": "execute_result",
          "data": {
            "text/plain": [
              "__main__.MobilePhone"
            ],
            "text/html": [
              "<div style=\"max-width:800px; border: 1px solid var(--colab-border-color);\"><style>\n",
              "      pre.function-repr-contents {\n",
              "        overflow-x: auto;\n",
              "        padding: 8px 12px;\n",
              "        max-height: 500px;\n",
              "      }\n",
              "\n",
              "      pre.function-repr-contents.function-repr-contents-collapsed {\n",
              "        cursor: pointer;\n",
              "        max-height: 100px;\n",
              "      }\n",
              "    </style>\n",
              "    <pre style=\"white-space: initial; background:\n",
              "         var(--colab-secondary-surface-color); padding: 8px 12px;\n",
              "         border-bottom: 1px solid var(--colab-border-color);\"><b>MobilePhone</b><br/>def __init__(name, is_android=False, screen_size=4.3)</pre><pre class=\"function-repr-contents function-repr-contents-collapsed\" style=\"\"><a class=\"filepath\" style=\"display:none\" href=\"#\"></a>This class represents a mobile phone</pre></div>"
            ]
          },
          "metadata": {},
          "execution_count": 206
        }
      ]
    },
    {
      "cell_type": "code",
      "source": [
        "print(new_phone.name,new_phone.is_android,new_phone.screen_size)"
      ],
      "metadata": {
        "colab": {
          "base_uri": "https://localhost:8080/"
        },
        "id": "-Lpe0v7ZnKcc",
        "outputId": "6d26c84c-7906-4f48-ec08-4cfb7ec5865f"
      },
      "execution_count": null,
      "outputs": [
        {
          "output_type": "stream",
          "name": "stdout",
          "text": [
            "i phone 5s False 4.3\n"
          ]
        }
      ]
    },
    {
      "cell_type": "code",
      "source": [
        "new_phone.has_rating()"
      ],
      "metadata": {
        "colab": {
          "base_uri": "https://localhost:8080/"
        },
        "id": "Em4f6czen_Iu",
        "outputId": "6cf372c5-2a10-4f2a-fa06-e2255d33f422"
      },
      "execution_count": null,
      "outputs": [
        {
          "output_type": "execute_result",
          "data": {
            "text/plain": [
              "False"
            ]
          },
          "metadata": {},
          "execution_count": 208
        }
      ]
    },
    {
      "cell_type": "code",
      "source": [
        "new_phone.rating=3.9"
      ],
      "metadata": {
        "id": "X7TpCDu6ok_m"
      },
      "execution_count": null,
      "outputs": []
    },
    {
      "cell_type": "code",
      "source": [
        "new_phone.has_rating()"
      ],
      "metadata": {
        "colab": {
          "base_uri": "https://localhost:8080/"
        },
        "id": "7gd8PPP9oxEH",
        "outputId": "0137ae73-ec2a-46c2-f166-7a9416e1f010"
      },
      "execution_count": null,
      "outputs": [
        {
          "output_type": "execute_result",
          "data": {
            "text/plain": [
              "True"
            ]
          },
          "metadata": {},
          "execution_count": 210
        }
      ]
    },
    {
      "cell_type": "code",
      "source": [
        "MobilePhone.__doc__"
      ],
      "metadata": {
        "colab": {
          "base_uri": "https://localhost:8080/",
          "height": 35
        },
        "id": "3AV0rkYioy2Y",
        "outputId": "b18172f2-2adb-49f3-e214-88e912fbf457"
      },
      "execution_count": null,
      "outputs": [
        {
          "output_type": "execute_result",
          "data": {
            "text/plain": [
              "'\\n  This class represents a mobile phone\\n  '"
            ],
            "application/vnd.google.colaboratory.intrinsic+json": {
              "type": "string"
            }
          },
          "metadata": {},
          "execution_count": 211
        }
      ]
    },
    {
      "cell_type": "code",
      "source": [
        "class iPhone(MobilePhone):\n",
        "  def __init__(self,name):\n",
        "    MobilePhone.__init__(self,name,False,4)\n",
        "  def __str__(self):\n",
        "    return self.name+\" \"+str(self.is_android)+\" \"+str(self.screen_size)"
      ],
      "metadata": {
        "id": "RS0PPw4lpFkD"
      },
      "execution_count": null,
      "outputs": []
    },
    {
      "cell_type": "code",
      "source": [
        "new_iphone=iPhone('iPhone 5s')\n"
      ],
      "metadata": {
        "id": "8o0yuOfbpbZm"
      },
      "execution_count": null,
      "outputs": []
    },
    {
      "cell_type": "code",
      "source": [
        "new_iphone.is_android"
      ],
      "metadata": {
        "colab": {
          "base_uri": "https://localhost:8080/"
        },
        "id": "v80BM4kQphVQ",
        "outputId": "1e4df173-518d-4db5-a01b-25495d8c1f4d"
      },
      "execution_count": null,
      "outputs": [
        {
          "output_type": "execute_result",
          "data": {
            "text/plain": [
              "False"
            ]
          },
          "metadata": {},
          "execution_count": 221
        }
      ]
    },
    {
      "cell_type": "code",
      "source": [
        "print(new_iphone)"
      ],
      "metadata": {
        "colab": {
          "base_uri": "https://localhost:8080/"
        },
        "id": "UJQRulnnpkup",
        "outputId": "7bcab80a-7e88-46cb-df7e-cd0c4546b650"
      },
      "execution_count": null,
      "outputs": [
        {
          "output_type": "stream",
          "name": "stdout",
          "text": [
            "iPhone 5s False 4\n"
          ]
        }
      ]
    },
    {
      "cell_type": "code",
      "source": [],
      "metadata": {
        "id": "XUT9e_dAp3UA"
      },
      "execution_count": null,
      "outputs": []
    }
  ]
}