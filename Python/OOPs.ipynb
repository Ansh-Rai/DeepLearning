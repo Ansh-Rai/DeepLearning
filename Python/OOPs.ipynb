{
  "nbformat": 4,
  "nbformat_minor": 0,
  "metadata": {
    "colab": {
      "provenance": []
    },
    "kernelspec": {
      "name": "python3",
      "display_name": "Python 3"
    },
    "language_info": {
      "name": "python"
    }
  },
  "cells": [
    {
      "cell_type": "code",
      "execution_count": 2,
      "metadata": {
        "id": "Kf_r7XRqQHPx"
      },
      "outputs": [],
      "source": [
        "#object oriented programming\n",
        "class Car:\n",
        "  total_car=0\n",
        "\n",
        "  def __init__(self,brand, model):\n",
        "    self.__brand=brand\n",
        "    self.__model=model\n",
        "    Car.total_car+=1\n",
        "    ##__means private variable\n",
        "  ##_init_-->constructor\n",
        "  def get_brand(self):\n",
        "    return self.__brand + \"!\"\n",
        "  def full_name(self):\n",
        "    return f\"{self.__brand }{self.__model}\"\n",
        "  def fuel_type(self):\n",
        "    return \"Petrol or Diesel\"\n",
        "\n",
        "  @staticmethod #decorators\n",
        "  def genral_description():\n",
        "    return \"Cars are means of transport\"\n",
        "  @property\n",
        "  def model(self):\n",
        "    return self.__model\n",
        "\n"
      ]
    },
    {
      "cell_type": "code",
      "source": [
        "my_car=Car(\"Toyota\",\"Corolla\")\n",
        "# print(my_car.brand)\n",
        "print(my_car.model)\n",
        "print(my_car.full_name())"
      ],
      "metadata": {
        "colab": {
          "base_uri": "https://localhost:8080/"
        },
        "id": "yD8cRJENVrWI",
        "outputId": "99b57cf8-1cf4-4222-a0d9-770acc77684a"
      },
      "execution_count": 3,
      "outputs": [
        {
          "output_type": "stream",
          "name": "stdout",
          "text": [
            "Corolla\n",
            "ToyotaCorolla\n"
          ]
        }
      ]
    },
    {
      "cell_type": "code",
      "source": [
        "my_new_car=Car(\"Tata\",\"Safari\")\n",
        "print(my_new_car.model)"
      ],
      "metadata": {
        "colab": {
          "base_uri": "https://localhost:8080/"
        },
        "id": "gE1AtPgUV09L",
        "outputId": "5e07ac1f-0224-4e78-ef9b-12997bda5738"
      },
      "execution_count": 4,
      "outputs": [
        {
          "output_type": "stream",
          "name": "stdout",
          "text": [
            "Safari\n"
          ]
        }
      ]
    },
    {
      "cell_type": "code",
      "source": [
        "class ElectricCar(Car):\n",
        "  def __init__(self,brand,model,battery_size):\n",
        "    super().__init__(brand, model)\n",
        "    self.battery_size=battery_size\n",
        "  def fuel_type(self):\n",
        "    return \"Petrol or Diesel\"\n",
        "\n"
      ],
      "metadata": {
        "id": "-j4FFMPVXqyD"
      },
      "execution_count": 5,
      "outputs": []
    },
    {
      "cell_type": "code",
      "source": [
        "my_tesla=ElectricCar(\"Tesla\",\"Model S\",\"*5kwh\")\n",
        "print(my_tesla.model)\n",
        "my_tesla.full_name()"
      ],
      "metadata": {
        "colab": {
          "base_uri": "https://localhost:8080/",
          "height": 53
        },
        "id": "_ypUqMKnaYwl",
        "outputId": "e3bc66fe-6bd8-4f3a-974c-d25cb2757867"
      },
      "execution_count": 6,
      "outputs": [
        {
          "output_type": "stream",
          "name": "stdout",
          "text": [
            "Model S\n"
          ]
        },
        {
          "output_type": "execute_result",
          "data": {
            "text/plain": [
              "'TeslaModel S'"
            ],
            "application/vnd.google.colaboratory.intrinsic+json": {
              "type": "string"
            }
          },
          "metadata": {},
          "execution_count": 6
        }
      ]
    },
    {
      "cell_type": "code",
      "source": [
        "# print(my_tesla.__brand)\n",
        "print(my_tesla.fuel_type())\n",
        "my_Car=Car(\"Tata\",\"Safari\")\n",
        "#my_Car.model=\"City\"\n",
        "print(my_Car.model)\n"
      ],
      "metadata": {
        "colab": {
          "base_uri": "https://localhost:8080/"
        },
        "id": "FvlcMjFZasQa",
        "outputId": "11a8c180-6960-4a33-8996-0b5ab979794e"
      },
      "execution_count": 7,
      "outputs": [
        {
          "output_type": "stream",
          "name": "stdout",
          "text": [
            "Petrol or Diesel\n",
            "Safari\n"
          ]
        }
      ]
    },
    {
      "cell_type": "code",
      "source": [
        "isinstance(my_tesla,Car)\n",
        "isinstance(my_tesla,ElectricCar)\n",
        "\n"
      ],
      "metadata": {
        "colab": {
          "base_uri": "https://localhost:8080/"
        },
        "id": "jk3vrbpyb6Ny",
        "outputId": "becf44ff-0b67-4b71-9251-f756e792cdf0"
      },
      "execution_count": 8,
      "outputs": [
        {
          "output_type": "execute_result",
          "data": {
            "text/plain": [
              "True"
            ]
          },
          "metadata": {},
          "execution_count": 8
        }
      ]
    },
    {
      "cell_type": "code",
      "source": [
        "class hello:\n",
        "    def __init__(self, name2):\n",
        "        self.name2 = name2\n",
        "        print(self.name2, \" \")\n",
        "\n",
        "class world:\n",
        "    def __init__(self, name1):\n",
        "        self.name1 = name1\n",
        "        print(self.name1, \" \")\n",
        "\n",
        "class Prnt(hello, world):\n",
        "    def __init__(self, name1, name2):\n",
        "        # Incorrect: Not passing self to the parent constructors\n",
        "        hello.__init__(self,name2)\n",
        "        world.__init__(self,name1)\n",
        "\n",
        "ans = Prnt(\"hello\", \"world\")\n",
        "print(ans.name1 + ans.name2)\n"
      ],
      "metadata": {
        "id": "4VI8kVM3nioW",
        "colab": {
          "base_uri": "https://localhost:8080/"
        },
        "outputId": "51ac9f46-c590-438a-f4a5-010d93310d43"
      },
      "execution_count": 16,
      "outputs": [
        {
          "output_type": "stream",
          "name": "stdout",
          "text": [
            "world  \n",
            "hello  \n",
            "helloworld\n"
          ]
        }
      ]
    },
    {
      "cell_type": "code",
      "source": [],
      "metadata": {
        "id": "3ZJQbEZYntbl"
      },
      "execution_count": 12,
      "outputs": []
    }
  ]
}